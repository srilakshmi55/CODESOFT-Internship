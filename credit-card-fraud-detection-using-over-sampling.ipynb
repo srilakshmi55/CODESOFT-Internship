{
 "cells": [
  {
   "cell_type": "markdown",
   "id": "7baef851",
   "metadata": {
    "papermill": {
     "duration": 0.014113,
     "end_time": "2023-08-08T14:42:19.822563",
     "exception": false,
     "start_time": "2023-08-08T14:42:19.808450",
     "status": "completed"
    },
    "tags": []
   },
   "source": [
    "**About the dataset:**\n",
    "\n",
    "In this dataset, there are transactions recorded over a period of two days, consisting of 492 instances of fraud out of a total of 284,807 transactions. The dataset exhibits a significant class imbalance, with the positive class (frauds) comprising only 0.172% of all transactions."
   ]
  },
  {
   "cell_type": "markdown",
   "id": "d2d84a5e",
   "metadata": {
    "papermill": {
     "duration": 0.013574,
     "end_time": "2023-08-08T14:42:19.849510",
     "exception": false,
     "start_time": "2023-08-08T14:42:19.835936",
     "status": "completed"
    },
    "tags": []
   },
   "source": [
    "**Target variable:**\n",
    "\n",
    "**'Class'**: This is a binary variable where 0 represents \"Not fraud\" and 1 represents \"Fraud\"."
   ]
  },
  {
   "cell_type": "markdown",
   "id": "844703c9",
   "metadata": {
    "papermill": {
     "duration": 0.015281,
     "end_time": "2023-08-08T14:42:19.878716",
     "exception": false,
     "start_time": "2023-08-08T14:42:19.863435",
     "status": "completed"
    },
    "tags": []
   },
   "source": [
    "**Feature variables:**\n",
    "\n",
    "**Time'**: The seconds elapsed between each transaction and the first transaction in the dataset.\n",
    "\n",
    "**'Amount'**: The transaction amount.\n",
    "\n",
    "**'V1', 'V2', ..., 'V28'**: The principal components resulting from the PCA transformation. Due to confidentiality reasons, the original features and additional background information about the data cannot be provided."
   ]
  },
  {
   "cell_type": "code",
   "execution_count": 1,
   "id": "8532c5e7",
   "metadata": {
    "execution": {
     "iopub.execute_input": "2023-08-08T14:42:19.907945Z",
     "iopub.status.busy": "2023-08-08T14:42:19.906995Z",
     "iopub.status.idle": "2023-08-08T14:42:19.912313Z",
     "shell.execute_reply": "2023-08-08T14:42:19.911469Z"
    },
    "papermill": {
     "duration": 0.023078,
     "end_time": "2023-08-08T14:42:19.915452",
     "exception": false,
     "start_time": "2023-08-08T14:42:19.892374",
     "status": "completed"
    },
    "tags": []
   },
   "outputs": [],
   "source": [
    "#load the data"
   ]
  },
  {
   "cell_type": "code",
   "execution_count": 2,
   "id": "788afa2a",
   "metadata": {
    "_cell_guid": "b1076dfc-b9ad-4769-8c92-a6c4dae69d19",
    "_uuid": "8f2839f25d086af736a60e9eeb907d3b93b6e0e5",
    "execution": {
     "iopub.execute_input": "2023-08-08T14:42:19.944225Z",
     "iopub.status.busy": "2023-08-08T14:42:19.943721Z",
     "iopub.status.idle": "2023-08-08T14:42:19.960673Z",
     "shell.execute_reply": "2023-08-08T14:42:19.959830Z"
    },
    "papermill": {
     "duration": 0.0343,
     "end_time": "2023-08-08T14:42:19.962978",
     "exception": false,
     "start_time": "2023-08-08T14:42:19.928678",
     "status": "completed"
    },
    "tags": []
   },
   "outputs": [
    {
     "name": "stdout",
     "output_type": "stream",
     "text": [
      "/kaggle/input/creditcardfraud/creditcard.csv\n"
     ]
    }
   ],
   "source": [
    "# This Python 3 environment comes with many helpful analytics libraries installed\n",
    "# It is defined by the kaggle/python Docker image: https://github.com/kaggle/docker-python\n",
    "# For example, here's several helpful packages to load\n",
    "\n",
    "import numpy as np # linear algebra\n",
    "import pandas as pd # data processing, CSV file I/O (e.g. pd.read_csv)\n",
    "\n",
    "# Input data files are available in the read-only \"../input/\" directory\n",
    "# For example, running this (by clicking run or pressing Shift+Enter) will list all files under the input directory\n",
    "\n",
    "import os\n",
    "for dirname, _, filenames in os.walk('/kaggle/input'):\n",
    "    for filename in filenames:\n",
    "        print(os.path.join(dirname, filename))\n",
    "\n",
    "# You can write up to 20GB to the current directory (/kaggle/working/) that gets preserved as output when you create a version using \"Save & Run All\" \n",
    "# You can also write temporary files to /kaggle/temp/, but they won't be saved outside of the current session"
   ]
  },
  {
   "cell_type": "code",
   "execution_count": 3,
   "id": "39eb4dc7",
   "metadata": {
    "execution": {
     "iopub.execute_input": "2023-08-08T14:42:19.993562Z",
     "iopub.status.busy": "2023-08-08T14:42:19.992737Z",
     "iopub.status.idle": "2023-08-08T14:42:23.437702Z",
     "shell.execute_reply": "2023-08-08T14:42:23.436693Z"
    },
    "papermill": {
     "duration": 3.464248,
     "end_time": "2023-08-08T14:42:23.440784",
     "exception": false,
     "start_time": "2023-08-08T14:42:19.976536",
     "status": "completed"
    },
    "tags": []
   },
   "outputs": [],
   "source": [
    "df = pd.read_csv(\"/kaggle/input/creditcardfraud/creditcard.csv\")"
   ]
  },
  {
   "cell_type": "code",
   "execution_count": 4,
   "id": "3feae73f",
   "metadata": {
    "execution": {
     "iopub.execute_input": "2023-08-08T14:42:23.469889Z",
     "iopub.status.busy": "2023-08-08T14:42:23.469554Z",
     "iopub.status.idle": "2023-08-08T14:42:23.499572Z",
     "shell.execute_reply": "2023-08-08T14:42:23.498547Z"
    },
    "papermill": {
     "duration": 0.04732,
     "end_time": "2023-08-08T14:42:23.502193",
     "exception": false,
     "start_time": "2023-08-08T14:42:23.454873",
     "status": "completed"
    },
    "tags": []
   },
   "outputs": [
    {
     "data": {
      "text/html": [
       "<div>\n",
       "<style scoped>\n",
       "    .dataframe tbody tr th:only-of-type {\n",
       "        vertical-align: middle;\n",
       "    }\n",
       "\n",
       "    .dataframe tbody tr th {\n",
       "        vertical-align: top;\n",
       "    }\n",
       "\n",
       "    .dataframe thead th {\n",
       "        text-align: right;\n",
       "    }\n",
       "</style>\n",
       "<table border=\"1\" class=\"dataframe\">\n",
       "  <thead>\n",
       "    <tr style=\"text-align: right;\">\n",
       "      <th></th>\n",
       "      <th>Time</th>\n",
       "      <th>V1</th>\n",
       "      <th>V2</th>\n",
       "      <th>V3</th>\n",
       "      <th>V4</th>\n",
       "      <th>V5</th>\n",
       "      <th>V6</th>\n",
       "      <th>V7</th>\n",
       "      <th>V8</th>\n",
       "      <th>V9</th>\n",
       "      <th>...</th>\n",
       "      <th>V21</th>\n",
       "      <th>V22</th>\n",
       "      <th>V23</th>\n",
       "      <th>V24</th>\n",
       "      <th>V25</th>\n",
       "      <th>V26</th>\n",
       "      <th>V27</th>\n",
       "      <th>V28</th>\n",
       "      <th>Amount</th>\n",
       "      <th>Class</th>\n",
       "    </tr>\n",
       "  </thead>\n",
       "  <tbody>\n",
       "    <tr>\n",
       "      <th>0</th>\n",
       "      <td>0.0</td>\n",
       "      <td>-1.359807</td>\n",
       "      <td>-0.072781</td>\n",
       "      <td>2.536347</td>\n",
       "      <td>1.378155</td>\n",
       "      <td>-0.338321</td>\n",
       "      <td>0.462388</td>\n",
       "      <td>0.239599</td>\n",
       "      <td>0.098698</td>\n",
       "      <td>0.363787</td>\n",
       "      <td>...</td>\n",
       "      <td>-0.018307</td>\n",
       "      <td>0.277838</td>\n",
       "      <td>-0.110474</td>\n",
       "      <td>0.066928</td>\n",
       "      <td>0.128539</td>\n",
       "      <td>-0.189115</td>\n",
       "      <td>0.133558</td>\n",
       "      <td>-0.021053</td>\n",
       "      <td>149.62</td>\n",
       "      <td>0</td>\n",
       "    </tr>\n",
       "    <tr>\n",
       "      <th>1</th>\n",
       "      <td>0.0</td>\n",
       "      <td>1.191857</td>\n",
       "      <td>0.266151</td>\n",
       "      <td>0.166480</td>\n",
       "      <td>0.448154</td>\n",
       "      <td>0.060018</td>\n",
       "      <td>-0.082361</td>\n",
       "      <td>-0.078803</td>\n",
       "      <td>0.085102</td>\n",
       "      <td>-0.255425</td>\n",
       "      <td>...</td>\n",
       "      <td>-0.225775</td>\n",
       "      <td>-0.638672</td>\n",
       "      <td>0.101288</td>\n",
       "      <td>-0.339846</td>\n",
       "      <td>0.167170</td>\n",
       "      <td>0.125895</td>\n",
       "      <td>-0.008983</td>\n",
       "      <td>0.014724</td>\n",
       "      <td>2.69</td>\n",
       "      <td>0</td>\n",
       "    </tr>\n",
       "    <tr>\n",
       "      <th>2</th>\n",
       "      <td>1.0</td>\n",
       "      <td>-1.358354</td>\n",
       "      <td>-1.340163</td>\n",
       "      <td>1.773209</td>\n",
       "      <td>0.379780</td>\n",
       "      <td>-0.503198</td>\n",
       "      <td>1.800499</td>\n",
       "      <td>0.791461</td>\n",
       "      <td>0.247676</td>\n",
       "      <td>-1.514654</td>\n",
       "      <td>...</td>\n",
       "      <td>0.247998</td>\n",
       "      <td>0.771679</td>\n",
       "      <td>0.909412</td>\n",
       "      <td>-0.689281</td>\n",
       "      <td>-0.327642</td>\n",
       "      <td>-0.139097</td>\n",
       "      <td>-0.055353</td>\n",
       "      <td>-0.059752</td>\n",
       "      <td>378.66</td>\n",
       "      <td>0</td>\n",
       "    </tr>\n",
       "  </tbody>\n",
       "</table>\n",
       "<p>3 rows × 31 columns</p>\n",
       "</div>"
      ],
      "text/plain": [
       "   Time        V1        V2        V3        V4        V5        V6        V7  \\\n",
       "0   0.0 -1.359807 -0.072781  2.536347  1.378155 -0.338321  0.462388  0.239599   \n",
       "1   0.0  1.191857  0.266151  0.166480  0.448154  0.060018 -0.082361 -0.078803   \n",
       "2   1.0 -1.358354 -1.340163  1.773209  0.379780 -0.503198  1.800499  0.791461   \n",
       "\n",
       "         V8        V9  ...       V21       V22       V23       V24       V25  \\\n",
       "0  0.098698  0.363787  ... -0.018307  0.277838 -0.110474  0.066928  0.128539   \n",
       "1  0.085102 -0.255425  ... -0.225775 -0.638672  0.101288 -0.339846  0.167170   \n",
       "2  0.247676 -1.514654  ...  0.247998  0.771679  0.909412 -0.689281 -0.327642   \n",
       "\n",
       "        V26       V27       V28  Amount  Class  \n",
       "0 -0.189115  0.133558 -0.021053  149.62      0  \n",
       "1  0.125895 -0.008983  0.014724    2.69      0  \n",
       "2 -0.139097 -0.055353 -0.059752  378.66      0  \n",
       "\n",
       "[3 rows x 31 columns]"
      ]
     },
     "execution_count": 4,
     "metadata": {},
     "output_type": "execute_result"
    }
   ],
   "source": [
    "df.head(3)"
   ]
  },
  {
   "cell_type": "code",
   "execution_count": 5,
   "id": "9b3c06db",
   "metadata": {
    "execution": {
     "iopub.execute_input": "2023-08-08T14:42:23.531242Z",
     "iopub.status.busy": "2023-08-08T14:42:23.530978Z",
     "iopub.status.idle": "2023-08-08T14:42:23.536296Z",
     "shell.execute_reply": "2023-08-08T14:42:23.535448Z"
    },
    "papermill": {
     "duration": 0.021722,
     "end_time": "2023-08-08T14:42:23.538199",
     "exception": false,
     "start_time": "2023-08-08T14:42:23.516477",
     "status": "completed"
    },
    "tags": []
   },
   "outputs": [
    {
     "data": {
      "text/plain": [
       "(284807, 31)"
      ]
     },
     "execution_count": 5,
     "metadata": {},
     "output_type": "execute_result"
    }
   ],
   "source": [
    "df.shape"
   ]
  },
  {
   "cell_type": "code",
   "execution_count": 6,
   "id": "e6ef6b5f",
   "metadata": {
    "execution": {
     "iopub.execute_input": "2023-08-08T14:42:23.567390Z",
     "iopub.status.busy": "2023-08-08T14:42:23.567131Z",
     "iopub.status.idle": "2023-08-08T14:42:23.599591Z",
     "shell.execute_reply": "2023-08-08T14:42:23.598702Z"
    },
    "papermill": {
     "duration": 0.049946,
     "end_time": "2023-08-08T14:42:23.602005",
     "exception": false,
     "start_time": "2023-08-08T14:42:23.552059",
     "status": "completed"
    },
    "tags": []
   },
   "outputs": [
    {
     "name": "stdout",
     "output_type": "stream",
     "text": [
      "<class 'pandas.core.frame.DataFrame'>\n",
      "RangeIndex: 284807 entries, 0 to 284806\n",
      "Data columns (total 31 columns):\n",
      " #   Column  Non-Null Count   Dtype  \n",
      "---  ------  --------------   -----  \n",
      " 0   Time    284807 non-null  float64\n",
      " 1   V1      284807 non-null  float64\n",
      " 2   V2      284807 non-null  float64\n",
      " 3   V3      284807 non-null  float64\n",
      " 4   V4      284807 non-null  float64\n",
      " 5   V5      284807 non-null  float64\n",
      " 6   V6      284807 non-null  float64\n",
      " 7   V7      284807 non-null  float64\n",
      " 8   V8      284807 non-null  float64\n",
      " 9   V9      284807 non-null  float64\n",
      " 10  V10     284807 non-null  float64\n",
      " 11  V11     284807 non-null  float64\n",
      " 12  V12     284807 non-null  float64\n",
      " 13  V13     284807 non-null  float64\n",
      " 14  V14     284807 non-null  float64\n",
      " 15  V15     284807 non-null  float64\n",
      " 16  V16     284807 non-null  float64\n",
      " 17  V17     284807 non-null  float64\n",
      " 18  V18     284807 non-null  float64\n",
      " 19  V19     284807 non-null  float64\n",
      " 20  V20     284807 non-null  float64\n",
      " 21  V21     284807 non-null  float64\n",
      " 22  V22     284807 non-null  float64\n",
      " 23  V23     284807 non-null  float64\n",
      " 24  V24     284807 non-null  float64\n",
      " 25  V25     284807 non-null  float64\n",
      " 26  V26     284807 non-null  float64\n",
      " 27  V27     284807 non-null  float64\n",
      " 28  V28     284807 non-null  float64\n",
      " 29  Amount  284807 non-null  float64\n",
      " 30  Class   284807 non-null  int64  \n",
      "dtypes: float64(30), int64(1)\n",
      "memory usage: 67.4 MB\n"
     ]
    }
   ],
   "source": [
    "df.info()"
   ]
  },
  {
   "cell_type": "code",
   "execution_count": 7,
   "id": "75da4beb",
   "metadata": {
    "execution": {
     "iopub.execute_input": "2023-08-08T14:42:23.630843Z",
     "iopub.status.busy": "2023-08-08T14:42:23.630586Z",
     "iopub.status.idle": "2023-08-08T14:42:23.639348Z",
     "shell.execute_reply": "2023-08-08T14:42:23.638460Z"
    },
    "papermill": {
     "duration": 0.025586,
     "end_time": "2023-08-08T14:42:23.641464",
     "exception": false,
     "start_time": "2023-08-08T14:42:23.615878",
     "status": "completed"
    },
    "tags": []
   },
   "outputs": [
    {
     "data": {
      "text/plain": [
       "0    284315\n",
       "1       492\n",
       "Name: Class, dtype: int64"
      ]
     },
     "execution_count": 7,
     "metadata": {},
     "output_type": "execute_result"
    }
   ],
   "source": [
    "df[\"Class\"].value_counts()"
   ]
  },
  {
   "cell_type": "code",
   "execution_count": 8,
   "id": "463cd584",
   "metadata": {
    "execution": {
     "iopub.execute_input": "2023-08-08T14:42:23.672342Z",
     "iopub.status.busy": "2023-08-08T14:42:23.670723Z",
     "iopub.status.idle": "2023-08-08T14:42:24.823871Z",
     "shell.execute_reply": "2023-08-08T14:42:24.822887Z"
    },
    "papermill": {
     "duration": 1.17086,
     "end_time": "2023-08-08T14:42:24.826240",
     "exception": false,
     "start_time": "2023-08-08T14:42:23.655380",
     "status": "completed"
    },
    "tags": []
   },
   "outputs": [
    {
     "name": "stderr",
     "output_type": "stream",
     "text": [
      "/opt/conda/lib/python3.10/site-packages/scipy/__init__.py:146: UserWarning: A NumPy version >=1.16.5 and <1.23.0 is required for this version of SciPy (detected version 1.23.5\n",
      "  warnings.warn(f\"A NumPy version >={np_minversion} and <{np_maxversion}\"\n"
     ]
    }
   ],
   "source": [
    "import matplotlib.pyplot as plt #(For Visualizations)\n",
    "import seaborn as sns"
   ]
  },
  {
   "cell_type": "code",
   "execution_count": 9,
   "id": "b347d74b",
   "metadata": {
    "execution": {
     "iopub.execute_input": "2023-08-08T14:42:24.857010Z",
     "iopub.status.busy": "2023-08-08T14:42:24.856709Z",
     "iopub.status.idle": "2023-08-08T14:42:25.105111Z",
     "shell.execute_reply": "2023-08-08T14:42:25.104324Z"
    },
    "papermill": {
     "duration": 0.266157,
     "end_time": "2023-08-08T14:42:25.107151",
     "exception": false,
     "start_time": "2023-08-08T14:42:24.840994",
     "status": "completed"
    },
    "tags": []
   },
   "outputs": [
    {
     "data": {
      "text/plain": [
       "<Axes: xlabel='Class', ylabel='count'>"
      ]
     },
     "execution_count": 9,
     "metadata": {},
     "output_type": "execute_result"
    },
    {
     "data": {
      "image/png": "[encoded data removed]",
      "text/plain": [
       "<Figure size 640x480 with 1 Axes>"
      ]
     },
     "metadata": {},
     "output_type": "display_data"
    }
   ],
   "source": [
    "sns.countplot(x='Class',data=df)"
   ]
  },
  {
   "cell_type": "code",
   "execution_count": 10,
   "id": "87be14ae",
   "metadata": {
    "execution": {
     "iopub.execute_input": "2023-08-08T14:42:25.138241Z",
     "iopub.status.busy": "2023-08-08T14:42:25.137961Z",
     "iopub.status.idle": "2023-08-08T14:42:25.165279Z",
     "shell.execute_reply": "2023-08-08T14:42:25.164117Z"
    },
    "papermill": {
     "duration": 0.045653,
     "end_time": "2023-08-08T14:42:25.168015",
     "exception": false,
     "start_time": "2023-08-08T14:42:25.122362",
     "status": "completed"
    },
    "tags": []
   },
   "outputs": [],
   "source": [
    "# Dropping the target variable from train data and storing the rest of the attributes in \"X\" and target attribute in \"y\":\n",
    "X = df.drop([\"Class\"], axis = 1)\n",
    "y = df[\"Class\"]"
   ]
  },
  {
   "cell_type": "code",
   "execution_count": 11,
   "id": "de7e8c3e",
   "metadata": {
    "execution": {
     "iopub.execute_input": "2023-08-08T14:42:25.199520Z",
     "iopub.status.busy": "2023-08-08T14:42:25.199184Z",
     "iopub.status.idle": "2023-08-08T14:42:25.205343Z",
     "shell.execute_reply": "2023-08-08T14:42:25.204102Z"
    },
    "papermill": {
     "duration": 0.023794,
     "end_time": "2023-08-08T14:42:25.207482",
     "exception": false,
     "start_time": "2023-08-08T14:42:25.183688",
     "status": "completed"
    },
    "tags": []
   },
   "outputs": [
    {
     "name": "stdout",
     "output_type": "stream",
     "text": [
      "(284807, 30) (284807,)\n"
     ]
    }
   ],
   "source": [
    "print(X.shape, y.shape)"
   ]
  },
  {
   "cell_type": "code",
   "execution_count": 12,
   "id": "eea03f0b",
   "metadata": {
    "execution": {
     "iopub.execute_input": "2023-08-08T14:42:25.237809Z",
     "iopub.status.busy": "2023-08-08T14:42:25.237543Z",
     "iopub.status.idle": "2023-08-08T14:42:25.443152Z",
     "shell.execute_reply": "2023-08-08T14:42:25.442224Z"
    },
    "papermill": {
     "duration": 0.223572,
     "end_time": "2023-08-08T14:42:25.445582",
     "exception": false,
     "start_time": "2023-08-08T14:42:25.222010",
     "status": "completed"
    },
    "tags": []
   },
   "outputs": [],
   "source": [
    "from sklearn.model_selection import train_test_split\n",
    "from sklearn.model_selection import GridSearchCV, cross_val_score, StratifiedKFold"
   ]
  },
  {
   "cell_type": "code",
   "execution_count": 13,
   "id": "2001d0c0",
   "metadata": {
    "execution": {
     "iopub.execute_input": "2023-08-08T14:42:25.479658Z",
     "iopub.status.busy": "2023-08-08T14:42:25.479218Z",
     "iopub.status.idle": "2023-08-08T14:42:25.664088Z",
     "shell.execute_reply": "2023-08-08T14:42:25.663041Z"
    },
    "papermill": {
     "duration": 0.204932,
     "end_time": "2023-08-08T14:42:25.666888",
     "exception": false,
     "start_time": "2023-08-08T14:42:25.461956",
     "status": "completed"
    },
    "tags": []
   },
   "outputs": [],
   "source": [
    "# Splitting the data to train and test with test size of 30% from train data \n",
    "# random state is used so that train and test data are maintained; \n",
    "#stratify is used as the data given is a class imbalance problem\n",
    "X_train, X_test, y_train, y_test = train_test_split(X, y, test_size = 0.3, random_state = 123,stratify=y)"
   ]
  },
  {
   "cell_type": "code",
   "execution_count": 14,
   "id": "70495c52",
   "metadata": {
    "execution": {
     "iopub.execute_input": "2023-08-08T14:42:25.701181Z",
     "iopub.status.busy": "2023-08-08T14:42:25.700865Z",
     "iopub.status.idle": "2023-08-08T14:42:25.706359Z",
     "shell.execute_reply": "2023-08-08T14:42:25.705336Z"
    },
    "papermill": {
     "duration": 0.026019,
     "end_time": "2023-08-08T14:42:25.709836",
     "exception": false,
     "start_time": "2023-08-08T14:42:25.683817",
     "status": "completed"
    },
    "tags": []
   },
   "outputs": [
    {
     "name": "stdout",
     "output_type": "stream",
     "text": [
      "(199364, 30)\n",
      "(85443, 30)\n",
      "(199364,)\n",
      "(85443,)\n"
     ]
    }
   ],
   "source": [
    "#checking shape of train and test data:\n",
    "print(X_train.shape)\n",
    "print(X_test.shape)\n",
    "print(y_train.shape)\n",
    "print(y_test.shape)"
   ]
  },
  {
   "cell_type": "code",
   "execution_count": 15,
   "id": "b6e23992",
   "metadata": {
    "execution": {
     "iopub.execute_input": "2023-08-08T14:42:25.740206Z",
     "iopub.status.busy": "2023-08-08T14:42:25.739944Z",
     "iopub.status.idle": "2023-08-08T14:42:26.188555Z",
     "shell.execute_reply": "2023-08-08T14:42:26.187379Z"
    },
    "papermill": {
     "duration": 0.466741,
     "end_time": "2023-08-08T14:42:26.191239",
     "exception": false,
     "start_time": "2023-08-08T14:42:25.724498",
     "status": "completed"
    },
    "tags": []
   },
   "outputs": [],
   "source": [
    "# Importing the required classifiers for model building:\n",
    "from sklearn.ensemble import RandomForestClassifier\n",
    "\n",
    "from sklearn.linear_model import LogisticRegression\n",
    "\n",
    "from sklearn.ensemble import GradientBoostingClassifier\n",
    "\n",
    "from sklearn.metrics import confusion_matrix\n",
    "from sklearn.metrics import classification_report\n",
    "from imblearn.over_sampling import SMOTE\n",
    "from sklearn.metrics import accuracy_score, recall_score, precision_score, f1_score "
   ]
  },
  {
   "cell_type": "markdown",
   "id": "8a69db45",
   "metadata": {
    "papermill": {
     "duration": 0.014503,
     "end_time": "2023-08-08T14:42:26.221236",
     "exception": false,
     "start_time": "2023-08-08T14:42:26.206733",
     "status": "completed"
    },
    "tags": []
   },
   "source": [
    "**imbalance dataset using over sampling method SMOTE**"
   ]
  },
  {
   "cell_type": "code",
   "execution_count": 16,
   "id": "a05e2878",
   "metadata": {
    "execution": {
     "iopub.execute_input": "2023-08-08T14:42:26.251970Z",
     "iopub.status.busy": "2023-08-08T14:42:26.251639Z",
     "iopub.status.idle": "2023-08-08T14:42:26.256223Z",
     "shell.execute_reply": "2023-08-08T14:42:26.255194Z"
    },
    "papermill": {
     "duration": 0.022467,
     "end_time": "2023-08-08T14:42:26.258457",
     "exception": false,
     "start_time": "2023-08-08T14:42:26.235990",
     "status": "completed"
    },
    "tags": []
   },
   "outputs": [],
   "source": [
    "from imblearn.over_sampling import SMOTE\n",
    "smote = SMOTE(random_state=123)"
   ]
  },
  {
   "cell_type": "code",
   "execution_count": 17,
   "id": "91b499d3",
   "metadata": {
    "execution": {
     "iopub.execute_input": "2023-08-08T14:42:26.288747Z",
     "iopub.status.busy": "2023-08-08T14:42:26.288482Z",
     "iopub.status.idle": "2023-08-08T14:42:26.660433Z",
     "shell.execute_reply": "2023-08-08T14:42:26.659446Z"
    },
    "papermill": {
     "duration": 0.390025,
     "end_time": "2023-08-08T14:42:26.663134",
     "exception": false,
     "start_time": "2023-08-08T14:42:26.273109",
     "status": "completed"
    },
    "tags": []
   },
   "outputs": [],
   "source": [
    "X_train_sm, y_train_sm = smote.fit_resample(X_train, y_train)"
   ]
  },
  {
   "cell_type": "code",
   "execution_count": 18,
   "id": "14561b54",
   "metadata": {
    "execution": {
     "iopub.execute_input": "2023-08-08T14:42:26.695605Z",
     "iopub.status.busy": "2023-08-08T14:42:26.694755Z",
     "iopub.status.idle": "2023-08-08T14:42:26.701400Z",
     "shell.execute_reply": "2023-08-08T14:42:26.700468Z"
    },
    "papermill": {
     "duration": 0.025213,
     "end_time": "2023-08-08T14:42:26.703543",
     "exception": false,
     "start_time": "2023-08-08T14:42:26.678330",
     "status": "completed"
    },
    "tags": []
   },
   "outputs": [
    {
     "data": {
      "text/plain": [
       "(398040, 30)"
      ]
     },
     "execution_count": 18,
     "metadata": {},
     "output_type": "execute_result"
    }
   ],
   "source": [
    "X_train_sm.shape"
   ]
  },
  {
   "cell_type": "code",
   "execution_count": 19,
   "id": "2e654025",
   "metadata": {
    "execution": {
     "iopub.execute_input": "2023-08-08T14:42:26.734254Z",
     "iopub.status.busy": "2023-08-08T14:42:26.733987Z",
     "iopub.status.idle": "2023-08-08T14:42:26.744012Z",
     "shell.execute_reply": "2023-08-08T14:42:26.743073Z"
    },
    "papermill": {
     "duration": 0.028106,
     "end_time": "2023-08-08T14:42:26.746450",
     "exception": false,
     "start_time": "2023-08-08T14:42:26.718344",
     "status": "completed"
    },
    "tags": []
   },
   "outputs": [
    {
     "name": "stdout",
     "output_type": "stream",
     "text": [
      "0    50.0\n",
      "1    50.0\n",
      "Name: Class, dtype: float64\n"
     ]
    }
   ],
   "source": [
    "print(pd.value_counts(y_train_sm, normalize=True) * 100)"
   ]
  },
  {
   "cell_type": "code",
   "execution_count": 20,
   "id": "a806d3f3",
   "metadata": {
    "execution": {
     "iopub.execute_input": "2023-08-08T14:42:26.778252Z",
     "iopub.status.busy": "2023-08-08T14:42:26.777520Z",
     "iopub.status.idle": "2023-08-08T14:42:26.787488Z",
     "shell.execute_reply": "2023-08-08T14:42:26.786364Z"
    },
    "papermill": {
     "duration": 0.028256,
     "end_time": "2023-08-08T14:42:26.789705",
     "exception": false,
     "start_time": "2023-08-08T14:42:26.761449",
     "status": "completed"
    },
    "tags": []
   },
   "outputs": [],
   "source": [
    "scores = pd.DataFrame(columns=['Model', 'Train_Recall', 'Train_Precision', 'Train_F1_Score', \n",
    "                               'Test_Recall', 'Test_Precision', 'Test_F1_Score'])\n",
    "\n",
    "def get_metrics(train_actual, train_predicted, test_actual, test_predicted, model_description, dataframe):\n",
    "\n",
    "    train_recall    = recall_score(train_actual, train_predicted, average=\"weighted\")\n",
    "    train_precision = precision_score(train_actual, train_predicted, average=\"weighted\")\n",
    "    train_f1score   = f1_score(train_actual, train_predicted, average=\"weighted\")\n",
    "    \n",
    "    test_recall     = recall_score(test_actual, test_predicted, average=\"weighted\")\n",
    "    test_precision  = precision_score(test_actual, test_predicted, average=\"weighted\")\n",
    "    test_f1score    = f1_score(test_actual, test_predicted, average=\"weighted\")\n",
    "\n",
    "    dataframe       = dataframe.append(pd.Series([model_description, \n",
    "                                                train_recall, train_precision, train_f1score,\n",
    "                                                test_recall, test_precision, test_f1score],\n",
    "                                                 index=scores.columns ), \n",
    "                                       ignore_index=True)\n",
    "\n",
    "    return(dataframe)"
   ]
  },
  {
   "cell_type": "code",
   "execution_count": 21,
   "id": "69b475b6",
   "metadata": {
    "execution": {
     "iopub.execute_input": "2023-08-08T14:42:26.829499Z",
     "iopub.status.busy": "2023-08-08T14:42:26.829195Z",
     "iopub.status.idle": "2023-08-08T14:42:26.835249Z",
     "shell.execute_reply": "2023-08-08T14:42:26.834391Z"
    },
    "papermill": {
     "duration": 0.031852,
     "end_time": "2023-08-08T14:42:26.837283",
     "exception": false,
     "start_time": "2023-08-08T14:42:26.805431",
     "status": "completed"
    },
    "tags": []
   },
   "outputs": [],
   "source": [
    "def classifcation_report_train_test(y_train, y_train_pred, y_test, y_test_pred):\n",
    "\n",
    "    print('''\n",
    "            =========================================\n",
    "               CLASSIFICATION REPORT FOR TRAIN DATA\n",
    "            =========================================\n",
    "            ''')\n",
    "    print(classification_report(y_train, y_train_pred, digits=4))\n",
    "\n",
    "    print('''\n",
    "            =========================================\n",
    "               CLASSIFICATION REPORT FOR TEST DATA\n",
    "            =========================================\n",
    "            ''')\n",
    "    print(classification_report(y_test, y_test_pred, digits=4))"
   ]
  },
  {
   "cell_type": "markdown",
   "id": "2986a4ec",
   "metadata": {
    "papermill": {
     "duration": 0.014782,
     "end_time": "2023-08-08T14:42:26.866994",
     "exception": false,
     "start_time": "2023-08-08T14:42:26.852212",
     "status": "completed"
    },
    "tags": []
   },
   "source": [
    "# LogisticRegression"
   ]
  },
  {
   "cell_type": "code",
   "execution_count": 22,
   "id": "8b9faf55",
   "metadata": {
    "execution": {
     "iopub.execute_input": "2023-08-08T14:42:26.900224Z",
     "iopub.status.busy": "2023-08-08T14:42:26.899962Z",
     "iopub.status.idle": "2023-08-08T14:42:26.904229Z",
     "shell.execute_reply": "2023-08-08T14:42:26.903146Z"
    },
    "papermill": {
     "duration": 0.024635,
     "end_time": "2023-08-08T14:42:26.906672",
     "exception": false,
     "start_time": "2023-08-08T14:42:26.882037",
     "status": "completed"
    },
    "tags": []
   },
   "outputs": [],
   "source": [
    "from sklearn.linear_model import LogisticRegression"
   ]
  },
  {
   "cell_type": "code",
   "execution_count": 23,
   "id": "33bd9479",
   "metadata": {
    "execution": {
     "iopub.execute_input": "2023-08-08T14:42:26.938155Z",
     "iopub.status.busy": "2023-08-08T14:42:26.937898Z",
     "iopub.status.idle": "2023-08-08T14:42:26.942024Z",
     "shell.execute_reply": "2023-08-08T14:42:26.941128Z"
    },
    "papermill": {
     "duration": 0.021993,
     "end_time": "2023-08-08T14:42:26.943951",
     "exception": false,
     "start_time": "2023-08-08T14:42:26.921958",
     "status": "completed"
    },
    "tags": []
   },
   "outputs": [],
   "source": [
    "logistic_model = LogisticRegression(solver='liblinear',random_state=1230)"
   ]
  },
  {
   "cell_type": "code",
   "execution_count": 24,
   "id": "924971b2",
   "metadata": {
    "execution": {
     "iopub.execute_input": "2023-08-08T14:42:26.976224Z",
     "iopub.status.busy": "2023-08-08T14:42:26.975328Z",
     "iopub.status.idle": "2023-08-08T14:42:36.860540Z",
     "shell.execute_reply": "2023-08-08T14:42:36.859468Z"
    },
    "papermill": {
     "duration": 9.904547,
     "end_time": "2023-08-08T14:42:36.863501",
     "exception": false,
     "start_time": "2023-08-08T14:42:26.958954",
     "status": "completed"
    },
    "tags": []
   },
   "outputs": [],
   "source": [
    "Model=logistic_model.fit(X_train_sm,y_train_sm)"
   ]
  },
  {
   "cell_type": "code",
   "execution_count": 25,
   "id": "54f1ca46",
   "metadata": {
    "execution": {
     "iopub.execute_input": "2023-08-08T14:42:36.897069Z",
     "iopub.status.busy": "2023-08-08T14:42:36.896756Z",
     "iopub.status.idle": "2023-08-08T14:42:36.934865Z",
     "shell.execute_reply": "2023-08-08T14:42:36.933686Z"
    },
    "papermill": {
     "duration": 0.057554,
     "end_time": "2023-08-08T14:42:36.937856",
     "exception": false,
     "start_time": "2023-08-08T14:42:36.880302",
     "status": "completed"
    },
    "tags": []
   },
   "outputs": [],
   "source": [
    "y_train_Pred_log = logistic_model.predict(X_train_sm)\n",
    "y_test_Pred_log = logistic_model.predict(X_test)"
   ]
  },
  {
   "cell_type": "code",
   "execution_count": 26,
   "id": "04cc19e2",
   "metadata": {
    "execution": {
     "iopub.execute_input": "2023-08-08T14:42:37.042925Z",
     "iopub.status.busy": "2023-08-08T14:42:37.042462Z",
     "iopub.status.idle": "2023-08-08T14:42:37.064237Z",
     "shell.execute_reply": "2023-08-08T14:42:37.062772Z"
    },
    "papermill": {
     "duration": 0.090579,
     "end_time": "2023-08-08T14:42:37.071717",
     "exception": false,
     "start_time": "2023-08-08T14:42:36.981138",
     "status": "completed"
    },
    "tags": []
   },
   "outputs": [],
   "source": [
    "y_pred = logistic_model.predict(X_test)"
   ]
  },
  {
   "cell_type": "code",
   "execution_count": 27,
   "id": "432586e1",
   "metadata": {
    "execution": {
     "iopub.execute_input": "2023-08-08T14:42:37.161263Z",
     "iopub.status.busy": "2023-08-08T14:42:37.160722Z",
     "iopub.status.idle": "2023-08-08T14:42:37.196455Z",
     "shell.execute_reply": "2023-08-08T14:42:37.194893Z"
    },
    "papermill": {
     "duration": 0.072476,
     "end_time": "2023-08-08T14:42:37.198753",
     "exception": false,
     "start_time": "2023-08-08T14:42:37.126277",
     "status": "completed"
    },
    "tags": []
   },
   "outputs": [
    {
     "name": "stdout",
     "output_type": "stream",
     "text": [
      "[[84090  1205]\n",
      " [   24   124]]\n"
     ]
    }
   ],
   "source": [
    "from sklearn.metrics import confusion_matrix, accuracy_score\n",
    "cmr = confusion_matrix(y_test, y_pred)\n",
    "print(cmr)"
   ]
  },
  {
   "cell_type": "code",
   "execution_count": 28,
   "id": "1a22c0ec",
   "metadata": {
    "execution": {
     "iopub.execute_input": "2023-08-08T14:42:37.232628Z",
     "iopub.status.busy": "2023-08-08T14:42:37.231818Z",
     "iopub.status.idle": "2023-08-08T14:42:37.249600Z",
     "shell.execute_reply": "2023-08-08T14:42:37.248062Z"
    },
    "papermill": {
     "duration": 0.036257,
     "end_time": "2023-08-08T14:42:37.251770",
     "exception": false,
     "start_time": "2023-08-08T14:42:37.215513",
     "status": "completed"
    },
    "tags": []
   },
   "outputs": [
    {
     "name": "stdout",
     "output_type": "stream",
     "text": [
      "Confusion matrix\n",
      "\n",
      " [[84090  1205]\n",
      " [   24   124]]\n",
      "\n",
      "True Positives(TP) =  84090\n",
      "\n",
      "True Negatives(TN) =  124\n",
      "\n",
      "False Positives(FP) =  1205\n",
      "\n",
      "False Negatives(FN) =  24\n"
     ]
    }
   ],
   "source": [
    "cm = confusion_matrix(y_test, y_pred)\n",
    "\n",
    "print('Confusion matrix\\n\\n', cm)\n",
    "\n",
    "\n",
    "print('\\nTrue Positives(TP) = ', cm[0,0])\n",
    "\n",
    "print('\\nTrue Negatives(TN) = ', cm[1,1])\n",
    "\n",
    "print('\\nFalse Positives(FP) = ', cm[0,1])\n",
    "\n",
    "print('\\nFalse Negatives(FN) = ', cm[1,0])"
   ]
  },
  {
   "cell_type": "code",
   "execution_count": 29,
   "id": "7f1fcd60",
   "metadata": {
    "execution": {
     "iopub.execute_input": "2023-08-08T14:42:37.285174Z",
     "iopub.status.busy": "2023-08-08T14:42:37.284575Z",
     "iopub.status.idle": "2023-08-08T14:42:37.305344Z",
     "shell.execute_reply": "2023-08-08T14:42:37.304330Z"
    },
    "papermill": {
     "duration": 0.039189,
     "end_time": "2023-08-08T14:42:37.307517",
     "exception": false,
     "start_time": "2023-08-08T14:42:37.268328",
     "status": "completed"
    },
    "tags": []
   },
   "outputs": [
    {
     "data": {
      "text/plain": [
       "0.9118551988884364"
      ]
     },
     "execution_count": 29,
     "metadata": {},
     "output_type": "execute_result"
    }
   ],
   "source": [
    "from sklearn.metrics import roc_auc_score\n",
    "roc_auc_score(y_test, y_pred)"
   ]
  },
  {
   "cell_type": "code",
   "execution_count": 30,
   "id": "a9814f90",
   "metadata": {
    "execution": {
     "iopub.execute_input": "2023-08-08T14:42:37.340670Z",
     "iopub.status.busy": "2023-08-08T14:42:37.339917Z",
     "iopub.status.idle": "2023-08-08T14:42:37.824351Z",
     "shell.execute_reply": "2023-08-08T14:42:37.823346Z"
    },
    "papermill": {
     "duration": 0.502494,
     "end_time": "2023-08-08T14:42:37.826527",
     "exception": false,
     "start_time": "2023-08-08T14:42:37.324033",
     "status": "completed"
    },
    "tags": []
   },
   "outputs": [
    {
     "data": {
      "image/png": "[encoded data removed]",
      "text/plain": [
       "<Figure size 640x480 with 1 Axes>"
      ]
     },
     "metadata": {},
     "output_type": "display_data"
    }
   ],
   "source": [
    "from sklearn.metrics import roc_auc_score\n",
    "from sklearn.metrics import roc_curve\n",
    "logit_roc_auc = roc_auc_score(y_test, logistic_model.predict(X_test))\n",
    "fpr, tpr, thresholds = roc_curve(y_test, logistic_model.predict_proba(X_test)[:, 1])\n",
    "plt.figure()\n",
    "plt.plot(fpr, tpr, label='Logistic Regression (area = %0.2f)' % logit_roc_auc)\n",
    "plt.plot([0, 1], [0, 1],'r--')\n",
    "plt.xlim([0.0, 1.0])\n",
    "plt.ylim([0.0, 1.05])\n",
    "plt.xlabel('False Positive Rate')\n",
    "plt.ylabel('True Positive Rate')\n",
    "plt.title('Receiver operating characteristic')\n",
    "plt.legend(loc=\"lower right\")\n",
    "plt.savefig('Log_ROC')\n",
    "plt.show()"
   ]
  },
  {
   "cell_type": "code",
   "execution_count": 31,
   "id": "552f5e42",
   "metadata": {
    "execution": {
     "iopub.execute_input": "2023-08-08T14:42:37.860266Z",
     "iopub.status.busy": "2023-08-08T14:42:37.859583Z",
     "iopub.status.idle": "2023-08-08T14:42:38.455985Z",
     "shell.execute_reply": "2023-08-08T14:42:38.454125Z"
    },
    "papermill": {
     "duration": 0.615797,
     "end_time": "2023-08-08T14:42:38.458501",
     "exception": false,
     "start_time": "2023-08-08T14:42:37.842704",
     "status": "completed"
    },
    "tags": []
   },
   "outputs": [
    {
     "name": "stdout",
     "output_type": "stream",
     "text": [
      "\n",
      "            =========================================\n",
      "               CLASSIFICATION REPORT FOR TRAIN DATA\n",
      "            =========================================\n",
      "            \n",
      "              precision    recall  f1-score   support\n",
      "\n",
      "           0     0.9559    0.9859    0.9707    199020\n",
      "           1     0.9854    0.9545    0.9697    199020\n",
      "\n",
      "    accuracy                         0.9702    398040\n",
      "   macro avg     0.9707    0.9702    0.9702    398040\n",
      "weighted avg     0.9707    0.9702    0.9702    398040\n",
      "\n",
      "\n",
      "            =========================================\n",
      "               CLASSIFICATION REPORT FOR TEST DATA\n",
      "            =========================================\n",
      "            \n",
      "              precision    recall  f1-score   support\n",
      "\n",
      "           0     0.9997    0.9859    0.9927     85295\n",
      "           1     0.0933    0.8378    0.1679       148\n",
      "\n",
      "    accuracy                         0.9856     85443\n",
      "   macro avg     0.5465    0.9119    0.5803     85443\n",
      "weighted avg     0.9981    0.9856    0.9913     85443\n",
      "\n"
     ]
    }
   ],
   "source": [
    "classifcation_report_train_test(y_train_sm, y_train_Pred_log, y_test, y_test_Pred_log)"
   ]
  },
  {
   "cell_type": "code",
   "execution_count": 32,
   "id": "505db6a4",
   "metadata": {
    "execution": {
     "iopub.execute_input": "2023-08-08T14:42:38.495630Z",
     "iopub.status.busy": "2023-08-08T14:42:38.494653Z",
     "iopub.status.idle": "2023-08-08T14:42:38.910595Z",
     "shell.execute_reply": "2023-08-08T14:42:38.909543Z"
    },
    "papermill": {
     "duration": 0.436095,
     "end_time": "2023-08-08T14:42:38.912964",
     "exception": false,
     "start_time": "2023-08-08T14:42:38.476869",
     "status": "completed"
    },
    "tags": []
   },
   "outputs": [
    {
     "name": "stderr",
     "output_type": "stream",
     "text": [
      "/tmp/ipykernel_24/3559094045.py:14: FutureWarning: The frame.append method is deprecated and will be removed from pandas in a future version. Use pandas.concat instead.\n",
      "  dataframe       = dataframe.append(pd.Series([model_description,\n"
     ]
    },
    {
     "data": {
      "text/html": [
       "<div>\n",
       "<style scoped>\n",
       "    .dataframe tbody tr th:only-of-type {\n",
       "        vertical-align: middle;\n",
       "    }\n",
       "\n",
       "    .dataframe tbody tr th {\n",
       "        vertical-align: top;\n",
       "    }\n",
       "\n",
       "    .dataframe thead th {\n",
       "        text-align: right;\n",
       "    }\n",
       "</style>\n",
       "<table border=\"1\" class=\"dataframe\">\n",
       "  <thead>\n",
       "    <tr style=\"text-align: right;\">\n",
       "      <th></th>\n",
       "      <th>Model</th>\n",
       "      <th>Train_Recall</th>\n",
       "      <th>Train_Precision</th>\n",
       "      <th>Train_F1_Score</th>\n",
       "      <th>Test_Recall</th>\n",
       "      <th>Test_Precision</th>\n",
       "      <th>Test_F1_Score</th>\n",
       "    </tr>\n",
       "  </thead>\n",
       "  <tbody>\n",
       "    <tr>\n",
       "      <th>0</th>\n",
       "      <td>Logistic</td>\n",
       "      <td>0.970196</td>\n",
       "      <td>0.97066</td>\n",
       "      <td>0.970189</td>\n",
       "      <td>0.985616</td>\n",
       "      <td>0.998145</td>\n",
       "      <td>0.991317</td>\n",
       "    </tr>\n",
       "  </tbody>\n",
       "</table>\n",
       "</div>"
      ],
      "text/plain": [
       "      Model  Train_Recall  Train_Precision  Train_F1_Score  Test_Recall  \\\n",
       "0  Logistic      0.970196          0.97066        0.970189     0.985616   \n",
       "\n",
       "   Test_Precision  Test_F1_Score  \n",
       "0        0.998145       0.991317  "
      ]
     },
     "execution_count": 32,
     "metadata": {},
     "output_type": "execute_result"
    }
   ],
   "source": [
    "scores=get_metrics(y_train_sm,y_train_Pred_log,y_test,y_test_Pred_log,\"Logistic\",scores)\n",
    "scores"
   ]
  },
  {
   "cell_type": "markdown",
   "id": "54e84462",
   "metadata": {
    "papermill": {
     "duration": 0.016325,
     "end_time": "2023-08-08T14:42:38.946151",
     "exception": false,
     "start_time": "2023-08-08T14:42:38.929826",
     "status": "completed"
    },
    "tags": []
   },
   "source": [
    "# Random classifier using smote"
   ]
  },
  {
   "cell_type": "code",
   "execution_count": 33,
   "id": "e02bce81",
   "metadata": {
    "execution": {
     "iopub.execute_input": "2023-08-08T14:42:38.983698Z",
     "iopub.status.busy": "2023-08-08T14:42:38.982879Z",
     "iopub.status.idle": "2023-08-08T14:42:38.987631Z",
     "shell.execute_reply": "2023-08-08T14:42:38.986753Z"
    },
    "papermill": {
     "duration": 0.027131,
     "end_time": "2023-08-08T14:42:38.989788",
     "exception": false,
     "start_time": "2023-08-08T14:42:38.962657",
     "status": "completed"
    },
    "tags": []
   },
   "outputs": [],
   "source": [
    "rfclf2 = RandomForestClassifier(class_weight='balanced')"
   ]
  },
  {
   "cell_type": "code",
   "execution_count": 34,
   "id": "4db53634",
   "metadata": {
    "execution": {
     "iopub.execute_input": "2023-08-08T14:42:39.023452Z",
     "iopub.status.busy": "2023-08-08T14:42:39.023138Z",
     "iopub.status.idle": "2023-08-08T14:47:51.882399Z",
     "shell.execute_reply": "2023-08-08T14:47:51.881327Z"
    },
    "papermill": {
     "duration": 312.878907,
     "end_time": "2023-08-08T14:47:51.885083",
     "exception": false,
     "start_time": "2023-08-08T14:42:39.006176",
     "status": "completed"
    },
    "tags": []
   },
   "outputs": [],
   "source": [
    "rfclf2 = rfclf2.fit(X_train_sm, y_train_sm)"
   ]
  },
  {
   "cell_type": "code",
   "execution_count": 35,
   "id": "7024711f",
   "metadata": {
    "execution": {
     "iopub.execute_input": "2023-08-08T14:47:51.920082Z",
     "iopub.status.busy": "2023-08-08T14:47:51.919767Z",
     "iopub.status.idle": "2023-08-08T14:47:56.535715Z",
     "shell.execute_reply": "2023-08-08T14:47:56.534751Z"
    },
    "papermill": {
     "duration": 4.63599,
     "end_time": "2023-08-08T14:47:56.538149",
     "exception": false,
     "start_time": "2023-08-08T14:47:51.902159",
     "status": "completed"
    },
    "tags": []
   },
   "outputs": [],
   "source": [
    "train_pred=rfclf2.predict(X_train_sm)\n",
    "test_pred=rfclf2.predict(X_test)"
   ]
  },
  {
   "cell_type": "code",
   "execution_count": 36,
   "id": "cfdcbee8",
   "metadata": {
    "execution": {
     "iopub.execute_input": "2023-08-08T14:47:56.572372Z",
     "iopub.status.busy": "2023-08-08T14:47:56.572061Z",
     "iopub.status.idle": "2023-08-08T14:47:57.174697Z",
     "shell.execute_reply": "2023-08-08T14:47:57.173659Z"
    },
    "papermill": {
     "duration": 0.622793,
     "end_time": "2023-08-08T14:47:57.177485",
     "exception": false,
     "start_time": "2023-08-08T14:47:56.554692",
     "status": "completed"
    },
    "tags": []
   },
   "outputs": [
    {
     "name": "stdout",
     "output_type": "stream",
     "text": [
      "\n",
      "            =========================================\n",
      "               CLASSIFICATION REPORT FOR TRAIN DATA\n",
      "            =========================================\n",
      "            \n",
      "              precision    recall  f1-score   support\n",
      "\n",
      "           0     1.0000    1.0000    1.0000    199020\n",
      "           1     1.0000    1.0000    1.0000    199020\n",
      "\n",
      "    accuracy                         1.0000    398040\n",
      "   macro avg     1.0000    1.0000    1.0000    398040\n",
      "weighted avg     1.0000    1.0000    1.0000    398040\n",
      "\n",
      "\n",
      "            =========================================\n",
      "               CLASSIFICATION REPORT FOR TEST DATA\n",
      "            =========================================\n",
      "            \n",
      "              precision    recall  f1-score   support\n",
      "\n",
      "           0     0.9996    0.9998    0.9997     85295\n",
      "           1     0.8828    0.7635    0.8188       148\n",
      "\n",
      "    accuracy                         0.9994     85443\n",
      "   macro avg     0.9412    0.8817    0.9093     85443\n",
      "weighted avg     0.9994    0.9994    0.9994     85443\n",
      "\n"
     ]
    }
   ],
   "source": [
    "classifcation_report_train_test(y_train_sm, train_pred, y_test, test_pred)"
   ]
  },
  {
   "cell_type": "code",
   "execution_count": 37,
   "id": "41e0e17d",
   "metadata": {
    "execution": {
     "iopub.execute_input": "2023-08-08T14:47:57.215666Z",
     "iopub.status.busy": "2023-08-08T14:47:57.215331Z",
     "iopub.status.idle": "2023-08-08T14:47:57.606302Z",
     "shell.execute_reply": "2023-08-08T14:47:57.605096Z"
    },
    "papermill": {
     "duration": 0.4142,
     "end_time": "2023-08-08T14:47:57.610472",
     "exception": false,
     "start_time": "2023-08-08T14:47:57.196272",
     "status": "completed"
    },
    "tags": []
   },
   "outputs": [
    {
     "name": "stderr",
     "output_type": "stream",
     "text": [
      "/tmp/ipykernel_24/3559094045.py:14: FutureWarning: The frame.append method is deprecated and will be removed from pandas in a future version. Use pandas.concat instead.\n",
      "  dataframe       = dataframe.append(pd.Series([model_description,\n"
     ]
    },
    {
     "data": {
      "text/html": [
       "<div>\n",
       "<style scoped>\n",
       "    .dataframe tbody tr th:only-of-type {\n",
       "        vertical-align: middle;\n",
       "    }\n",
       "\n",
       "    .dataframe tbody tr th {\n",
       "        vertical-align: top;\n",
       "    }\n",
       "\n",
       "    .dataframe thead th {\n",
       "        text-align: right;\n",
       "    }\n",
       "</style>\n",
       "<table border=\"1\" class=\"dataframe\">\n",
       "  <thead>\n",
       "    <tr style=\"text-align: right;\">\n",
       "      <th></th>\n",
       "      <th>Model</th>\n",
       "      <th>Train_Recall</th>\n",
       "      <th>Train_Precision</th>\n",
       "      <th>Train_F1_Score</th>\n",
       "      <th>Test_Recall</th>\n",
       "      <th>Test_Precision</th>\n",
       "      <th>Test_F1_Score</th>\n",
       "    </tr>\n",
       "  </thead>\n",
       "  <tbody>\n",
       "    <tr>\n",
       "      <th>0</th>\n",
       "      <td>Logistic</td>\n",
       "      <td>0.970196</td>\n",
       "      <td>0.97066</td>\n",
       "      <td>0.970189</td>\n",
       "      <td>0.985616</td>\n",
       "      <td>0.998145</td>\n",
       "      <td>0.991317</td>\n",
       "    </tr>\n",
       "    <tr>\n",
       "      <th>1</th>\n",
       "      <td>Random forest_smote</td>\n",
       "      <td>1.000000</td>\n",
       "      <td>1.00000</td>\n",
       "      <td>1.000000</td>\n",
       "      <td>0.999415</td>\n",
       "      <td>0.999387</td>\n",
       "      <td>0.999394</td>\n",
       "    </tr>\n",
       "  </tbody>\n",
       "</table>\n",
       "</div>"
      ],
      "text/plain": [
       "                 Model  Train_Recall  Train_Precision  Train_F1_Score  \\\n",
       "0             Logistic      0.970196          0.97066        0.970189   \n",
       "1  Random forest_smote      1.000000          1.00000        1.000000   \n",
       "\n",
       "   Test_Recall  Test_Precision  Test_F1_Score  \n",
       "0     0.985616        0.998145       0.991317  \n",
       "1     0.999415        0.999387       0.999394  "
      ]
     },
     "execution_count": 37,
     "metadata": {},
     "output_type": "execute_result"
    }
   ],
   "source": [
    "scores=get_metrics(y_train_sm,train_pred,y_test,test_pred,\"Random forest_smote\",scores)\n",
    "scores"
   ]
  },
  {
   "cell_type": "markdown",
   "id": "21d4f304",
   "metadata": {
    "papermill": {
     "duration": 0.016751,
     "end_time": "2023-08-08T14:47:57.646046",
     "exception": false,
     "start_time": "2023-08-08T14:47:57.629295",
     "status": "completed"
    },
    "tags": []
   },
   "source": [
    "# XGBClassifier"
   ]
  },
  {
   "cell_type": "code",
   "execution_count": 38,
   "id": "084744b3",
   "metadata": {
    "execution": {
     "iopub.execute_input": "2023-08-08T14:47:57.680238Z",
     "iopub.status.busy": "2023-08-08T14:47:57.679922Z",
     "iopub.status.idle": "2023-08-08T14:47:57.824282Z",
     "shell.execute_reply": "2023-08-08T14:47:57.823458Z"
    },
    "papermill": {
     "duration": 0.164155,
     "end_time": "2023-08-08T14:47:57.826700",
     "exception": false,
     "start_time": "2023-08-08T14:47:57.662545",
     "status": "completed"
    },
    "tags": []
   },
   "outputs": [],
   "source": [
    "from xgboost import XGBClassifier"
   ]
  },
  {
   "cell_type": "code",
   "execution_count": 39,
   "id": "07f72980",
   "metadata": {
    "execution": {
     "iopub.execute_input": "2023-08-08T14:47:57.861743Z",
     "iopub.status.busy": "2023-08-08T14:47:57.860973Z",
     "iopub.status.idle": "2023-08-08T14:47:57.866216Z",
     "shell.execute_reply": "2023-08-08T14:47:57.865361Z"
    },
    "papermill": {
     "duration": 0.024705,
     "end_time": "2023-08-08T14:47:57.868294",
     "exception": false,
     "start_time": "2023-08-08T14:47:57.843589",
     "status": "completed"
    },
    "tags": []
   },
   "outputs": [],
   "source": [
    "xgb = XGBClassifier()"
   ]
  },
  {
   "cell_type": "code",
   "execution_count": 40,
   "id": "a51dc07a",
   "metadata": {
    "execution": {
     "iopub.execute_input": "2023-08-08T14:47:57.902512Z",
     "iopub.status.busy": "2023-08-08T14:47:57.902217Z",
     "iopub.status.idle": "2023-08-08T14:51:30.980171Z",
     "shell.execute_reply": "2023-08-08T14:51:30.966486Z"
    },
    "papermill": {
     "duration": 213.122457,
     "end_time": "2023-08-08T14:51:31.007342",
     "exception": false,
     "start_time": "2023-08-08T14:47:57.884885",
     "status": "completed"
    },
    "tags": []
   },
   "outputs": [
    {
     "data": {
      "text/html": [
       "<style>#sk-container-id-1 {color: black;background-color: white;}#sk-container-id-1 pre{padding: 0;}#sk-container-id-1 div.sk-toggleable {background-color: white;}#sk-container-id-1 label.sk-toggleable__label {cursor: pointer;display: block;width: 100%;margin-bottom: 0;padding: 0.3em;box-sizing: border-box;text-align: center;}#sk-container-id-1 label.sk-toggleable__label-arrow:before {content: \"▸\";float: left;margin-right: 0.25em;color: #696969;}#sk-container-id-1 label.sk-toggleable__label-arrow:hover:before {color: black;}#sk-container-id-1 div.sk-estimator:hover label.sk-toggleable__label-arrow:before {color: black;}#sk-container-id-1 div.sk-toggleable__content {max-height: 0;max-width: 0;overflow: hidden;text-align: left;background-color: #f0f8ff;}#sk-container-id-1 div.sk-toggleable__content pre {margin: 0.2em;color: black;border-radius: 0.25em;background-color: #f0f8ff;}#sk-container-id-1 input.sk-toggleable__control:checked~div.sk-toggleable__content {max-height: 200px;max-width: 100%;overflow: auto;}#sk-container-id-1 input.sk-toggleable__control:checked~label.sk-toggleable__label-arrow:before {content: \"▾\";}#sk-container-id-1 div.sk-estimator input.sk-toggleable__control:checked~label.sk-toggleable__label {background-color: #d4ebff;}#sk-container-id-1 div.sk-label input.sk-toggleable__control:checked~label.sk-toggleable__label {background-color: #d4ebff;}#sk-container-id-1 input.sk-hidden--visually {border: 0;clip: rect(1px 1px 1px 1px);clip: rect(1px, 1px, 1px, 1px);height: 1px;margin: -1px;overflow: hidden;padding: 0;position: absolute;width: 1px;}#sk-container-id-1 div.sk-estimator {font-family: monospace;background-color: #f0f8ff;border: 1px dotted black;border-radius: 0.25em;box-sizing: border-box;margin-bottom: 0.5em;}#sk-container-id-1 div.sk-estimator:hover {background-color: #d4ebff;}#sk-container-id-1 div.sk-parallel-item::after {content: \"\";width: 100%;border-bottom: 1px solid gray;flex-grow: 1;}#sk-container-id-1 div.sk-label:hover label.sk-toggleable__label {background-color: #d4ebff;}#sk-container-id-1 div.sk-serial::before {content: \"\";position: absolute;border-left: 1px solid gray;box-sizing: border-box;top: 0;bottom: 0;left: 50%;z-index: 0;}#sk-container-id-1 div.sk-serial {display: flex;flex-direction: column;align-items: center;background-color: white;padding-right: 0.2em;padding-left: 0.2em;position: relative;}#sk-container-id-1 div.sk-item {position: relative;z-index: 1;}#sk-container-id-1 div.sk-parallel {display: flex;align-items: stretch;justify-content: center;background-color: white;position: relative;}#sk-container-id-1 div.sk-item::before, #sk-container-id-1 div.sk-parallel-item::before {content: \"\";position: absolute;border-left: 1px solid gray;box-sizing: border-box;top: 0;bottom: 0;left: 50%;z-index: -1;}#sk-container-id-1 div.sk-parallel-item {display: flex;flex-direction: column;z-index: 1;position: relative;background-color: white;}#sk-container-id-1 div.sk-parallel-item:first-child::after {align-self: flex-end;width: 50%;}#sk-container-id-1 div.sk-parallel-item:last-child::after {align-self: flex-start;width: 50%;}#sk-container-id-1 div.sk-parallel-item:only-child::after {width: 0;}#sk-container-id-1 div.sk-dashed-wrapped {border: 1px dashed gray;margin: 0 0.4em 0.5em 0.4em;box-sizing: border-box;padding-bottom: 0.4em;background-color: white;}#sk-container-id-1 div.sk-label label {font-family: monospace;font-weight: bold;display: inline-block;line-height: 1.2em;}#sk-container-id-1 div.sk-label-container {text-align: center;}#sk-container-id-1 div.sk-container {/* jupyter's `normalize.less` sets `[hidden] { display: none; }` but bootstrap.min.css set `[hidden] { display: none !important; }` so we also need the `!important` here to be able to override the default hidden behavior on the sphinx rendered scikit-learn.org. See: https://github.com/scikit-learn/scikit-learn/issues/21755 */display: inline-block !important;position: relative;}#sk-container-id-1 div.sk-text-repr-fallback {display: none;}</style><div id=\"sk-container-id-1\" class=\"sk-top-container\"><div class=\"sk-text-repr-fallback\"><pre>XGBClassifier(base_score=None, booster=None, callbacks=None,\n",
       "              colsample_bylevel=None, colsample_bynode=None,\n",
       "              colsample_bytree=None, early_stopping_rounds=None,\n",
       "              enable_categorical=False, eval_metric=None, feature_types=None,\n",
       "              gamma=None, gpu_id=None, grow_policy=None, importance_type=None,\n",
       "              interaction_constraints=None, learning_rate=None, max_bin=None,\n",
       "              max_cat_threshold=None, max_cat_to_onehot=None,\n",
       "              max_delta_step=None, max_depth=None, max_leaves=None,\n",
       "              min_child_weight=None, missing=nan, monotone_constraints=None,\n",
       "              n_estimators=100, n_jobs=None, num_parallel_tree=None,\n",
       "              predictor=None, random_state=None, ...)</pre><b>In a Jupyter environment, please rerun this cell to show the HTML representation or trust the notebook. <br />On GitHub, the HTML representation is unable to render, please try loading this page with nbviewer.org.</b></div><div class=\"sk-container\" hidden><div class=\"sk-item\"><div class=\"sk-estimator sk-toggleable\"><input class=\"sk-toggleable__control sk-hidden--visually\" id=\"sk-estimator-id-1\" type=\"checkbox\" checked><label for=\"sk-estimator-id-1\" class=\"sk-toggleable__label sk-toggleable__label-arrow\">XGBClassifier</label><div class=\"sk-toggleable__content\"><pre>XGBClassifier(base_score=None, booster=None, callbacks=None,\n",
       "              colsample_bylevel=None, colsample_bynode=None,\n",
       "              colsample_bytree=None, early_stopping_rounds=None,\n",
       "              enable_categorical=False, eval_metric=None, feature_types=None,\n",
       "              gamma=None, gpu_id=None, grow_policy=None, importance_type=None,\n",
       "              interaction_constraints=None, learning_rate=None, max_bin=None,\n",
       "              max_cat_threshold=None, max_cat_to_onehot=None,\n",
       "              max_delta_step=None, max_depth=None, max_leaves=None,\n",
       "              min_child_weight=None, missing=nan, monotone_constraints=None,\n",
       "              n_estimators=100, n_jobs=None, num_parallel_tree=None,\n",
       "              predictor=None, random_state=None, ...)</pre></div></div></div></div></div>"
      ],
      "text/plain": [
       "XGBClassifier(base_score=None, booster=None, callbacks=None,\n",
       "              colsample_bylevel=None, colsample_bynode=None,\n",
       "              colsample_bytree=None, early_stopping_rounds=None,\n",
       "              enable_categorical=False, eval_metric=None, feature_types=None,\n",
       "              gamma=None, gpu_id=None, grow_policy=None, importance_type=None,\n",
       "              interaction_constraints=None, learning_rate=None, max_bin=None,\n",
       "              max_cat_threshold=None, max_cat_to_onehot=None,\n",
       "              max_delta_step=None, max_depth=None, max_leaves=None,\n",
       "              min_child_weight=None, missing=nan, monotone_constraints=None,\n",
       "              n_estimators=100, n_jobs=None, num_parallel_tree=None,\n",
       "              predictor=None, random_state=None, ...)"
      ]
     },
     "execution_count": 40,
     "metadata": {},
     "output_type": "execute_result"
    }
   ],
   "source": [
    "xgb.fit(X_train_sm, y_train_sm)"
   ]
  },
  {
   "cell_type": "code",
   "execution_count": 41,
   "id": "d7308485",
   "metadata": {
    "execution": {
     "iopub.execute_input": "2023-08-08T14:51:31.063296Z",
     "iopub.status.busy": "2023-08-08T14:51:31.062978Z",
     "iopub.status.idle": "2023-08-08T14:51:32.533910Z",
     "shell.execute_reply": "2023-08-08T14:51:32.533075Z"
    },
    "papermill": {
     "duration": 1.498795,
     "end_time": "2023-08-08T14:51:32.536574",
     "exception": false,
     "start_time": "2023-08-08T14:51:31.037779",
     "status": "completed"
    },
    "tags": []
   },
   "outputs": [],
   "source": [
    "y_pred_train_xsmote = xgb.predict(X_train_sm)\n",
    "y_pred_test_xsmote = xgb.predict(X_test)"
   ]
  },
  {
   "cell_type": "code",
   "execution_count": 42,
   "id": "dbb000b9",
   "metadata": {
    "execution": {
     "iopub.execute_input": "2023-08-08T14:51:32.575468Z",
     "iopub.status.busy": "2023-08-08T14:51:32.575141Z",
     "iopub.status.idle": "2023-08-08T14:51:33.121007Z",
     "shell.execute_reply": "2023-08-08T14:51:33.119905Z"
    },
    "papermill": {
     "duration": 0.567583,
     "end_time": "2023-08-08T14:51:33.123273",
     "exception": false,
     "start_time": "2023-08-08T14:51:32.555690",
     "status": "completed"
    },
    "tags": []
   },
   "outputs": [
    {
     "name": "stdout",
     "output_type": "stream",
     "text": [
      "\n",
      "            =========================================\n",
      "               CLASSIFICATION REPORT FOR TRAIN DATA\n",
      "            =========================================\n",
      "            \n",
      "              precision    recall  f1-score   support\n",
      "\n",
      "           0     1.0000    1.0000    1.0000    199020\n",
      "           1     1.0000    1.0000    1.0000    199020\n",
      "\n",
      "    accuracy                         1.0000    398040\n",
      "   macro avg     1.0000    1.0000    1.0000    398040\n",
      "weighted avg     1.0000    1.0000    1.0000    398040\n",
      "\n",
      "\n",
      "            =========================================\n",
      "               CLASSIFICATION REPORT FOR TEST DATA\n",
      "            =========================================\n",
      "            \n",
      "              precision    recall  f1-score   support\n",
      "\n",
      "           0     0.9996    0.9998    0.9997     85295\n",
      "           1     0.8636    0.7703    0.8143       148\n",
      "\n",
      "    accuracy                         0.9994     85443\n",
      "   macro avg     0.9316    0.8850    0.9070     85443\n",
      "weighted avg     0.9994    0.9994    0.9994     85443\n",
      "\n"
     ]
    }
   ],
   "source": [
    "classifcation_report_train_test(y_train_sm, y_pred_train_xsmote, y_test, y_pred_test_xsmote)"
   ]
  },
  {
   "cell_type": "code",
   "execution_count": 43,
   "id": "7874376d",
   "metadata": {
    "execution": {
     "iopub.execute_input": "2023-08-08T14:51:33.160184Z",
     "iopub.status.busy": "2023-08-08T14:51:33.159348Z",
     "iopub.status.idle": "2023-08-08T14:51:33.553339Z",
     "shell.execute_reply": "2023-08-08T14:51:33.552131Z"
    },
    "papermill": {
     "duration": 0.415093,
     "end_time": "2023-08-08T14:51:33.556128",
     "exception": false,
     "start_time": "2023-08-08T14:51:33.141035",
     "status": "completed"
    },
    "tags": []
   },
   "outputs": [
    {
     "name": "stderr",
     "output_type": "stream",
     "text": [
      "/tmp/ipykernel_24/3559094045.py:14: FutureWarning: The frame.append method is deprecated and will be removed from pandas in a future version. Use pandas.concat instead.\n",
      "  dataframe       = dataframe.append(pd.Series([model_description,\n"
     ]
    },
    {
     "data": {
      "text/html": [
       "<div>\n",
       "<style scoped>\n",
       "    .dataframe tbody tr th:only-of-type {\n",
       "        vertical-align: middle;\n",
       "    }\n",
       "\n",
       "    .dataframe tbody tr th {\n",
       "        vertical-align: top;\n",
       "    }\n",
       "\n",
       "    .dataframe thead th {\n",
       "        text-align: right;\n",
       "    }\n",
       "</style>\n",
       "<table border=\"1\" class=\"dataframe\">\n",
       "  <thead>\n",
       "    <tr style=\"text-align: right;\">\n",
       "      <th></th>\n",
       "      <th>Model</th>\n",
       "      <th>Train_Recall</th>\n",
       "      <th>Train_Precision</th>\n",
       "      <th>Train_F1_Score</th>\n",
       "      <th>Test_Recall</th>\n",
       "      <th>Test_Precision</th>\n",
       "      <th>Test_F1_Score</th>\n",
       "    </tr>\n",
       "  </thead>\n",
       "  <tbody>\n",
       "    <tr>\n",
       "      <th>0</th>\n",
       "      <td>Logistic</td>\n",
       "      <td>0.970196</td>\n",
       "      <td>0.97066</td>\n",
       "      <td>0.970189</td>\n",
       "      <td>0.985616</td>\n",
       "      <td>0.998145</td>\n",
       "      <td>0.991317</td>\n",
       "    </tr>\n",
       "    <tr>\n",
       "      <th>1</th>\n",
       "      <td>Random forest_smote</td>\n",
       "      <td>1.000000</td>\n",
       "      <td>1.00000</td>\n",
       "      <td>1.000000</td>\n",
       "      <td>0.999415</td>\n",
       "      <td>0.999387</td>\n",
       "      <td>0.999394</td>\n",
       "    </tr>\n",
       "    <tr>\n",
       "      <th>2</th>\n",
       "      <td>Xgboost_smote</td>\n",
       "      <td>1.000000</td>\n",
       "      <td>1.00000</td>\n",
       "      <td>1.000000</td>\n",
       "      <td>0.999391</td>\n",
       "      <td>0.999366</td>\n",
       "      <td>0.999374</td>\n",
       "    </tr>\n",
       "  </tbody>\n",
       "</table>\n",
       "</div>"
      ],
      "text/plain": [
       "                 Model  Train_Recall  Train_Precision  Train_F1_Score  \\\n",
       "0             Logistic      0.970196          0.97066        0.970189   \n",
       "1  Random forest_smote      1.000000          1.00000        1.000000   \n",
       "2        Xgboost_smote      1.000000          1.00000        1.000000   \n",
       "\n",
       "   Test_Recall  Test_Precision  Test_F1_Score  \n",
       "0     0.985616        0.998145       0.991317  \n",
       "1     0.999415        0.999387       0.999394  \n",
       "2     0.999391        0.999366       0.999374  "
      ]
     },
     "execution_count": 43,
     "metadata": {},
     "output_type": "execute_result"
    }
   ],
   "source": [
    "scores = get_metrics(y_train_sm, y_pred_train_xsmote, y_test, y_pred_test_xsmote, \"Xgboost_smote\", scores)\n",
    "scores"
   ]
  },
  {
   "cell_type": "code",
   "execution_count": null,
   "id": "6671bd7c",
   "metadata": {
    "papermill": {
     "duration": 0.017879,
     "end_time": "2023-08-08T14:51:33.596187",
     "exception": false,
     "start_time": "2023-08-08T14:51:33.578308",
     "status": "completed"
    },
    "tags": []
   },
   "outputs": [],
   "source": []
  },
  {
   "cell_type": "markdown",
   "id": "941e42b0",
   "metadata": {
    "papermill": {
     "duration": 0.017073,
     "end_time": "2023-08-08T14:51:33.630335",
     "exception": false,
     "start_time": "2023-08-08T14:51:33.613262",
     "status": "completed"
    },
    "tags": []
   },
   "source": [
    "# Test_data"
   ]
  },
  {
   "cell_type": "code",
   "execution_count": 44,
   "id": "a1715977",
   "metadata": {
    "execution": {
     "iopub.execute_input": "2023-08-08T14:51:33.665887Z",
     "iopub.status.busy": "2023-08-08T14:51:33.665594Z",
     "iopub.status.idle": "2023-08-08T14:51:34.443758Z",
     "shell.execute_reply": "2023-08-08T14:51:34.442779Z"
    },
    "papermill": {
     "duration": 0.798707,
     "end_time": "2023-08-08T14:51:34.446269",
     "exception": false,
     "start_time": "2023-08-08T14:51:33.647562",
     "status": "completed"
    },
    "tags": []
   },
   "outputs": [],
   "source": [
    "final_pred = rfclf2.predict(X_test)"
   ]
  },
  {
   "cell_type": "code",
   "execution_count": 45,
   "id": "b1b52466",
   "metadata": {
    "execution": {
     "iopub.execute_input": "2023-08-08T14:51:34.482703Z",
     "iopub.status.busy": "2023-08-08T14:51:34.482371Z",
     "iopub.status.idle": "2023-08-08T14:51:34.486910Z",
     "shell.execute_reply": "2023-08-08T14:51:34.485899Z"
    },
    "papermill": {
     "duration": 0.025039,
     "end_time": "2023-08-08T14:51:34.489271",
     "exception": false,
     "start_time": "2023-08-08T14:51:34.464232",
     "status": "completed"
    },
    "tags": []
   },
   "outputs": [],
   "source": [
    "final_pred=pd.DataFrame(final_pred)"
   ]
  },
  {
   "cell_type": "code",
   "execution_count": 46,
   "id": "07be1d24",
   "metadata": {
    "execution": {
     "iopub.execute_input": "2023-08-08T14:51:34.524894Z",
     "iopub.status.busy": "2023-08-08T14:51:34.524636Z",
     "iopub.status.idle": "2023-08-08T14:51:34.530232Z",
     "shell.execute_reply": "2023-08-08T14:51:34.529372Z"
    },
    "papermill": {
     "duration": 0.025786,
     "end_time": "2023-08-08T14:51:34.532281",
     "exception": false,
     "start_time": "2023-08-08T14:51:34.506495",
     "status": "completed"
    },
    "tags": []
   },
   "outputs": [],
   "source": [
    "final_pred.rename(columns={0:'class'},inplace=True)"
   ]
  },
  {
   "cell_type": "code",
   "execution_count": 47,
   "id": "2719c7a1",
   "metadata": {
    "execution": {
     "iopub.execute_input": "2023-08-08T14:51:34.567808Z",
     "iopub.status.busy": "2023-08-08T14:51:34.567555Z",
     "iopub.status.idle": "2023-08-08T14:51:34.578316Z",
     "shell.execute_reply": "2023-08-08T14:51:34.577434Z"
    },
    "papermill": {
     "duration": 0.034358,
     "end_time": "2023-08-08T14:51:34.583855",
     "exception": false,
     "start_time": "2023-08-08T14:51:34.549497",
     "status": "completed"
    },
    "tags": []
   },
   "outputs": [
    {
     "data": {
      "text/html": [
       "<div>\n",
       "<style scoped>\n",
       "    .dataframe tbody tr th:only-of-type {\n",
       "        vertical-align: middle;\n",
       "    }\n",
       "\n",
       "    .dataframe tbody tr th {\n",
       "        vertical-align: top;\n",
       "    }\n",
       "\n",
       "    .dataframe thead th {\n",
       "        text-align: right;\n",
       "    }\n",
       "</style>\n",
       "<table border=\"1\" class=\"dataframe\">\n",
       "  <thead>\n",
       "    <tr style=\"text-align: right;\">\n",
       "      <th></th>\n",
       "      <th>class</th>\n",
       "    </tr>\n",
       "  </thead>\n",
       "  <tbody>\n",
       "    <tr>\n",
       "      <th>0</th>\n",
       "      <td>0</td>\n",
       "    </tr>\n",
       "    <tr>\n",
       "      <th>1</th>\n",
       "      <td>0</td>\n",
       "    </tr>\n",
       "    <tr>\n",
       "      <th>2</th>\n",
       "      <td>0</td>\n",
       "    </tr>\n",
       "  </tbody>\n",
       "</table>\n",
       "</div>"
      ],
      "text/plain": [
       "   class\n",
       "0      0\n",
       "1      0\n",
       "2      0"
      ]
     },
     "execution_count": 47,
     "metadata": {},
     "output_type": "execute_result"
    }
   ],
   "source": [
    "final_pred.head(3)"
   ]
  },
  {
   "cell_type": "code",
   "execution_count": null,
   "id": "c293b105",
   "metadata": {
    "papermill": {
     "duration": 0.01753,
     "end_time": "2023-08-08T14:51:34.620573",
     "exception": false,
     "start_time": "2023-08-08T14:51:34.603043",
     "status": "completed"
    },
    "tags": []
   },
   "outputs": [],
   "source": []
  }
 ],
 "metadata": {
  "kernelspec": {
   "display_name": "Python 3",
   "language": "python",
   "name": "python3"
  },
  "language_info": {
   "codemirror_mode": {
    "name": "ipython",
    "version": 3
   },
   "file_extension": ".py",
   "mimetype": "text/x-python",
   "name": "python",
   "nbconvert_exporter": "python",
   "pygments_lexer": "ipython3",
   "version": "3.10.12"
  },
  "papermill": {
   "default_parameters": {},
   "duration": 565.392635,
   "end_time": "2023-08-08T14:51:35.359504",
   "environment_variables": {},
   "exception": null,
   "input_path": "__notebook__.ipynb",
   "output_path": "__notebook__.ipynb",
   "parameters": {},
   "start_time": "2023-08-08T14:42:09.966869",
   "version": "2.4.0"
  }
 },
 "nbformat": 4,
 "nbformat_minor": 5
}
