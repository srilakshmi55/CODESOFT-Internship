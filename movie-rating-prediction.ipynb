{
 "cells": [
  {
   "cell_type": "markdown",
   "id": "4ba84619",
   "metadata": {
    "papermill": {
     "duration": 0.01095,
     "end_time": "2023-08-08T14:49:59.503056",
     "exception": false,
     "start_time": "2023-08-08T14:49:59.492106",
     "status": "completed"
    },
    "tags": []
   },
   "source": [
    "# Movie rating Prediction"
   ]
  },
  {
   "cell_type": "code",
   "execution_count": 1,
   "id": "62505300",
   "metadata": {
    "_cell_guid": "b1076dfc-b9ad-4769-8c92-a6c4dae69d19",
    "_uuid": "8f2839f25d086af736a60e9eeb907d3b93b6e0e5",
    "execution": {
     "iopub.execute_input": "2023-08-08T14:49:59.524678Z",
     "iopub.status.busy": "2023-08-08T14:49:59.524163Z",
     "iopub.status.idle": "2023-08-08T14:49:59.545893Z",
     "shell.execute_reply": "2023-08-08T14:49:59.544355Z"
    },
    "papermill": {
     "duration": 0.035268,
     "end_time": "2023-08-08T14:49:59.548411",
     "exception": false,
     "start_time": "2023-08-08T14:49:59.513143",
     "status": "completed"
    },
    "tags": []
   },
   "outputs": [
    {
     "name": "stdout",
     "output_type": "stream",
     "text": [
      "/kaggle/input/movielens/users.dat\n",
      "/kaggle/input/movielens/ratings.dat\n",
      "/kaggle/input/movielens/movies.dat\n"
     ]
    }
   ],
   "source": [
    "# This Python 3 environment comes with many helpful analytics libraries installed\n",
    "# It is defined by the kaggle/python Docker image: https://github.com/kaggle/docker-python\n",
    "# For example, here's several helpful packages to load\n",
    "\n",
    "import numpy as np # linear algebra\n",
    "import pandas as pd # data processing, CSV file I/O (e.g. pd.read_csv)\n",
    "\n",
    "# Input data files are available in the read-only \"../input/\" directory\n",
    "# For example, running this (by clicking run or pressing Shift+Enter) will list all files under the input directory\n",
    "\n",
    "import os\n",
    "for dirname, _, filenames in os.walk('/kaggle/input'):\n",
    "    for filename in filenames:\n",
    "        print(os.path.join(dirname, filename))\n",
    "\n",
    "# You can write up to 20GB to the current directory (/kaggle/working/) that gets preserved as output when you create a version using \"Save & Run All\" \n",
    "# You can also write temporary files to /kaggle/temp/, but they won't be saved outside of the current session"
   ]
  },
  {
   "cell_type": "code",
   "execution_count": 2,
   "id": "ca3cdc9d",
   "metadata": {
    "execution": {
     "iopub.execute_input": "2023-08-08T14:49:59.572670Z",
     "iopub.status.busy": "2023-08-08T14:49:59.571797Z",
     "iopub.status.idle": "2023-08-08T14:49:59.643396Z",
     "shell.execute_reply": "2023-08-08T14:49:59.642196Z"
    },
    "papermill": {
     "duration": 0.088459,
     "end_time": "2023-08-08T14:49:59.646626",
     "exception": false,
     "start_time": "2023-08-08T14:49:59.558167",
     "status": "completed"
    },
    "tags": []
   },
   "outputs": [],
   "source": [
    "users = pd.read_csv(\"/kaggle/input/movielens/users.dat\", sep = '::', engine='python')\n",
    "users.columns =['User_id','Gender','Age','Occupation','Zipcode']\n"
   ]
  },
  {
   "cell_type": "code",
   "execution_count": 3,
   "id": "87f066a1",
   "metadata": {
    "execution": {
     "iopub.execute_input": "2023-08-08T14:49:59.674980Z",
     "iopub.status.busy": "2023-08-08T14:49:59.674213Z",
     "iopub.status.idle": "2023-08-08T14:49:59.699952Z",
     "shell.execute_reply": "2023-08-08T14:49:59.698741Z"
    },
    "papermill": {
     "duration": 0.042059,
     "end_time": "2023-08-08T14:49:59.702387",
     "exception": false,
     "start_time": "2023-08-08T14:49:59.660328",
     "status": "completed"
    },
    "tags": []
   },
   "outputs": [
    {
     "data": {
      "text/html": [
       "<div>\n",
       "<style scoped>\n",
       "    .dataframe tbody tr th:only-of-type {\n",
       "        vertical-align: middle;\n",
       "    }\n",
       "\n",
       "    .dataframe tbody tr th {\n",
       "        vertical-align: top;\n",
       "    }\n",
       "\n",
       "    .dataframe thead th {\n",
       "        text-align: right;\n",
       "    }\n",
       "</style>\n",
       "<table border=\"1\" class=\"dataframe\">\n",
       "  <thead>\n",
       "    <tr style=\"text-align: right;\">\n",
       "      <th></th>\n",
       "      <th>User_id</th>\n",
       "      <th>Gender</th>\n",
       "      <th>Age</th>\n",
       "      <th>Occupation</th>\n",
       "      <th>Zipcode</th>\n",
       "    </tr>\n",
       "  </thead>\n",
       "  <tbody>\n",
       "    <tr>\n",
       "      <th>0</th>\n",
       "      <td>2</td>\n",
       "      <td>M</td>\n",
       "      <td>56</td>\n",
       "      <td>16</td>\n",
       "      <td>70072</td>\n",
       "    </tr>\n",
       "    <tr>\n",
       "      <th>1</th>\n",
       "      <td>3</td>\n",
       "      <td>M</td>\n",
       "      <td>25</td>\n",
       "      <td>15</td>\n",
       "      <td>55117</td>\n",
       "    </tr>\n",
       "    <tr>\n",
       "      <th>2</th>\n",
       "      <td>4</td>\n",
       "      <td>M</td>\n",
       "      <td>45</td>\n",
       "      <td>7</td>\n",
       "      <td>02460</td>\n",
       "    </tr>\n",
       "    <tr>\n",
       "      <th>3</th>\n",
       "      <td>5</td>\n",
       "      <td>M</td>\n",
       "      <td>25</td>\n",
       "      <td>20</td>\n",
       "      <td>55455</td>\n",
       "    </tr>\n",
       "    <tr>\n",
       "      <th>4</th>\n",
       "      <td>6</td>\n",
       "      <td>F</td>\n",
       "      <td>50</td>\n",
       "      <td>9</td>\n",
       "      <td>55117</td>\n",
       "    </tr>\n",
       "  </tbody>\n",
       "</table>\n",
       "</div>"
      ],
      "text/plain": [
       "   User_id Gender  Age  Occupation Zipcode\n",
       "0        2      M   56          16   70072\n",
       "1        3      M   25          15   55117\n",
       "2        4      M   45           7   02460\n",
       "3        5      M   25          20   55455\n",
       "4        6      F   50           9   55117"
      ]
     },
     "execution_count": 3,
     "metadata": {},
     "output_type": "execute_result"
    }
   ],
   "source": [
    "users.head(5)"
   ]
  },
  {
   "cell_type": "code",
   "execution_count": 4,
   "id": "bfbdd95e",
   "metadata": {
    "execution": {
     "iopub.execute_input": "2023-08-08T14:49:59.726413Z",
     "iopub.status.busy": "2023-08-08T14:49:59.725422Z",
     "iopub.status.idle": "2023-08-08T14:49:59.755948Z",
     "shell.execute_reply": "2023-08-08T14:49:59.754895Z"
    },
    "papermill": {
     "duration": 0.046021,
     "end_time": "2023-08-08T14:49:59.758675",
     "exception": false,
     "start_time": "2023-08-08T14:49:59.712654",
     "status": "completed"
    },
    "tags": []
   },
   "outputs": [],
   "source": [
    "#Data acquisition of the movies dataset\n",
    "movie=pd.read_csv('/kaggle/input/movielens/movies.dat', sep = '::', engine='python', encoding='latin-1')\n",
    "movie.columns =['Movie_id','Movie_Name','Genres']\n"
   ]
  },
  {
   "cell_type": "code",
   "execution_count": 5,
   "id": "84f75aea",
   "metadata": {
    "execution": {
     "iopub.execute_input": "2023-08-08T14:49:59.779891Z",
     "iopub.status.busy": "2023-08-08T14:49:59.779506Z",
     "iopub.status.idle": "2023-08-08T14:49:59.790475Z",
     "shell.execute_reply": "2023-08-08T14:49:59.789354Z"
    },
    "papermill": {
     "duration": 0.024356,
     "end_time": "2023-08-08T14:49:59.792653",
     "exception": false,
     "start_time": "2023-08-08T14:49:59.768297",
     "status": "completed"
    },
    "tags": []
   },
   "outputs": [
    {
     "data": {
      "text/html": [
       "<div>\n",
       "<style scoped>\n",
       "    .dataframe tbody tr th:only-of-type {\n",
       "        vertical-align: middle;\n",
       "    }\n",
       "\n",
       "    .dataframe tbody tr th {\n",
       "        vertical-align: top;\n",
       "    }\n",
       "\n",
       "    .dataframe thead th {\n",
       "        text-align: right;\n",
       "    }\n",
       "</style>\n",
       "<table border=\"1\" class=\"dataframe\">\n",
       "  <thead>\n",
       "    <tr style=\"text-align: right;\">\n",
       "      <th></th>\n",
       "      <th>Movie_id</th>\n",
       "      <th>Movie_Name</th>\n",
       "      <th>Genres</th>\n",
       "    </tr>\n",
       "  </thead>\n",
       "  <tbody>\n",
       "    <tr>\n",
       "      <th>0</th>\n",
       "      <td>2</td>\n",
       "      <td>Jumanji (1995)</td>\n",
       "      <td>Adventure|Children's|Fantasy</td>\n",
       "    </tr>\n",
       "    <tr>\n",
       "      <th>1</th>\n",
       "      <td>3</td>\n",
       "      <td>Grumpier Old Men (1995)</td>\n",
       "      <td>Comedy|Romance</td>\n",
       "    </tr>\n",
       "  </tbody>\n",
       "</table>\n",
       "</div>"
      ],
      "text/plain": [
       "   Movie_id               Movie_Name                        Genres\n",
       "0         2           Jumanji (1995)  Adventure|Children's|Fantasy\n",
       "1         3  Grumpier Old Men (1995)                Comedy|Romance"
      ]
     },
     "execution_count": 5,
     "metadata": {},
     "output_type": "execute_result"
    }
   ],
   "source": [
    "movie.head(2)"
   ]
  },
  {
   "cell_type": "code",
   "execution_count": 6,
   "id": "26001159",
   "metadata": {
    "execution": {
     "iopub.execute_input": "2023-08-08T14:49:59.814388Z",
     "iopub.status.busy": "2023-08-08T14:49:59.813687Z",
     "iopub.status.idle": "2023-08-08T14:49:59.824318Z",
     "shell.execute_reply": "2023-08-08T14:49:59.823310Z"
    },
    "papermill": {
     "duration": 0.023909,
     "end_time": "2023-08-08T14:49:59.826516",
     "exception": false,
     "start_time": "2023-08-08T14:49:59.802607",
     "status": "completed"
    },
    "tags": []
   },
   "outputs": [
    {
     "data": {
      "text/plain": [
       "Movie_id      0\n",
       "Movie_Name    0\n",
       "Genres        0\n",
       "dtype: int64"
      ]
     },
     "execution_count": 6,
     "metadata": {},
     "output_type": "execute_result"
    }
   ],
   "source": [
    "movie.isnull().sum()"
   ]
  },
  {
   "cell_type": "code",
   "execution_count": 7,
   "id": "c896eade",
   "metadata": {
    "execution": {
     "iopub.execute_input": "2023-08-08T14:49:59.849645Z",
     "iopub.status.busy": "2023-08-08T14:49:59.849242Z",
     "iopub.status.idle": "2023-08-08T14:50:06.095610Z",
     "shell.execute_reply": "2023-08-08T14:50:06.094711Z"
    },
    "papermill": {
     "duration": 6.261082,
     "end_time": "2023-08-08T14:50:06.098087",
     "exception": false,
     "start_time": "2023-08-08T14:49:59.837005",
     "status": "completed"
    },
    "tags": []
   },
   "outputs": [],
   "source": [
    "rating = pd.read_csv(\"/kaggle/input/movielens/ratings.dat\",sep='::', engine='python')\n",
    "rating.columns =['User_id','Movie_id','Ratings','TimeStamp']"
   ]
  },
  {
   "cell_type": "code",
   "execution_count": 8,
   "id": "2d126104",
   "metadata": {
    "execution": {
     "iopub.execute_input": "2023-08-08T14:50:06.120980Z",
     "iopub.status.busy": "2023-08-08T14:50:06.120563Z",
     "iopub.status.idle": "2023-08-08T14:50:06.130485Z",
     "shell.execute_reply": "2023-08-08T14:50:06.129514Z"
    },
    "papermill": {
     "duration": 0.023613,
     "end_time": "2023-08-08T14:50:06.133027",
     "exception": false,
     "start_time": "2023-08-08T14:50:06.109414",
     "status": "completed"
    },
    "tags": []
   },
   "outputs": [
    {
     "data": {
      "text/html": [
       "<div>\n",
       "<style scoped>\n",
       "    .dataframe tbody tr th:only-of-type {\n",
       "        vertical-align: middle;\n",
       "    }\n",
       "\n",
       "    .dataframe tbody tr th {\n",
       "        vertical-align: top;\n",
       "    }\n",
       "\n",
       "    .dataframe thead th {\n",
       "        text-align: right;\n",
       "    }\n",
       "</style>\n",
       "<table border=\"1\" class=\"dataframe\">\n",
       "  <thead>\n",
       "    <tr style=\"text-align: right;\">\n",
       "      <th></th>\n",
       "      <th>User_id</th>\n",
       "      <th>Movie_id</th>\n",
       "      <th>Ratings</th>\n",
       "      <th>TimeStamp</th>\n",
       "    </tr>\n",
       "  </thead>\n",
       "  <tbody>\n",
       "    <tr>\n",
       "      <th>0</th>\n",
       "      <td>1</td>\n",
       "      <td>661</td>\n",
       "      <td>3</td>\n",
       "      <td>978302109</td>\n",
       "    </tr>\n",
       "    <tr>\n",
       "      <th>1</th>\n",
       "      <td>1</td>\n",
       "      <td>914</td>\n",
       "      <td>3</td>\n",
       "      <td>978301968</td>\n",
       "    </tr>\n",
       "  </tbody>\n",
       "</table>\n",
       "</div>"
      ],
      "text/plain": [
       "   User_id  Movie_id  Ratings  TimeStamp\n",
       "0        1       661        3  978302109\n",
       "1        1       914        3  978301968"
      ]
     },
     "execution_count": 8,
     "metadata": {},
     "output_type": "execute_result"
    }
   ],
   "source": [
    "rating.head(2)"
   ]
  },
  {
   "cell_type": "code",
   "execution_count": 9,
   "id": "2747a5e2",
   "metadata": {
    "execution": {
     "iopub.execute_input": "2023-08-08T14:50:06.155204Z",
     "iopub.status.busy": "2023-08-08T14:50:06.154828Z",
     "iopub.status.idle": "2023-08-08T14:50:06.168759Z",
     "shell.execute_reply": "2023-08-08T14:50:06.167505Z"
    },
    "papermill": {
     "duration": 0.02793,
     "end_time": "2023-08-08T14:50:06.171106",
     "exception": false,
     "start_time": "2023-08-08T14:50:06.143176",
     "status": "completed"
    },
    "tags": []
   },
   "outputs": [
    {
     "data": {
      "text/plain": [
       "User_id      0\n",
       "Movie_id     0\n",
       "Ratings      0\n",
       "TimeStamp    0\n",
       "dtype: int64"
      ]
     },
     "execution_count": 9,
     "metadata": {},
     "output_type": "execute_result"
    }
   ],
   "source": [
    "rating.isnull().sum()"
   ]
  },
  {
   "cell_type": "code",
   "execution_count": 10,
   "id": "d4c6dbac",
   "metadata": {
    "execution": {
     "iopub.execute_input": "2023-08-08T14:50:06.195085Z",
     "iopub.status.busy": "2023-08-08T14:50:06.194675Z",
     "iopub.status.idle": "2023-08-08T14:50:06.213121Z",
     "shell.execute_reply": "2023-08-08T14:50:06.211507Z"
    },
    "papermill": {
     "duration": 0.033862,
     "end_time": "2023-08-08T14:50:06.215825",
     "exception": false,
     "start_time": "2023-08-08T14:50:06.181963",
     "status": "completed"
    },
    "tags": []
   },
   "outputs": [
    {
     "data": {
      "text/plain": [
       "Movie_id      3882\n",
       "Movie_Name    3882\n",
       "Genres         301\n",
       "dtype: int64"
      ]
     },
     "execution_count": 10,
     "metadata": {},
     "output_type": "execute_result"
    }
   ],
   "source": [
    "movie.nunique()"
   ]
  },
  {
   "cell_type": "code",
   "execution_count": 11,
   "id": "c0323a12",
   "metadata": {
    "execution": {
     "iopub.execute_input": "2023-08-08T14:50:06.238269Z",
     "iopub.status.busy": "2023-08-08T14:50:06.237868Z",
     "iopub.status.idle": "2023-08-08T14:50:07.484056Z",
     "shell.execute_reply": "2023-08-08T14:50:07.482816Z"
    },
    "papermill": {
     "duration": 1.260736,
     "end_time": "2023-08-08T14:50:07.486757",
     "exception": false,
     "start_time": "2023-08-08T14:50:06.226021",
     "status": "completed"
    },
    "tags": []
   },
   "outputs": [],
   "source": [
    "#Merge the ratings and users with movieID and UserID\n",
    "ratings_user = pd.merge(rating,users, on=['User_id'])\n",
    "ratings_movie = pd.merge(rating,movie, on=['Movie_id'])\n",
    "\n",
    "df = pd.merge(ratings_user,ratings_movie,\n",
    "                       on=['User_id', 'Movie_id', 'Ratings'])[['Movie_id', 'Movie_Name', 'User_id', 'Age', 'Gender', 'Occupation', \"Ratings\"]]\n"
   ]
  },
  {
   "cell_type": "code",
   "execution_count": 12,
   "id": "e25b76f0",
   "metadata": {
    "execution": {
     "iopub.execute_input": "2023-08-08T14:50:07.513913Z",
     "iopub.status.busy": "2023-08-08T14:50:07.513006Z",
     "iopub.status.idle": "2023-08-08T14:50:07.522954Z",
     "shell.execute_reply": "2023-08-08T14:50:07.521542Z"
    },
    "papermill": {
     "duration": 0.027954,
     "end_time": "2023-08-08T14:50:07.526193",
     "exception": false,
     "start_time": "2023-08-08T14:50:07.498239",
     "status": "completed"
    },
    "tags": []
   },
   "outputs": [
    {
     "data": {
      "text/plain": [
       "(998080, 7)"
      ]
     },
     "execution_count": 12,
     "metadata": {},
     "output_type": "execute_result"
    }
   ],
   "source": [
    "df.shape"
   ]
  },
  {
   "cell_type": "code",
   "execution_count": 13,
   "id": "d86ab35b",
   "metadata": {
    "execution": {
     "iopub.execute_input": "2023-08-08T14:50:07.552080Z",
     "iopub.status.busy": "2023-08-08T14:50:07.551700Z",
     "iopub.status.idle": "2023-08-08T14:50:07.752122Z",
     "shell.execute_reply": "2023-08-08T14:50:07.750869Z"
    },
    "papermill": {
     "duration": 0.218326,
     "end_time": "2023-08-08T14:50:07.755421",
     "exception": false,
     "start_time": "2023-08-08T14:50:07.537095",
     "status": "completed"
    },
    "tags": []
   },
   "outputs": [
    {
     "data": {
      "text/plain": [
       "Movie_id      3705\n",
       "Movie_Name    3705\n",
       "User_id       6039\n",
       "Age              7\n",
       "Gender           2\n",
       "Occupation      21\n",
       "Ratings          5\n",
       "dtype: int64"
      ]
     },
     "execution_count": 13,
     "metadata": {},
     "output_type": "execute_result"
    }
   ],
   "source": [
    "df.nunique()"
   ]
  },
  {
   "cell_type": "code",
   "execution_count": 14,
   "id": "0322a98a",
   "metadata": {
    "execution": {
     "iopub.execute_input": "2023-08-08T14:50:07.783862Z",
     "iopub.status.busy": "2023-08-08T14:50:07.783106Z",
     "iopub.status.idle": "2023-08-08T14:50:07.805566Z",
     "shell.execute_reply": "2023-08-08T14:50:07.803862Z"
    },
    "papermill": {
     "duration": 0.039327,
     "end_time": "2023-08-08T14:50:07.808444",
     "exception": false,
     "start_time": "2023-08-08T14:50:07.769117",
     "status": "completed"
    },
    "tags": []
   },
   "outputs": [
    {
     "data": {
      "text/plain": [
       "25    394766\n",
       "35    198580\n",
       "18    183088\n",
       "45     83490\n",
       "50     72382\n",
       "56     38727\n",
       "1      27047\n",
       "Name: Age, dtype: int64"
      ]
     },
     "execution_count": 14,
     "metadata": {},
     "output_type": "execute_result"
    }
   ],
   "source": [
    "df[\"Age\"].value_counts()"
   ]
  },
  {
   "cell_type": "code",
   "execution_count": 15,
   "id": "a2e81f90",
   "metadata": {
    "execution": {
     "iopub.execute_input": "2023-08-08T14:50:07.832161Z",
     "iopub.status.busy": "2023-08-08T14:50:07.831753Z",
     "iopub.status.idle": "2023-08-08T14:50:08.142276Z",
     "shell.execute_reply": "2023-08-08T14:50:08.141069Z"
    },
    "papermill": {
     "duration": 0.325564,
     "end_time": "2023-08-08T14:50:08.144524",
     "exception": false,
     "start_time": "2023-08-08T14:50:07.818960",
     "status": "completed"
    },
    "tags": []
   },
   "outputs": [
    {
     "data": {
      "image/png": "[encoded data removed]",
      "text/plain": [
       "<Figure size 1000x500 with 1 Axes>"
      ]
     },
     "metadata": {},
     "output_type": "display_data"
    }
   ],
   "source": [
    "import matplotlib.pyplot as plt\n",
    "df['Age'].value_counts().plot(kind='bar',alpha=0.5,figsize=(10,5))\n",
    "plt.show()"
   ]
  },
  {
   "cell_type": "code",
   "execution_count": 16,
   "id": "4d27a10a",
   "metadata": {
    "execution": {
     "iopub.execute_input": "2023-08-08T14:50:08.169316Z",
     "iopub.status.busy": "2023-08-08T14:50:08.168334Z",
     "iopub.status.idle": "2023-08-08T14:50:08.409895Z",
     "shell.execute_reply": "2023-08-08T14:50:08.408711Z"
    },
    "papermill": {
     "duration": 0.257057,
     "end_time": "2023-08-08T14:50:08.412351",
     "exception": false,
     "start_time": "2023-08-08T14:50:08.155294",
     "status": "completed"
    },
    "tags": []
   },
   "outputs": [
    {
     "data": {
      "image/png": "[encoded data removed]",
      "text/plain": [
       "<Figure size 1000x500 with 1 Axes>"
      ]
     },
     "metadata": {},
     "output_type": "display_data"
    }
   ],
   "source": [
    "df['Ratings'].value_counts().plot(kind='bar',alpha=0.5,figsize=(10,5))\n",
    "plt.show()"
   ]
  },
  {
   "cell_type": "code",
   "execution_count": 17,
   "id": "936a8b25",
   "metadata": {
    "execution": {
     "iopub.execute_input": "2023-08-08T14:50:08.437399Z",
     "iopub.status.busy": "2023-08-08T14:50:08.437017Z",
     "iopub.status.idle": "2023-08-08T14:50:09.000977Z",
     "shell.execute_reply": "2023-08-08T14:50:09.000092Z"
    },
    "papermill": {
     "duration": 0.579238,
     "end_time": "2023-08-08T14:50:09.003269",
     "exception": false,
     "start_time": "2023-08-08T14:50:08.424031",
     "status": "completed"
    },
    "tags": []
   },
   "outputs": [
    {
     "data": {
      "text/plain": [
       "<Axes: ylabel='Movie_Name'>"
      ]
     },
     "execution_count": 17,
     "metadata": {},
     "output_type": "execute_result"
    },
    {
     "data": {
      "image/png": "[encoded data removed]",
      "text/plain": [
       "<Figure size 640x480 with 1 Axes>"
      ]
     },
     "metadata": {},
     "output_type": "display_data"
    }
   ],
   "source": [
    "result = df.groupby(\"Movie_Name\").size().sort_values(ascending=False)[:20]\n",
    "plt.ylabel(\"Movie_Name\")\n",
    "plt.xlabel(\"Viewership Count\")\n",
    "result.plot(kind=\"barh\")"
   ]
  },
  {
   "cell_type": "code",
   "execution_count": 18,
   "id": "7ca799e0",
   "metadata": {
    "execution": {
     "iopub.execute_input": "2023-08-08T14:50:09.031259Z",
     "iopub.status.busy": "2023-08-08T14:50:09.030734Z",
     "iopub.status.idle": "2023-08-08T14:50:09.351673Z",
     "shell.execute_reply": "2023-08-08T14:50:09.349858Z"
    },
    "papermill": {
     "duration": 0.338355,
     "end_time": "2023-08-08T14:50:09.354629",
     "exception": false,
     "start_time": "2023-08-08T14:50:09.016274",
     "status": "completed"
    },
    "tags": []
   },
   "outputs": [
    {
     "data": {
      "text/plain": [
       "Age\n",
       "1      36\n",
       "18    154\n",
       "25    261\n",
       "35    143\n",
       "45     52\n",
       "50     45\n",
       "56     10\n",
       "Name: Movie_id, dtype: int64"
      ]
     },
     "execution_count": 18,
     "metadata": {},
     "output_type": "execute_result"
    },
    {
     "data": {
      "image/png": "[encoded data removed]",
      "text/plain": [
       "<Figure size 640x480 with 1 Axes>"
      ]
     },
     "metadata": {},
     "output_type": "display_data"
    }
   ],
   "source": [
    "movie_age = df[df.Movie_Name == \"Jumanji (1995)\"]\n",
    "\n",
    "plt.plot(movie_age.groupby(\"Age\")[\"Movie_id\"].count(),'--bo')\n",
    "movie_age.groupby(\"Age\")[\"Movie_id\"].count()"
   ]
  },
  {
   "cell_type": "code",
   "execution_count": 19,
   "id": "1b47b831",
   "metadata": {
    "execution": {
     "iopub.execute_input": "2023-08-08T14:50:09.383867Z",
     "iopub.status.busy": "2023-08-08T14:50:09.383486Z",
     "iopub.status.idle": "2023-08-08T14:50:09.807854Z",
     "shell.execute_reply": "2023-08-08T14:50:09.806743Z"
    },
    "papermill": {
     "duration": 0.442683,
     "end_time": "2023-08-08T14:50:09.811026",
     "exception": false,
     "start_time": "2023-08-08T14:50:09.368343",
     "status": "completed"
    },
    "tags": []
   },
   "outputs": [
    {
     "data": {
      "text/html": [
       "<div>\n",
       "<style scoped>\n",
       "    .dataframe tbody tr th:only-of-type {\n",
       "        vertical-align: middle;\n",
       "    }\n",
       "\n",
       "    .dataframe tbody tr th {\n",
       "        vertical-align: top;\n",
       "    }\n",
       "\n",
       "    .dataframe thead th {\n",
       "        text-align: right;\n",
       "    }\n",
       "</style>\n",
       "<table border=\"1\" class=\"dataframe\">\n",
       "  <thead>\n",
       "    <tr style=\"text-align: right;\">\n",
       "      <th></th>\n",
       "      <th>Movie_id</th>\n",
       "      <th>Movie_Name</th>\n",
       "      <th>User_id</th>\n",
       "      <th>Age</th>\n",
       "      <th>Gender</th>\n",
       "      <th>Occupation</th>\n",
       "      <th>Ratings</th>\n",
       "    </tr>\n",
       "  </thead>\n",
       "  <tbody>\n",
       "    <tr>\n",
       "      <th>439719</th>\n",
       "      <td>1258</td>\n",
       "      <td>Shining, The (1980)</td>\n",
       "      <td>2696</td>\n",
       "      <td>25</td>\n",
       "      <td>M</td>\n",
       "      <td>7</td>\n",
       "      <td>4</td>\n",
       "    </tr>\n",
       "    <tr>\n",
       "      <th>439720</th>\n",
       "      <td>1270</td>\n",
       "      <td>Back to the Future (1985)</td>\n",
       "      <td>2696</td>\n",
       "      <td>25</td>\n",
       "      <td>M</td>\n",
       "      <td>7</td>\n",
       "      <td>2</td>\n",
       "    </tr>\n",
       "    <tr>\n",
       "      <th>439721</th>\n",
       "      <td>1617</td>\n",
       "      <td>L.A. Confidential (1997)</td>\n",
       "      <td>2696</td>\n",
       "      <td>25</td>\n",
       "      <td>M</td>\n",
       "      <td>7</td>\n",
       "      <td>4</td>\n",
       "    </tr>\n",
       "    <tr>\n",
       "      <th>439722</th>\n",
       "      <td>1625</td>\n",
       "      <td>Game, The (1997)</td>\n",
       "      <td>2696</td>\n",
       "      <td>25</td>\n",
       "      <td>M</td>\n",
       "      <td>7</td>\n",
       "      <td>4</td>\n",
       "    </tr>\n",
       "    <tr>\n",
       "      <th>439723</th>\n",
       "      <td>1644</td>\n",
       "      <td>I Know What You Did Last Summer (1997)</td>\n",
       "      <td>2696</td>\n",
       "      <td>25</td>\n",
       "      <td>M</td>\n",
       "      <td>7</td>\n",
       "      <td>2</td>\n",
       "    </tr>\n",
       "    <tr>\n",
       "      <th>439724</th>\n",
       "      <td>1645</td>\n",
       "      <td>Devil's Advocate, The (1997)</td>\n",
       "      <td>2696</td>\n",
       "      <td>25</td>\n",
       "      <td>M</td>\n",
       "      <td>7</td>\n",
       "      <td>4</td>\n",
       "    </tr>\n",
       "    <tr>\n",
       "      <th>439725</th>\n",
       "      <td>1805</td>\n",
       "      <td>Wild Things (1998)</td>\n",
       "      <td>2696</td>\n",
       "      <td>25</td>\n",
       "      <td>M</td>\n",
       "      <td>7</td>\n",
       "      <td>4</td>\n",
       "    </tr>\n",
       "    <tr>\n",
       "      <th>439726</th>\n",
       "      <td>1892</td>\n",
       "      <td>Perfect Murder, A (1998)</td>\n",
       "      <td>2696</td>\n",
       "      <td>25</td>\n",
       "      <td>M</td>\n",
       "      <td>7</td>\n",
       "      <td>4</td>\n",
       "    </tr>\n",
       "    <tr>\n",
       "      <th>439727</th>\n",
       "      <td>800</td>\n",
       "      <td>Lone Star (1996)</td>\n",
       "      <td>2696</td>\n",
       "      <td>25</td>\n",
       "      <td>M</td>\n",
       "      <td>7</td>\n",
       "      <td>5</td>\n",
       "    </tr>\n",
       "    <tr>\n",
       "      <th>439728</th>\n",
       "      <td>2338</td>\n",
       "      <td>I Still Know What You Did Last Summer (1998)</td>\n",
       "      <td>2696</td>\n",
       "      <td>25</td>\n",
       "      <td>M</td>\n",
       "      <td>7</td>\n",
       "      <td>2</td>\n",
       "    </tr>\n",
       "    <tr>\n",
       "      <th>439729</th>\n",
       "      <td>1711</td>\n",
       "      <td>Midnight in the Garden of Good and Evil (1997)</td>\n",
       "      <td>2696</td>\n",
       "      <td>25</td>\n",
       "      <td>M</td>\n",
       "      <td>7</td>\n",
       "      <td>4</td>\n",
       "    </tr>\n",
       "    <tr>\n",
       "      <th>439730</th>\n",
       "      <td>3176</td>\n",
       "      <td>Talented Mr. Ripley, The (1999)</td>\n",
       "      <td>2696</td>\n",
       "      <td>25</td>\n",
       "      <td>M</td>\n",
       "      <td>7</td>\n",
       "      <td>4</td>\n",
       "    </tr>\n",
       "    <tr>\n",
       "      <th>439731</th>\n",
       "      <td>2389</td>\n",
       "      <td>Psycho (1998)</td>\n",
       "      <td>2696</td>\n",
       "      <td>25</td>\n",
       "      <td>M</td>\n",
       "      <td>7</td>\n",
       "      <td>4</td>\n",
       "    </tr>\n",
       "    <tr>\n",
       "      <th>439732</th>\n",
       "      <td>1589</td>\n",
       "      <td>Cop Land (1997)</td>\n",
       "      <td>2696</td>\n",
       "      <td>25</td>\n",
       "      <td>M</td>\n",
       "      <td>7</td>\n",
       "      <td>3</td>\n",
       "    </tr>\n",
       "    <tr>\n",
       "      <th>439733</th>\n",
       "      <td>2713</td>\n",
       "      <td>Lake Placid (1999)</td>\n",
       "      <td>2696</td>\n",
       "      <td>25</td>\n",
       "      <td>M</td>\n",
       "      <td>7</td>\n",
       "      <td>1</td>\n",
       "    </tr>\n",
       "    <tr>\n",
       "      <th>439734</th>\n",
       "      <td>3386</td>\n",
       "      <td>JFK (1991)</td>\n",
       "      <td>2696</td>\n",
       "      <td>25</td>\n",
       "      <td>M</td>\n",
       "      <td>7</td>\n",
       "      <td>1</td>\n",
       "    </tr>\n",
       "    <tr>\n",
       "      <th>439735</th>\n",
       "      <td>1783</td>\n",
       "      <td>Palmetto (1998)</td>\n",
       "      <td>2696</td>\n",
       "      <td>25</td>\n",
       "      <td>M</td>\n",
       "      <td>7</td>\n",
       "      <td>4</td>\n",
       "    </tr>\n",
       "    <tr>\n",
       "      <th>439736</th>\n",
       "      <td>350</td>\n",
       "      <td>Client, The (1994)</td>\n",
       "      <td>2696</td>\n",
       "      <td>25</td>\n",
       "      <td>M</td>\n",
       "      <td>7</td>\n",
       "      <td>3</td>\n",
       "    </tr>\n",
       "    <tr>\n",
       "      <th>439737</th>\n",
       "      <td>1092</td>\n",
       "      <td>Basic Instinct (1992)</td>\n",
       "      <td>2696</td>\n",
       "      <td>25</td>\n",
       "      <td>M</td>\n",
       "      <td>7</td>\n",
       "      <td>4</td>\n",
       "    </tr>\n",
       "    <tr>\n",
       "      <th>439738</th>\n",
       "      <td>1097</td>\n",
       "      <td>E.T. the Extra-Terrestrial (1982)</td>\n",
       "      <td>2696</td>\n",
       "      <td>25</td>\n",
       "      <td>M</td>\n",
       "      <td>7</td>\n",
       "      <td>3</td>\n",
       "    </tr>\n",
       "  </tbody>\n",
       "</table>\n",
       "</div>"
      ],
      "text/plain": [
       "        Movie_id                                      Movie_Name  User_id  \\\n",
       "439719      1258                             Shining, The (1980)     2696   \n",
       "439720      1270                       Back to the Future (1985)     2696   \n",
       "439721      1617                        L.A. Confidential (1997)     2696   \n",
       "439722      1625                                Game, The (1997)     2696   \n",
       "439723      1644          I Know What You Did Last Summer (1997)     2696   \n",
       "439724      1645                    Devil's Advocate, The (1997)     2696   \n",
       "439725      1805                              Wild Things (1998)     2696   \n",
       "439726      1892                        Perfect Murder, A (1998)     2696   \n",
       "439727       800                                Lone Star (1996)     2696   \n",
       "439728      2338    I Still Know What You Did Last Summer (1998)     2696   \n",
       "439729      1711  Midnight in the Garden of Good and Evil (1997)     2696   \n",
       "439730      3176                 Talented Mr. Ripley, The (1999)     2696   \n",
       "439731      2389                                   Psycho (1998)     2696   \n",
       "439732      1589                                 Cop Land (1997)     2696   \n",
       "439733      2713                              Lake Placid (1999)     2696   \n",
       "439734      3386                                      JFK (1991)     2696   \n",
       "439735      1783                                 Palmetto (1998)     2696   \n",
       "439736       350                              Client, The (1994)     2696   \n",
       "439737      1092                           Basic Instinct (1992)     2696   \n",
       "439738      1097               E.T. the Extra-Terrestrial (1982)     2696   \n",
       "\n",
       "        Age Gender  Occupation  Ratings  \n",
       "439719   25      M           7        4  \n",
       "439720   25      M           7        2  \n",
       "439721   25      M           7        4  \n",
       "439722   25      M           7        4  \n",
       "439723   25      M           7        2  \n",
       "439724   25      M           7        4  \n",
       "439725   25      M           7        4  \n",
       "439726   25      M           7        4  \n",
       "439727   25      M           7        5  \n",
       "439728   25      M           7        2  \n",
       "439729   25      M           7        4  \n",
       "439730   25      M           7        4  \n",
       "439731   25      M           7        4  \n",
       "439732   25      M           7        3  \n",
       "439733   25      M           7        1  \n",
       "439734   25      M           7        1  \n",
       "439735   25      M           7        4  \n",
       "439736   25      M           7        3  \n",
       "439737   25      M           7        4  \n",
       "439738   25      M           7        3  "
      ]
     },
     "execution_count": 19,
     "metadata": {},
     "output_type": "execute_result"
    },
    {
     "data": {
      "image/png": "[encoded data removed]",
      "text/plain": [
       "<Figure size 640x480 with 1 Axes>"
      ]
     },
     "metadata": {},
     "output_type": "display_data"
    }
   ],
   "source": [
    "#Find the ratings for all the movies reviewed by for a particular user of user id = 2696\n",
    "\n",
    "user_movie = df[df.User_id == 2696]\n",
    "\n",
    "plt.scatter(y=user_movie.Movie_Name, x=user_movie.Ratings)\n",
    "\n",
    "user_movie"
   ]
  },
  {
   "cell_type": "code",
   "execution_count": 20,
   "id": "8898aae2",
   "metadata": {
    "execution": {
     "iopub.execute_input": "2023-08-08T14:50:09.845071Z",
     "iopub.status.busy": "2023-08-08T14:50:09.844522Z",
     "iopub.status.idle": "2023-08-08T14:50:09.878686Z",
     "shell.execute_reply": "2023-08-08T14:50:09.877762Z"
    },
    "papermill": {
     "duration": 0.054008,
     "end_time": "2023-08-08T14:50:09.881343",
     "exception": false,
     "start_time": "2023-08-08T14:50:09.827335",
     "status": "completed"
    },
    "tags": []
   },
   "outputs": [],
   "source": [
    "df.drop([\"User_id\",\"Movie_id\",\"Occupation\"],axis=1,inplace = True)"
   ]
  },
  {
   "cell_type": "code",
   "execution_count": 21,
   "id": "2af98de7",
   "metadata": {
    "execution": {
     "iopub.execute_input": "2023-08-08T14:50:09.914139Z",
     "iopub.status.busy": "2023-08-08T14:50:09.913730Z",
     "iopub.status.idle": "2023-08-08T14:50:09.918867Z",
     "shell.execute_reply": "2023-08-08T14:50:09.917808Z"
    },
    "papermill": {
     "duration": 0.024844,
     "end_time": "2023-08-08T14:50:09.920995",
     "exception": false,
     "start_time": "2023-08-08T14:50:09.896151",
     "status": "completed"
    },
    "tags": []
   },
   "outputs": [],
   "source": [
    "df2 = df.head(1000)"
   ]
  },
  {
   "cell_type": "code",
   "execution_count": 22,
   "id": "0e9bdcd3",
   "metadata": {
    "execution": {
     "iopub.execute_input": "2023-08-08T14:50:09.953698Z",
     "iopub.status.busy": "2023-08-08T14:50:09.952793Z",
     "iopub.status.idle": "2023-08-08T14:50:11.138236Z",
     "shell.execute_reply": "2023-08-08T14:50:11.136899Z"
    },
    "papermill": {
     "duration": 1.205207,
     "end_time": "2023-08-08T14:50:11.141558",
     "exception": false,
     "start_time": "2023-08-08T14:50:09.936351",
     "status": "completed"
    },
    "tags": []
   },
   "outputs": [
    {
     "name": "stderr",
     "output_type": "stream",
     "text": [
      "/opt/conda/lib/python3.10/site-packages/scipy/__init__.py:146: UserWarning: A NumPy version >=1.16.5 and <1.23.0 is required for this version of SciPy (detected version 1.23.5\n",
      "  warnings.warn(f\"A NumPy version >={np_minversion} and <{np_maxversion}\"\n"
     ]
    }
   ],
   "source": [
    "from sklearn import datasets \n",
    "from sklearn.metrics import confusion_matrix \n",
    "from sklearn.model_selection import train_test_split \n",
    "from sklearn.preprocessing import LabelEncoder\n",
    "\n",
    "X = df2[df2.columns[~df2.columns.isin([\"Ratings\"])]]\n",
    "y = df2.Ratings\n",
    "\n",
    "# dividing X, y into train and test data \n",
    "X_train, X_test, y_train, y_test = train_test_split(X, y, random_state = 0) "
   ]
  },
  {
   "cell_type": "code",
   "execution_count": 23,
   "id": "944c92a0",
   "metadata": {
    "execution": {
     "iopub.execute_input": "2023-08-08T14:50:11.175383Z",
     "iopub.status.busy": "2023-08-08T14:50:11.174700Z",
     "iopub.status.idle": "2023-08-08T14:50:11.187500Z",
     "shell.execute_reply": "2023-08-08T14:50:11.186393Z"
    },
    "papermill": {
     "duration": 0.033225,
     "end_time": "2023-08-08T14:50:11.189657",
     "exception": false,
     "start_time": "2023-08-08T14:50:11.156432",
     "status": "completed"
    },
    "tags": []
   },
   "outputs": [
    {
     "data": {
      "text/html": [
       "<div>\n",
       "<style scoped>\n",
       "    .dataframe tbody tr th:only-of-type {\n",
       "        vertical-align: middle;\n",
       "    }\n",
       "\n",
       "    .dataframe tbody tr th {\n",
       "        vertical-align: top;\n",
       "    }\n",
       "\n",
       "    .dataframe thead th {\n",
       "        text-align: right;\n",
       "    }\n",
       "</style>\n",
       "<table border=\"1\" class=\"dataframe\">\n",
       "  <thead>\n",
       "    <tr style=\"text-align: right;\">\n",
       "      <th></th>\n",
       "      <th>Movie_Name</th>\n",
       "      <th>Age</th>\n",
       "      <th>Gender</th>\n",
       "    </tr>\n",
       "  </thead>\n",
       "  <tbody>\n",
       "    <tr>\n",
       "      <th>253</th>\n",
       "      <td>Paris Is Burning (1990)</td>\n",
       "      <td>25</td>\n",
       "      <td>M</td>\n",
       "    </tr>\n",
       "    <tr>\n",
       "      <th>667</th>\n",
       "      <td>Bug's Life, A (1998)</td>\n",
       "      <td>25</td>\n",
       "      <td>M</td>\n",
       "    </tr>\n",
       "    <tr>\n",
       "      <th>85</th>\n",
       "      <td>Serpico (1973)</td>\n",
       "      <td>56</td>\n",
       "      <td>M</td>\n",
       "    </tr>\n",
       "  </tbody>\n",
       "</table>\n",
       "</div>"
      ],
      "text/plain": [
       "                  Movie_Name  Age Gender\n",
       "253  Paris Is Burning (1990)   25      M\n",
       "667     Bug's Life, A (1998)   25      M\n",
       "85            Serpico (1973)   56      M"
      ]
     },
     "execution_count": 23,
     "metadata": {},
     "output_type": "execute_result"
    }
   ],
   "source": [
    "X_train.head(3)"
   ]
  },
  {
   "cell_type": "code",
   "execution_count": 24,
   "id": "328afae6",
   "metadata": {
    "execution": {
     "iopub.execute_input": "2023-08-08T14:50:11.222405Z",
     "iopub.status.busy": "2023-08-08T14:50:11.221610Z",
     "iopub.status.idle": "2023-08-08T14:50:11.228866Z",
     "shell.execute_reply": "2023-08-08T14:50:11.227962Z"
    },
    "papermill": {
     "duration": 0.026654,
     "end_time": "2023-08-08T14:50:11.231309",
     "exception": false,
     "start_time": "2023-08-08T14:50:11.204655",
     "status": "completed"
    },
    "tags": []
   },
   "outputs": [
    {
     "data": {
      "text/plain": [
       "Movie_Name    object\n",
       "Age            int64\n",
       "Gender        object\n",
       "dtype: object"
      ]
     },
     "execution_count": 24,
     "metadata": {},
     "output_type": "execute_result"
    }
   ],
   "source": [
    "X_train.dtypes"
   ]
  },
  {
   "cell_type": "code",
   "execution_count": 25,
   "id": "85f0dc4a",
   "metadata": {
    "execution": {
     "iopub.execute_input": "2023-08-08T14:50:11.264470Z",
     "iopub.status.busy": "2023-08-08T14:50:11.263740Z",
     "iopub.status.idle": "2023-08-08T14:50:11.270768Z",
     "shell.execute_reply": "2023-08-08T14:50:11.269963Z"
    },
    "papermill": {
     "duration": 0.026533,
     "end_time": "2023-08-08T14:50:11.272769",
     "exception": false,
     "start_time": "2023-08-08T14:50:11.246236",
     "status": "completed"
    },
    "tags": []
   },
   "outputs": [
    {
     "data": {
      "text/plain": [
       "Index(['Age'], dtype='object')"
      ]
     },
     "execution_count": 25,
     "metadata": {},
     "output_type": "execute_result"
    }
   ],
   "source": [
    "numeric_columns=X_train.select_dtypes(['int64']).columns\n",
    "numeric_columns"
   ]
  },
  {
   "cell_type": "code",
   "execution_count": 26,
   "id": "cd6e7fff",
   "metadata": {
    "execution": {
     "iopub.execute_input": "2023-08-08T14:50:11.306922Z",
     "iopub.status.busy": "2023-08-08T14:50:11.306158Z",
     "iopub.status.idle": "2023-08-08T14:50:11.312730Z",
     "shell.execute_reply": "2023-08-08T14:50:11.311965Z"
    },
    "papermill": {
     "duration": 0.025894,
     "end_time": "2023-08-08T14:50:11.314763",
     "exception": false,
     "start_time": "2023-08-08T14:50:11.288869",
     "status": "completed"
    },
    "tags": []
   },
   "outputs": [
    {
     "data": {
      "text/plain": [
       "Index(['Movie_Name', 'Gender'], dtype='object')"
      ]
     },
     "execution_count": 26,
     "metadata": {},
     "output_type": "execute_result"
    }
   ],
   "source": [
    "cat_columns=X_train.select_dtypes(['object']).columns\n",
    "cat_columns"
   ]
  },
  {
   "cell_type": "code",
   "execution_count": 27,
   "id": "ed22c6a1",
   "metadata": {
    "execution": {
     "iopub.execute_input": "2023-08-08T14:50:11.347397Z",
     "iopub.status.busy": "2023-08-08T14:50:11.346641Z",
     "iopub.status.idle": "2023-08-08T14:50:11.351562Z",
     "shell.execute_reply": "2023-08-08T14:50:11.350241Z"
    },
    "papermill": {
     "duration": 0.023776,
     "end_time": "2023-08-08T14:50:11.353864",
     "exception": false,
     "start_time": "2023-08-08T14:50:11.330088",
     "status": "completed"
    },
    "tags": []
   },
   "outputs": [],
   "source": [
    "# Importing the required preprocessing libraries:\n",
    "from sklearn.preprocessing import StandardScaler, OneHotEncoder, LabelEncoder"
   ]
  },
  {
   "cell_type": "code",
   "execution_count": 28,
   "id": "7af58f5d",
   "metadata": {
    "execution": {
     "iopub.execute_input": "2023-08-08T14:50:11.386543Z",
     "iopub.status.busy": "2023-08-08T14:50:11.386093Z",
     "iopub.status.idle": "2023-08-08T14:50:11.400612Z",
     "shell.execute_reply": "2023-08-08T14:50:11.399500Z"
    },
    "papermill": {
     "duration": 0.033597,
     "end_time": "2023-08-08T14:50:11.402753",
     "exception": false,
     "start_time": "2023-08-08T14:50:11.369156",
     "status": "completed"
    },
    "tags": []
   },
   "outputs": [],
   "source": [
    "#standardscaler for numerical columns\n",
    "scaler = StandardScaler()                                                                                                                                                                                                                                                                                                                    \n",
    "scaler.fit(X_train[numeric_columns])\n",
    "\n",
    "X_train_num = pd.DataFrame(scaler.transform(X_train[numeric_columns]), columns=numeric_columns)\n",
    "X_test_num = pd.DataFrame(scaler.transform(X_test[numeric_columns]), columns=numeric_columns)"
   ]
  },
  {
   "cell_type": "code",
   "execution_count": 29,
   "id": "120658ca",
   "metadata": {
    "execution": {
     "iopub.execute_input": "2023-08-08T14:50:11.435292Z",
     "iopub.status.busy": "2023-08-08T14:50:11.434918Z",
     "iopub.status.idle": "2023-08-08T14:50:11.442998Z",
     "shell.execute_reply": "2023-08-08T14:50:11.441943Z"
    },
    "papermill": {
     "duration": 0.027021,
     "end_time": "2023-08-08T14:50:11.445289",
     "exception": false,
     "start_time": "2023-08-08T14:50:11.418268",
     "status": "completed"
    },
    "tags": []
   },
   "outputs": [],
   "source": [
    "ohe = OneHotEncoder(handle_unknown='ignore',drop='first')\n",
    "ohe.fit(X_train[cat_columns])\n",
    "\n",
    "columns_ohe = list(ohe.get_feature_names_out(cat_columns))"
   ]
  },
  {
   "cell_type": "code",
   "execution_count": 30,
   "id": "ae7b313e",
   "metadata": {
    "execution": {
     "iopub.execute_input": "2023-08-08T14:50:11.479001Z",
     "iopub.status.busy": "2023-08-08T14:50:11.478091Z",
     "iopub.status.idle": "2023-08-08T14:50:11.494115Z",
     "shell.execute_reply": "2023-08-08T14:50:11.492385Z"
    },
    "papermill": {
     "duration": 0.036225,
     "end_time": "2023-08-08T14:50:11.496738",
     "exception": false,
     "start_time": "2023-08-08T14:50:11.460513",
     "status": "completed"
    },
    "tags": []
   },
   "outputs": [
    {
     "name": "stderr",
     "output_type": "stream",
     "text": [
      "/opt/conda/lib/python3.10/site-packages/sklearn/preprocessing/_encoders.py:202: UserWarning: Found unknown categories in columns [0] during transform. These unknown categories will be encoded as all zeros\n",
      "  warnings.warn(\n"
     ]
    }
   ],
   "source": [
    "X_train_cat = ohe.transform(X_train[cat_columns])\n",
    "X_test_cat  = ohe.transform(X_test[cat_columns])"
   ]
  },
  {
   "cell_type": "code",
   "execution_count": 31,
   "id": "3474e30e",
   "metadata": {
    "execution": {
     "iopub.execute_input": "2023-08-08T14:50:11.532611Z",
     "iopub.status.busy": "2023-08-08T14:50:11.532209Z",
     "iopub.status.idle": "2023-08-08T14:50:11.541236Z",
     "shell.execute_reply": "2023-08-08T14:50:11.540001Z"
    },
    "papermill": {
     "duration": 0.029864,
     "end_time": "2023-08-08T14:50:11.543591",
     "exception": false,
     "start_time": "2023-08-08T14:50:11.513727",
     "status": "completed"
    },
    "tags": []
   },
   "outputs": [],
   "source": [
    "X_train_cat = pd.DataFrame(X_train_cat.todense(), columns=columns_ohe)\n",
    "X_test_cat  = pd.DataFrame(X_test_cat.todense(), columns=columns_ohe)"
   ]
  },
  {
   "cell_type": "code",
   "execution_count": 32,
   "id": "2873afe0",
   "metadata": {
    "execution": {
     "iopub.execute_input": "2023-08-08T14:50:11.578914Z",
     "iopub.status.busy": "2023-08-08T14:50:11.578496Z",
     "iopub.status.idle": "2023-08-08T14:50:11.586732Z",
     "shell.execute_reply": "2023-08-08T14:50:11.585680Z"
    },
    "papermill": {
     "duration": 0.028927,
     "end_time": "2023-08-08T14:50:11.589250",
     "exception": false,
     "start_time": "2023-08-08T14:50:11.560323",
     "status": "completed"
    },
    "tags": []
   },
   "outputs": [],
   "source": [
    "X_train = pd.concat([X_train_num, X_train_cat], axis=1)\n",
    "X_test = pd.concat([X_test_num, X_test_cat], axis=1)"
   ]
  },
  {
   "cell_type": "code",
   "execution_count": 33,
   "id": "617463c0",
   "metadata": {
    "execution": {
     "iopub.execute_input": "2023-08-08T14:50:11.624841Z",
     "iopub.status.busy": "2023-08-08T14:50:11.624433Z",
     "iopub.status.idle": "2023-08-08T14:50:11.629957Z",
     "shell.execute_reply": "2023-08-08T14:50:11.628658Z"
    },
    "papermill": {
     "duration": 0.027672,
     "end_time": "2023-08-08T14:50:11.633075",
     "exception": false,
     "start_time": "2023-08-08T14:50:11.605403",
     "status": "completed"
    },
    "tags": []
   },
   "outputs": [
    {
     "name": "stdout",
     "output_type": "stream",
     "text": [
      "(750, 556) (250, 556)\n"
     ]
    }
   ],
   "source": [
    "#checking the shape of train and test:\n",
    "print(X_train.shape, X_test.shape)"
   ]
  },
  {
   "cell_type": "markdown",
   "id": "c1905b42",
   "metadata": {
    "papermill": {
     "duration": 0.016487,
     "end_time": "2023-08-08T14:50:11.665684",
     "exception": false,
     "start_time": "2023-08-08T14:50:11.649197",
     "status": "completed"
    },
    "tags": []
   },
   "source": [
    "# LogisticRegression"
   ]
  },
  {
   "cell_type": "code",
   "execution_count": 34,
   "id": "c0ad7399",
   "metadata": {
    "execution": {
     "iopub.execute_input": "2023-08-08T14:50:11.700820Z",
     "iopub.status.busy": "2023-08-08T14:50:11.700416Z",
     "iopub.status.idle": "2023-08-08T14:50:11.818008Z",
     "shell.execute_reply": "2023-08-08T14:50:11.816831Z"
    },
    "papermill": {
     "duration": 0.137739,
     "end_time": "2023-08-08T14:50:11.820609",
     "exception": false,
     "start_time": "2023-08-08T14:50:11.682870",
     "status": "completed"
    },
    "tags": []
   },
   "outputs": [],
   "source": [
    "from sklearn.linear_model import LogisticRegression"
   ]
  },
  {
   "cell_type": "code",
   "execution_count": 35,
   "id": "f5f1066e",
   "metadata": {
    "execution": {
     "iopub.execute_input": "2023-08-08T14:50:11.853410Z",
     "iopub.status.busy": "2023-08-08T14:50:11.852960Z",
     "iopub.status.idle": "2023-08-08T14:50:12.067993Z",
     "shell.execute_reply": "2023-08-08T14:50:12.066750Z"
    },
    "papermill": {
     "duration": 0.234662,
     "end_time": "2023-08-08T14:50:12.070985",
     "exception": false,
     "start_time": "2023-08-08T14:50:11.836323",
     "status": "completed"
    },
    "tags": []
   },
   "outputs": [
    {
     "data": {
      "text/plain": [
       "77.73"
      ]
     },
     "execution_count": 35,
     "metadata": {},
     "output_type": "execute_result"
    }
   ],
   "source": [
    "log_reg = LogisticRegression()\n",
    "log_reg.fit(X_train,y_train)\n",
    "Y_pred = log_reg.predict(X_test)\n",
    "acc_log = round(log_reg.score(X_train,y_train) * 100, 2)\n",
    "acc_log"
   ]
  },
  {
   "cell_type": "markdown",
   "id": "35406a02",
   "metadata": {
    "papermill": {
     "duration": 0.025583,
     "end_time": "2023-08-08T14:50:12.122875",
     "exception": false,
     "start_time": "2023-08-08T14:50:12.097292",
     "status": "completed"
    },
    "tags": []
   },
   "source": [
    "# DecisionTreeClassifier"
   ]
  },
  {
   "cell_type": "markdown",
   "id": "3f9a699c",
   "metadata": {
    "papermill": {
     "duration": 0.027012,
     "end_time": "2023-08-08T14:50:12.177273",
     "exception": false,
     "start_time": "2023-08-08T14:50:12.150261",
     "status": "completed"
    },
    "tags": []
   },
   "source": []
  },
  {
   "cell_type": "code",
   "execution_count": 36,
   "id": "14eb00f0",
   "metadata": {
    "execution": {
     "iopub.execute_input": "2023-08-08T14:50:12.213673Z",
     "iopub.status.busy": "2023-08-08T14:50:12.213251Z",
     "iopub.status.idle": "2023-08-08T14:50:12.392977Z",
     "shell.execute_reply": "2023-08-08T14:50:12.391529Z"
    },
    "papermill": {
     "duration": 0.200015,
     "end_time": "2023-08-08T14:50:12.395869",
     "exception": false,
     "start_time": "2023-08-08T14:50:12.195854",
     "status": "completed"
    },
    "tags": []
   },
   "outputs": [],
   "source": [
    "from sklearn.tree import DecisionTreeClassifier\n"
   ]
  },
  {
   "cell_type": "code",
   "execution_count": 37,
   "id": "3a77c815",
   "metadata": {
    "execution": {
     "iopub.execute_input": "2023-08-08T14:50:12.429178Z",
     "iopub.status.busy": "2023-08-08T14:50:12.427945Z",
     "iopub.status.idle": "2023-08-08T14:50:12.527554Z",
     "shell.execute_reply": "2023-08-08T14:50:12.526244Z"
    },
    "papermill": {
     "duration": 0.118819,
     "end_time": "2023-08-08T14:50:12.530088",
     "exception": false,
     "start_time": "2023-08-08T14:50:12.411269",
     "status": "completed"
    },
    "tags": []
   },
   "outputs": [
    {
     "data": {
      "text/plain": [
       "93.73"
      ]
     },
     "execution_count": 37,
     "metadata": {},
     "output_type": "execute_result"
    }
   ],
   "source": [
    "decision_tree = DecisionTreeClassifier()\n",
    "decision_tree.fit(X_train,y_train)\n",
    "Y_pred = decision_tree.predict(X_test)\n",
    "acc_decision_tree = round(decision_tree.score(X_train,y_train) * 100, 2)\n",
    "acc_decision_tree"
   ]
  },
  {
   "cell_type": "code",
   "execution_count": null,
   "id": "f746a639",
   "metadata": {
    "papermill": {
     "duration": 0.014972,
     "end_time": "2023-08-08T14:50:12.560539",
     "exception": false,
     "start_time": "2023-08-08T14:50:12.545567",
     "status": "completed"
    },
    "tags": []
   },
   "outputs": [],
   "source": []
  },
  {
   "cell_type": "code",
   "execution_count": null,
   "id": "cea9565d",
   "metadata": {
    "papermill": {
     "duration": 0.015317,
     "end_time": "2023-08-08T14:50:12.591320",
     "exception": false,
     "start_time": "2023-08-08T14:50:12.576003",
     "status": "completed"
    },
    "tags": []
   },
   "outputs": [],
   "source": []
  },
  {
   "cell_type": "code",
   "execution_count": null,
   "id": "63a985d2",
   "metadata": {
    "papermill": {
     "duration": 0.014902,
     "end_time": "2023-08-08T14:50:12.621862",
     "exception": false,
     "start_time": "2023-08-08T14:50:12.606960",
     "status": "completed"
    },
    "tags": []
   },
   "outputs": [],
   "source": []
  }
 ],
 "metadata": {
  "kernelspec": {
   "display_name": "Python 3",
   "language": "python",
   "name": "python3"
  },
  "language_info": {
   "codemirror_mode": {
    "name": "ipython",
    "version": 3
   },
   "file_extension": ".py",
   "mimetype": "text/x-python",
   "name": "python",
   "nbconvert_exporter": "python",
   "pygments_lexer": "ipython3",
   "version": "3.10.12"
  },
  "papermill": {
   "default_parameters": {},
   "duration": 26.251139,
   "end_time": "2023-08-08T14:50:13.661660",
   "environment_variables": {},
   "exception": null,
   "input_path": "__notebook__.ipynb",
   "output_path": "__notebook__.ipynb",
   "parameters": {},
   "start_time": "2023-08-08T14:49:47.410521",
   "version": "2.4.0"
  }
 },
 "nbformat": 4,
 "nbformat_minor": 5
}
