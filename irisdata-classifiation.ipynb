{
 "cells": [
  {
   "cell_type": "code",
   "execution_count": 1,
   "id": "5ba585a3",
   "metadata": {
    "_cell_guid": "b1076dfc-b9ad-4769-8c92-a6c4dae69d19",
    "_uuid": "8f2839f25d086af736a60e9eeb907d3b93b6e0e5",
    "execution": {
     "iopub.execute_input": "2023-08-08T14:56:05.949404Z",
     "iopub.status.busy": "2023-08-08T14:56:05.948498Z",
     "iopub.status.idle": "2023-08-08T14:56:05.972516Z",
     "shell.execute_reply": "2023-08-08T14:56:05.971157Z"
    },
    "papermill": {
     "duration": 0.038666,
     "end_time": "2023-08-08T14:56:05.974882",
     "exception": false,
     "start_time": "2023-08-08T14:56:05.936216",
     "status": "completed"
    },
    "tags": []
   },
   "outputs": [
    {
     "name": "stdout",
     "output_type": "stream",
     "text": [
      "/kaggle/input/iris/Iris.csv\n",
      "/kaggle/input/iris/database.sqlite\n"
     ]
    }
   ],
   "source": [
    "# This Python 3 environment comes with many helpful analytics libraries installed\n",
    "# It is defined by the kaggle/python Docker image: https://github.com/kaggle/docker-python\n",
    "# For example, here's several helpful packages to load\n",
    "\n",
    "import numpy as np # linear algebra\n",
    "import pandas as pd # data processing, CSV file I/O (e.g. pd.read_csv)\n",
    "\n",
    "# Input data files are available in the read-only \"../input/\" directory\n",
    "# For example, running this (by clicking run or pressing Shift+Enter) will list all files under the input directory\n",
    "\n",
    "import os\n",
    "for dirname, _, filenames in os.walk('/kaggle/input'):\n",
    "    for filename in filenames:\n",
    "        print(os.path.join(dirname, filename))\n",
    "\n",
    "# You can write up to 20GB to the current directory (/kaggle/working/) that gets preserved as output when you create a version using \"Save & Run All\" \n",
    "# You can also write temporary files to /kaggle/temp/, but they won't be saved outside of the current session"
   ]
  },
  {
   "cell_type": "code",
   "execution_count": 2,
   "id": "507dcc59",
   "metadata": {
    "execution": {
     "iopub.execute_input": "2023-08-08T14:56:05.996801Z",
     "iopub.status.busy": "2023-08-08T14:56:05.995780Z",
     "iopub.status.idle": "2023-08-08T14:56:06.012908Z",
     "shell.execute_reply": "2023-08-08T14:56:06.012059Z"
    },
    "papermill": {
     "duration": 0.031124,
     "end_time": "2023-08-08T14:56:06.015794",
     "exception": false,
     "start_time": "2023-08-08T14:56:05.984670",
     "status": "completed"
    },
    "tags": []
   },
   "outputs": [],
   "source": [
    "data = pd.read_csv(\"/kaggle/input/iris/Iris.csv\")"
   ]
  },
  {
   "cell_type": "code",
   "execution_count": 3,
   "id": "6750fc0a",
   "metadata": {
    "execution": {
     "iopub.execute_input": "2023-08-08T14:56:06.050103Z",
     "iopub.status.busy": "2023-08-08T14:56:06.049191Z",
     "iopub.status.idle": "2023-08-08T14:56:06.074860Z",
     "shell.execute_reply": "2023-08-08T14:56:06.074070Z"
    },
    "papermill": {
     "duration": 0.046299,
     "end_time": "2023-08-08T14:56:06.077408",
     "exception": false,
     "start_time": "2023-08-08T14:56:06.031109",
     "status": "completed"
    },
    "tags": []
   },
   "outputs": [
    {
     "data": {
      "text/html": [
       "<div>\n",
       "<style scoped>\n",
       "    .dataframe tbody tr th:only-of-type {\n",
       "        vertical-align: middle;\n",
       "    }\n",
       "\n",
       "    .dataframe tbody tr th {\n",
       "        vertical-align: top;\n",
       "    }\n",
       "\n",
       "    .dataframe thead th {\n",
       "        text-align: right;\n",
       "    }\n",
       "</style>\n",
       "<table border=\"1\" class=\"dataframe\">\n",
       "  <thead>\n",
       "    <tr style=\"text-align: right;\">\n",
       "      <th></th>\n",
       "      <th>Id</th>\n",
       "      <th>SepalLengthCm</th>\n",
       "      <th>SepalWidthCm</th>\n",
       "      <th>PetalLengthCm</th>\n",
       "      <th>PetalWidthCm</th>\n",
       "      <th>Species</th>\n",
       "    </tr>\n",
       "  </thead>\n",
       "  <tbody>\n",
       "    <tr>\n",
       "      <th>0</th>\n",
       "      <td>1</td>\n",
       "      <td>5.1</td>\n",
       "      <td>3.5</td>\n",
       "      <td>1.4</td>\n",
       "      <td>0.2</td>\n",
       "      <td>Iris-setosa</td>\n",
       "    </tr>\n",
       "    <tr>\n",
       "      <th>1</th>\n",
       "      <td>2</td>\n",
       "      <td>4.9</td>\n",
       "      <td>3.0</td>\n",
       "      <td>1.4</td>\n",
       "      <td>0.2</td>\n",
       "      <td>Iris-setosa</td>\n",
       "    </tr>\n",
       "    <tr>\n",
       "      <th>2</th>\n",
       "      <td>3</td>\n",
       "      <td>4.7</td>\n",
       "      <td>3.2</td>\n",
       "      <td>1.3</td>\n",
       "      <td>0.2</td>\n",
       "      <td>Iris-setosa</td>\n",
       "    </tr>\n",
       "  </tbody>\n",
       "</table>\n",
       "</div>"
      ],
      "text/plain": [
       "   Id  SepalLengthCm  SepalWidthCm  PetalLengthCm  PetalWidthCm      Species\n",
       "0   1            5.1           3.5            1.4           0.2  Iris-setosa\n",
       "1   2            4.9           3.0            1.4           0.2  Iris-setosa\n",
       "2   3            4.7           3.2            1.3           0.2  Iris-setosa"
      ]
     },
     "execution_count": 3,
     "metadata": {},
     "output_type": "execute_result"
    }
   ],
   "source": [
    "data.head(3)"
   ]
  },
  {
   "cell_type": "code",
   "execution_count": 4,
   "id": "7bfa01dd",
   "metadata": {
    "execution": {
     "iopub.execute_input": "2023-08-08T14:56:06.105133Z",
     "iopub.status.busy": "2023-08-08T14:56:06.104235Z",
     "iopub.status.idle": "2023-08-08T14:56:06.111170Z",
     "shell.execute_reply": "2023-08-08T14:56:06.110227Z"
    },
    "papermill": {
     "duration": 0.020228,
     "end_time": "2023-08-08T14:56:06.113083",
     "exception": false,
     "start_time": "2023-08-08T14:56:06.092855",
     "status": "completed"
    },
    "tags": []
   },
   "outputs": [
    {
     "data": {
      "text/plain": [
       "(150, 6)"
      ]
     },
     "execution_count": 4,
     "metadata": {},
     "output_type": "execute_result"
    }
   ],
   "source": [
    "data.shape"
   ]
  },
  {
   "cell_type": "code",
   "execution_count": 5,
   "id": "d5b3afb4",
   "metadata": {
    "execution": {
     "iopub.execute_input": "2023-08-08T14:56:06.136553Z",
     "iopub.status.busy": "2023-08-08T14:56:06.135815Z",
     "iopub.status.idle": "2023-08-08T14:56:06.162259Z",
     "shell.execute_reply": "2023-08-08T14:56:06.161013Z"
    },
    "papermill": {
     "duration": 0.040245,
     "end_time": "2023-08-08T14:56:06.164505",
     "exception": false,
     "start_time": "2023-08-08T14:56:06.124260",
     "status": "completed"
    },
    "tags": []
   },
   "outputs": [
    {
     "name": "stdout",
     "output_type": "stream",
     "text": [
      "<class 'pandas.core.frame.DataFrame'>\n",
      "RangeIndex: 150 entries, 0 to 149\n",
      "Data columns (total 6 columns):\n",
      " #   Column         Non-Null Count  Dtype  \n",
      "---  ------         --------------  -----  \n",
      " 0   Id             150 non-null    int64  \n",
      " 1   SepalLengthCm  150 non-null    float64\n",
      " 2   SepalWidthCm   150 non-null    float64\n",
      " 3   PetalLengthCm  150 non-null    float64\n",
      " 4   PetalWidthCm   150 non-null    float64\n",
      " 5   Species        150 non-null    object \n",
      "dtypes: float64(4), int64(1), object(1)\n",
      "memory usage: 7.2+ KB\n"
     ]
    }
   ],
   "source": [
    "data.info()"
   ]
  },
  {
   "cell_type": "code",
   "execution_count": 6,
   "id": "510f830c",
   "metadata": {
    "execution": {
     "iopub.execute_input": "2023-08-08T14:56:06.186182Z",
     "iopub.status.busy": "2023-08-08T14:56:06.185709Z",
     "iopub.status.idle": "2023-08-08T14:56:06.194407Z",
     "shell.execute_reply": "2023-08-08T14:56:06.193588Z"
    },
    "papermill": {
     "duration": 0.021739,
     "end_time": "2023-08-08T14:56:06.196411",
     "exception": false,
     "start_time": "2023-08-08T14:56:06.174672",
     "status": "completed"
    },
    "tags": []
   },
   "outputs": [
    {
     "data": {
      "text/plain": [
       "Id               0\n",
       "SepalLengthCm    0\n",
       "SepalWidthCm     0\n",
       "PetalLengthCm    0\n",
       "PetalWidthCm     0\n",
       "Species          0\n",
       "dtype: int64"
      ]
     },
     "execution_count": 6,
     "metadata": {},
     "output_type": "execute_result"
    }
   ],
   "source": [
    "data.isnull().sum()"
   ]
  },
  {
   "cell_type": "markdown",
   "id": "4cdd5f67",
   "metadata": {
    "papermill": {
     "duration": 0.009491,
     "end_time": "2023-08-08T14:56:06.215781",
     "exception": false,
     "start_time": "2023-08-08T14:56:06.206290",
     "status": "completed"
    },
    "tags": []
   },
   "source": [
    "dont have any null values"
   ]
  },
  {
   "cell_type": "code",
   "execution_count": 7,
   "id": "f2c46f2b",
   "metadata": {
    "execution": {
     "iopub.execute_input": "2023-08-08T14:56:06.237859Z",
     "iopub.status.busy": "2023-08-08T14:56:06.237217Z",
     "iopub.status.idle": "2023-08-08T14:56:06.264731Z",
     "shell.execute_reply": "2023-08-08T14:56:06.263982Z"
    },
    "papermill": {
     "duration": 0.040889,
     "end_time": "2023-08-08T14:56:06.266736",
     "exception": false,
     "start_time": "2023-08-08T14:56:06.225847",
     "status": "completed"
    },
    "tags": []
   },
   "outputs": [
    {
     "data": {
      "text/html": [
       "<div>\n",
       "<style scoped>\n",
       "    .dataframe tbody tr th:only-of-type {\n",
       "        vertical-align: middle;\n",
       "    }\n",
       "\n",
       "    .dataframe tbody tr th {\n",
       "        vertical-align: top;\n",
       "    }\n",
       "\n",
       "    .dataframe thead th {\n",
       "        text-align: right;\n",
       "    }\n",
       "</style>\n",
       "<table border=\"1\" class=\"dataframe\">\n",
       "  <thead>\n",
       "    <tr style=\"text-align: right;\">\n",
       "      <th></th>\n",
       "      <th>Id</th>\n",
       "      <th>SepalLengthCm</th>\n",
       "      <th>SepalWidthCm</th>\n",
       "      <th>PetalLengthCm</th>\n",
       "      <th>PetalWidthCm</th>\n",
       "    </tr>\n",
       "  </thead>\n",
       "  <tbody>\n",
       "    <tr>\n",
       "      <th>count</th>\n",
       "      <td>150.000000</td>\n",
       "      <td>150.000000</td>\n",
       "      <td>150.000000</td>\n",
       "      <td>150.000000</td>\n",
       "      <td>150.000000</td>\n",
       "    </tr>\n",
       "    <tr>\n",
       "      <th>mean</th>\n",
       "      <td>75.500000</td>\n",
       "      <td>5.843333</td>\n",
       "      <td>3.054000</td>\n",
       "      <td>3.758667</td>\n",
       "      <td>1.198667</td>\n",
       "    </tr>\n",
       "    <tr>\n",
       "      <th>std</th>\n",
       "      <td>43.445368</td>\n",
       "      <td>0.828066</td>\n",
       "      <td>0.433594</td>\n",
       "      <td>1.764420</td>\n",
       "      <td>0.763161</td>\n",
       "    </tr>\n",
       "    <tr>\n",
       "      <th>min</th>\n",
       "      <td>1.000000</td>\n",
       "      <td>4.300000</td>\n",
       "      <td>2.000000</td>\n",
       "      <td>1.000000</td>\n",
       "      <td>0.100000</td>\n",
       "    </tr>\n",
       "    <tr>\n",
       "      <th>25%</th>\n",
       "      <td>38.250000</td>\n",
       "      <td>5.100000</td>\n",
       "      <td>2.800000</td>\n",
       "      <td>1.600000</td>\n",
       "      <td>0.300000</td>\n",
       "    </tr>\n",
       "    <tr>\n",
       "      <th>50%</th>\n",
       "      <td>75.500000</td>\n",
       "      <td>5.800000</td>\n",
       "      <td>3.000000</td>\n",
       "      <td>4.350000</td>\n",
       "      <td>1.300000</td>\n",
       "    </tr>\n",
       "    <tr>\n",
       "      <th>75%</th>\n",
       "      <td>112.750000</td>\n",
       "      <td>6.400000</td>\n",
       "      <td>3.300000</td>\n",
       "      <td>5.100000</td>\n",
       "      <td>1.800000</td>\n",
       "    </tr>\n",
       "    <tr>\n",
       "      <th>max</th>\n",
       "      <td>150.000000</td>\n",
       "      <td>7.900000</td>\n",
       "      <td>4.400000</td>\n",
       "      <td>6.900000</td>\n",
       "      <td>2.500000</td>\n",
       "    </tr>\n",
       "  </tbody>\n",
       "</table>\n",
       "</div>"
      ],
      "text/plain": [
       "               Id  SepalLengthCm  SepalWidthCm  PetalLengthCm  PetalWidthCm\n",
       "count  150.000000     150.000000    150.000000     150.000000    150.000000\n",
       "mean    75.500000       5.843333      3.054000       3.758667      1.198667\n",
       "std     43.445368       0.828066      0.433594       1.764420      0.763161\n",
       "min      1.000000       4.300000      2.000000       1.000000      0.100000\n",
       "25%     38.250000       5.100000      2.800000       1.600000      0.300000\n",
       "50%     75.500000       5.800000      3.000000       4.350000      1.300000\n",
       "75%    112.750000       6.400000      3.300000       5.100000      1.800000\n",
       "max    150.000000       7.900000      4.400000       6.900000      2.500000"
      ]
     },
     "execution_count": 7,
     "metadata": {},
     "output_type": "execute_result"
    }
   ],
   "source": [
    "data.describe()"
   ]
  },
  {
   "cell_type": "code",
   "execution_count": 8,
   "id": "0d17bc2b",
   "metadata": {
    "execution": {
     "iopub.execute_input": "2023-08-08T14:56:06.289424Z",
     "iopub.status.busy": "2023-08-08T14:56:06.288397Z",
     "iopub.status.idle": "2023-08-08T14:56:06.297236Z",
     "shell.execute_reply": "2023-08-08T14:56:06.296435Z"
    },
    "papermill": {
     "duration": 0.021992,
     "end_time": "2023-08-08T14:56:06.299110",
     "exception": false,
     "start_time": "2023-08-08T14:56:06.277118",
     "status": "completed"
    },
    "tags": []
   },
   "outputs": [
    {
     "data": {
      "text/plain": [
       "0"
      ]
     },
     "execution_count": 8,
     "metadata": {},
     "output_type": "execute_result"
    }
   ],
   "source": [
    "data.duplicated().sum()"
   ]
  },
  {
   "cell_type": "markdown",
   "id": "26dd184c",
   "metadata": {
    "papermill": {
     "duration": 0.009844,
     "end_time": "2023-08-08T14:56:06.319152",
     "exception": false,
     "start_time": "2023-08-08T14:56:06.309308",
     "status": "completed"
    },
    "tags": []
   },
   "source": [
    "we dont have any duplicated values"
   ]
  },
  {
   "cell_type": "code",
   "execution_count": 9,
   "id": "fd31a9ab",
   "metadata": {
    "execution": {
     "iopub.execute_input": "2023-08-08T14:56:06.341176Z",
     "iopub.status.busy": "2023-08-08T14:56:06.340509Z",
     "iopub.status.idle": "2023-08-08T14:56:06.346216Z",
     "shell.execute_reply": "2023-08-08T14:56:06.345405Z"
    },
    "papermill": {
     "duration": 0.018954,
     "end_time": "2023-08-08T14:56:06.348184",
     "exception": false,
     "start_time": "2023-08-08T14:56:06.329230",
     "status": "completed"
    },
    "tags": []
   },
   "outputs": [],
   "source": [
    "data.drop([\"Id\"],axis = 1,inplace = True)"
   ]
  },
  {
   "cell_type": "code",
   "execution_count": 10,
   "id": "7038acf1",
   "metadata": {
    "execution": {
     "iopub.execute_input": "2023-08-08T14:56:06.370479Z",
     "iopub.status.busy": "2023-08-08T14:56:06.369752Z",
     "iopub.status.idle": "2023-08-08T14:56:06.381866Z",
     "shell.execute_reply": "2023-08-08T14:56:06.380784Z"
    },
    "papermill": {
     "duration": 0.025883,
     "end_time": "2023-08-08T14:56:06.384196",
     "exception": false,
     "start_time": "2023-08-08T14:56:06.358313",
     "status": "completed"
    },
    "tags": []
   },
   "outputs": [
    {
     "data": {
      "text/html": [
       "<div>\n",
       "<style scoped>\n",
       "    .dataframe tbody tr th:only-of-type {\n",
       "        vertical-align: middle;\n",
       "    }\n",
       "\n",
       "    .dataframe tbody tr th {\n",
       "        vertical-align: top;\n",
       "    }\n",
       "\n",
       "    .dataframe thead th {\n",
       "        text-align: right;\n",
       "    }\n",
       "</style>\n",
       "<table border=\"1\" class=\"dataframe\">\n",
       "  <thead>\n",
       "    <tr style=\"text-align: right;\">\n",
       "      <th></th>\n",
       "      <th>SepalLengthCm</th>\n",
       "      <th>SepalWidthCm</th>\n",
       "      <th>PetalLengthCm</th>\n",
       "      <th>PetalWidthCm</th>\n",
       "      <th>Species</th>\n",
       "    </tr>\n",
       "  </thead>\n",
       "  <tbody>\n",
       "    <tr>\n",
       "      <th>0</th>\n",
       "      <td>5.1</td>\n",
       "      <td>3.5</td>\n",
       "      <td>1.4</td>\n",
       "      <td>0.2</td>\n",
       "      <td>Iris-setosa</td>\n",
       "    </tr>\n",
       "    <tr>\n",
       "      <th>1</th>\n",
       "      <td>4.9</td>\n",
       "      <td>3.0</td>\n",
       "      <td>1.4</td>\n",
       "      <td>0.2</td>\n",
       "      <td>Iris-setosa</td>\n",
       "    </tr>\n",
       "  </tbody>\n",
       "</table>\n",
       "</div>"
      ],
      "text/plain": [
       "   SepalLengthCm  SepalWidthCm  PetalLengthCm  PetalWidthCm      Species\n",
       "0            5.1           3.5            1.4           0.2  Iris-setosa\n",
       "1            4.9           3.0            1.4           0.2  Iris-setosa"
      ]
     },
     "execution_count": 10,
     "metadata": {},
     "output_type": "execute_result"
    }
   ],
   "source": [
    "data.head(2)"
   ]
  },
  {
   "cell_type": "code",
   "execution_count": 11,
   "id": "23e716ea",
   "metadata": {
    "execution": {
     "iopub.execute_input": "2023-08-08T14:56:06.406661Z",
     "iopub.status.busy": "2023-08-08T14:56:06.406244Z",
     "iopub.status.idle": "2023-08-08T14:56:06.412410Z",
     "shell.execute_reply": "2023-08-08T14:56:06.411401Z"
    },
    "papermill": {
     "duration": 0.019781,
     "end_time": "2023-08-08T14:56:06.414350",
     "exception": false,
     "start_time": "2023-08-08T14:56:06.394569",
     "status": "completed"
    },
    "tags": []
   },
   "outputs": [],
   "source": [
    "X = data.drop([\"Species\"], axis = 1)\n",
    "y = data[\"Species\"]"
   ]
  },
  {
   "cell_type": "code",
   "execution_count": 12,
   "id": "79753826",
   "metadata": {
    "execution": {
     "iopub.execute_input": "2023-08-08T14:56:06.437287Z",
     "iopub.status.busy": "2023-08-08T14:56:06.436781Z",
     "iopub.status.idle": "2023-08-08T14:56:07.672519Z",
     "shell.execute_reply": "2023-08-08T14:56:07.671541Z"
    },
    "papermill": {
     "duration": 1.250255,
     "end_time": "2023-08-08T14:56:07.675090",
     "exception": false,
     "start_time": "2023-08-08T14:56:06.424835",
     "status": "completed"
    },
    "tags": []
   },
   "outputs": [
    {
     "name": "stderr",
     "output_type": "stream",
     "text": [
      "/opt/conda/lib/python3.10/site-packages/scipy/__init__.py:146: UserWarning: A NumPy version >=1.16.5 and <1.23.0 is required for this version of SciPy (detected version 1.23.5\n",
      "  warnings.warn(f\"A NumPy version >={np_minversion} and <{np_maxversion}\"\n"
     ]
    }
   ],
   "source": [
    "from sklearn.model_selection import train_test_split"
   ]
  },
  {
   "cell_type": "code",
   "execution_count": 13,
   "id": "dbfd0472",
   "metadata": {
    "execution": {
     "iopub.execute_input": "2023-08-08T14:56:07.700865Z",
     "iopub.status.busy": "2023-08-08T14:56:07.700429Z",
     "iopub.status.idle": "2023-08-08T14:56:07.708787Z",
     "shell.execute_reply": "2023-08-08T14:56:07.707994Z"
    },
    "papermill": {
     "duration": 0.022268,
     "end_time": "2023-08-08T14:56:07.710792",
     "exception": false,
     "start_time": "2023-08-08T14:56:07.688524",
     "status": "completed"
    },
    "tags": []
   },
   "outputs": [],
   "source": [
    "X_train, X_test, y_train, y_test = train_test_split(X, y, test_size = 0.3, random_state = 123,stratify=y)"
   ]
  },
  {
   "cell_type": "code",
   "execution_count": 14,
   "id": "d5234425",
   "metadata": {
    "execution": {
     "iopub.execute_input": "2023-08-08T14:56:07.734176Z",
     "iopub.status.busy": "2023-08-08T14:56:07.733447Z",
     "iopub.status.idle": "2023-08-08T14:56:07.739065Z",
     "shell.execute_reply": "2023-08-08T14:56:07.737899Z"
    },
    "papermill": {
     "duration": 0.01944,
     "end_time": "2023-08-08T14:56:07.740994",
     "exception": false,
     "start_time": "2023-08-08T14:56:07.721554",
     "status": "completed"
    },
    "tags": []
   },
   "outputs": [
    {
     "name": "stdout",
     "output_type": "stream",
     "text": [
      "(105, 4)\n",
      "(45, 4)\n",
      "(105,)\n",
      "(45,)\n"
     ]
    }
   ],
   "source": [
    "#checking shape of train and test data:\n",
    "print(X_train.shape)\n",
    "print(X_test.shape)\n",
    "print(y_train.shape)\n",
    "print(y_test.shape)"
   ]
  },
  {
   "cell_type": "code",
   "execution_count": 15,
   "id": "9ab1081f",
   "metadata": {
    "execution": {
     "iopub.execute_input": "2023-08-08T14:56:07.764164Z",
     "iopub.status.busy": "2023-08-08T14:56:07.763418Z",
     "iopub.status.idle": "2023-08-08T14:56:08.136630Z",
     "shell.execute_reply": "2023-08-08T14:56:08.135360Z"
    },
    "papermill": {
     "duration": 0.388327,
     "end_time": "2023-08-08T14:56:08.139837",
     "exception": false,
     "start_time": "2023-08-08T14:56:07.751510",
     "status": "completed"
    },
    "tags": []
   },
   "outputs": [],
   "source": [
    "# Importing the required classifiers for model building:\n",
    "from sklearn.ensemble import RandomForestClassifier\n",
    "\n",
    "from sklearn.linear_model import LogisticRegression\n",
    "\n",
    "from sklearn.ensemble import GradientBoostingClassifier\n",
    "\n",
    "from sklearn.metrics import confusion_matrix\n",
    "from sklearn.metrics import classification_report\n",
    "#from imblearn.over_sampling import SMOTE\n",
    "from sklearn.metrics import accuracy_score, recall_score, precision_score, f1_score "
   ]
  },
  {
   "cell_type": "code",
   "execution_count": 16,
   "id": "e8338c8f",
   "metadata": {
    "execution": {
     "iopub.execute_input": "2023-08-08T14:56:08.162696Z",
     "iopub.status.busy": "2023-08-08T14:56:08.162302Z",
     "iopub.status.idle": "2023-08-08T14:56:08.167230Z",
     "shell.execute_reply": "2023-08-08T14:56:08.166025Z"
    },
    "papermill": {
     "duration": 0.018898,
     "end_time": "2023-08-08T14:56:08.169381",
     "exception": false,
     "start_time": "2023-08-08T14:56:08.150483",
     "status": "completed"
    },
    "tags": []
   },
   "outputs": [],
   "source": [
    "# Importing the required preprocessing libraries:\n",
    "from sklearn.preprocessing import StandardScaler, OneHotEncoder, LabelEncoder"
   ]
  },
  {
   "cell_type": "code",
   "execution_count": 17,
   "id": "cd2bd005",
   "metadata": {
    "execution": {
     "iopub.execute_input": "2023-08-08T14:56:08.193013Z",
     "iopub.status.busy": "2023-08-08T14:56:08.192610Z",
     "iopub.status.idle": "2023-08-08T14:56:08.198024Z",
     "shell.execute_reply": "2023-08-08T14:56:08.197205Z"
    },
    "papermill": {
     "duration": 0.019099,
     "end_time": "2023-08-08T14:56:08.199798",
     "exception": false,
     "start_time": "2023-08-08T14:56:08.180699",
     "status": "completed"
    },
    "tags": []
   },
   "outputs": [],
   "source": [
    "#label encoding for target (y) variable:\n",
    "le = LabelEncoder()\n",
    "\n",
    "le.fit(y_train)\n",
    "\n",
    "y_train = le.transform(y_train)\n",
    "y_test = le.transform(y_test)"
   ]
  },
  {
   "cell_type": "code",
   "execution_count": 18,
   "id": "9c396cb0",
   "metadata": {
    "execution": {
     "iopub.execute_input": "2023-08-08T14:56:08.222610Z",
     "iopub.status.busy": "2023-08-08T14:56:08.222216Z",
     "iopub.status.idle": "2023-08-08T14:56:08.226899Z",
     "shell.execute_reply": "2023-08-08T14:56:08.225857Z"
    },
    "papermill": {
     "duration": 0.018603,
     "end_time": "2023-08-08T14:56:08.228980",
     "exception": false,
     "start_time": "2023-08-08T14:56:08.210377",
     "status": "completed"
    },
    "tags": []
   },
   "outputs": [],
   "source": [
    "species = [\"Iris-setosa\", \"Iris-versicolor\", \"Iris-virginica\"]"
   ]
  },
  {
   "cell_type": "code",
   "execution_count": 19,
   "id": "0ebdd0c3",
   "metadata": {
    "execution": {
     "iopub.execute_input": "2023-08-08T14:56:08.251517Z",
     "iopub.status.busy": "2023-08-08T14:56:08.251125Z",
     "iopub.status.idle": "2023-08-08T14:56:08.684125Z",
     "shell.execute_reply": "2023-08-08T14:56:08.682895Z"
    },
    "papermill": {
     "duration": 0.447283,
     "end_time": "2023-08-08T14:56:08.686753",
     "exception": false,
     "start_time": "2023-08-08T14:56:08.239470",
     "status": "completed"
    },
    "tags": []
   },
   "outputs": [],
   "source": [
    "import matplotlib.pyplot as plt\n",
    "import seaborn as sns "
   ]
  },
  {
   "cell_type": "code",
   "execution_count": 20,
   "id": "66ed33a6",
   "metadata": {
    "execution": {
     "iopub.execute_input": "2023-08-08T14:56:08.709974Z",
     "iopub.status.busy": "2023-08-08T14:56:08.709555Z",
     "iopub.status.idle": "2023-08-08T14:56:08.717731Z",
     "shell.execute_reply": "2023-08-08T14:56:08.716613Z"
    },
    "papermill": {
     "duration": 0.02245,
     "end_time": "2023-08-08T14:56:08.719924",
     "exception": false,
     "start_time": "2023-08-08T14:56:08.697474",
     "status": "completed"
    },
    "tags": []
   },
   "outputs": [],
   "source": [
    "import itertools\n",
    "def plot_confusion_matrix(cm, classes,\n",
    "                          title = 'Confusion Matrix',\n",
    "                          cmap=plt.cm.Blues):\n",
    "    \n",
    "    plt.figure(figsize = (5,5))\n",
    "    plt.imshow(cm, interpolation = 'nearest', cmap = cmap)\n",
    "    plt.title(title)\n",
    "    plt.colorbar()\n",
    "    tick_marks = np.arange(len(classes))\n",
    "    plt.xticks(tick_marks, classes)\n",
    "    plt.yticks(tick_marks, classes)\n",
    "    thresh = cm.max() / 2.\n",
    "    for i, j in itertools.product(range(cm.shape[0]), range(cm.shape[1])):\n",
    "        plt.text(j, i, cm[i, j],\n",
    "                 horizontalalignment = \"center\",\n",
    "                 color = \"white\" if cm[i, j] > thresh else \"black\")\n",
    "\n",
    "    plt.tight_layout()\n",
    "    plt.ylabel('True label')\n",
    "    plt.xlabel('Predicted label')"
   ]
  },
  {
   "cell_type": "code",
   "execution_count": 21,
   "id": "a47bf25d",
   "metadata": {
    "execution": {
     "iopub.execute_input": "2023-08-08T14:56:08.742540Z",
     "iopub.status.busy": "2023-08-08T14:56:08.742155Z",
     "iopub.status.idle": "2023-08-08T14:56:08.749433Z",
     "shell.execute_reply": "2023-08-08T14:56:08.748323Z"
    },
    "papermill": {
     "duration": 0.021118,
     "end_time": "2023-08-08T14:56:08.751599",
     "exception": false,
     "start_time": "2023-08-08T14:56:08.730481",
     "status": "completed"
    },
    "tags": []
   },
   "outputs": [],
   "source": [
    "from sklearn.metrics import balanced_accuracy_score, precision_score, recall_score, f1_score, roc_auc_score\n",
    "\n",
    "def eval_model(y_test , y_pred, seed = None):\n",
    "    # We should create a seed for future random model evaluation.\n",
    "    if seed is None:\n",
    "        np.random.seed(42)\n",
    "    else:\n",
    "        np.random.seed(seed)\n",
    "    \n",
    "    print('Accuracy:', balanced_accuracy_score(y_test, y_pred))\n",
    "    print('Precision:', precision_score(y_test, y_pred, average = \"macro\"))\n",
    "    print('Recall:', recall_score(y_test, y_pred, average = \"macro\"))\n",
    "    print('F1 score:', f1_score(y_test, y_pred, average = \"macro\"))\n",
    "    print('ROC-AUC score:', f1_score(y_test, y_pred, average = \"macro\"))"
   ]
  },
  {
   "cell_type": "markdown",
   "id": "022d5162",
   "metadata": {
    "papermill": {
     "duration": 0.010206,
     "end_time": "2023-08-08T14:56:08.772728",
     "exception": false,
     "start_time": "2023-08-08T14:56:08.762522",
     "status": "completed"
    },
    "tags": []
   },
   "source": [
    "# LogisticRegression"
   ]
  },
  {
   "cell_type": "code",
   "execution_count": 22,
   "id": "6e0f545b",
   "metadata": {
    "execution": {
     "iopub.execute_input": "2023-08-08T14:56:08.795102Z",
     "iopub.status.busy": "2023-08-08T14:56:08.794690Z",
     "iopub.status.idle": "2023-08-08T14:56:08.799691Z",
     "shell.execute_reply": "2023-08-08T14:56:08.798587Z"
    },
    "papermill": {
     "duration": 0.018671,
     "end_time": "2023-08-08T14:56:08.801719",
     "exception": false,
     "start_time": "2023-08-08T14:56:08.783048",
     "status": "completed"
    },
    "tags": []
   },
   "outputs": [],
   "source": [
    "from sklearn.linear_model import LogisticRegression\n",
    "lr = LogisticRegression()"
   ]
  },
  {
   "cell_type": "code",
   "execution_count": 23,
   "id": "87a616c9",
   "metadata": {
    "execution": {
     "iopub.execute_input": "2023-08-08T14:56:08.824310Z",
     "iopub.status.busy": "2023-08-08T14:56:08.823892Z",
     "iopub.status.idle": "2023-08-08T14:56:08.862753Z",
     "shell.execute_reply": "2023-08-08T14:56:08.861642Z"
    },
    "papermill": {
     "duration": 0.053238,
     "end_time": "2023-08-08T14:56:08.865426",
     "exception": false,
     "start_time": "2023-08-08T14:56:08.812188",
     "status": "completed"
    },
    "tags": []
   },
   "outputs": [],
   "source": [
    "lr.fit(X_train, y_train)\n",
    "lr_pred = lr.predict(X_test)"
   ]
  },
  {
   "cell_type": "code",
   "execution_count": 24,
   "id": "11d3efbe",
   "metadata": {
    "execution": {
     "iopub.execute_input": "2023-08-08T14:56:08.888460Z",
     "iopub.status.busy": "2023-08-08T14:56:08.888068Z",
     "iopub.status.idle": "2023-08-08T14:56:08.903548Z",
     "shell.execute_reply": "2023-08-08T14:56:08.902111Z"
    },
    "papermill": {
     "duration": 0.029629,
     "end_time": "2023-08-08T14:56:08.905697",
     "exception": false,
     "start_time": "2023-08-08T14:56:08.876068",
     "status": "completed"
    },
    "tags": []
   },
   "outputs": [
    {
     "name": "stdout",
     "output_type": "stream",
     "text": [
      "Accuracy: 0.9777777777777779\n",
      "Precision: 0.9791666666666666\n",
      "Recall: 0.9777777777777779\n",
      "F1 score: 0.9777530589543938\n",
      "ROC-AUC score: 0.9777530589543938\n"
     ]
    }
   ],
   "source": [
    "eval_model(y_test, lr_pred)"
   ]
  },
  {
   "cell_type": "code",
   "execution_count": 25,
   "id": "1b75a23d",
   "metadata": {
    "execution": {
     "iopub.execute_input": "2023-08-08T14:56:08.929215Z",
     "iopub.status.busy": "2023-08-08T14:56:08.927826Z",
     "iopub.status.idle": "2023-08-08T14:56:09.330788Z",
     "shell.execute_reply": "2023-08-08T14:56:09.329528Z"
    },
    "papermill": {
     "duration": 0.41729,
     "end_time": "2023-08-08T14:56:09.333497",
     "exception": false,
     "start_time": "2023-08-08T14:56:08.916207",
     "status": "completed"
    },
    "tags": []
   },
   "outputs": [
    {
     "data": {
      "image/png": "[encoded data removed]",
      "text/plain": [
       "<Figure size 500x500 with 2 Axes>"
      ]
     },
     "metadata": {},
     "output_type": "display_data"
    }
   ],
   "source": [
    "confutionmatrix_lr = confusion_matrix(y_test, lr_pred)\n",
    "plot_confusion_matrix(confutionmatrix_lr, classes = species, title = \"Confusion Matrix Logistic Regression\")"
   ]
  },
  {
   "cell_type": "markdown",
   "id": "13114592",
   "metadata": {
    "papermill": {
     "duration": 0.011052,
     "end_time": "2023-08-08T14:56:09.355789",
     "exception": false,
     "start_time": "2023-08-08T14:56:09.344737",
     "status": "completed"
    },
    "tags": []
   },
   "source": [
    "# DecisionTreeClassifier"
   ]
  },
  {
   "cell_type": "code",
   "execution_count": 26,
   "id": "b43d2632",
   "metadata": {
    "execution": {
     "iopub.execute_input": "2023-08-08T14:56:09.380725Z",
     "iopub.status.busy": "2023-08-08T14:56:09.379505Z",
     "iopub.status.idle": "2023-08-08T14:56:09.385052Z",
     "shell.execute_reply": "2023-08-08T14:56:09.384306Z"
    },
    "papermill": {
     "duration": 0.019972,
     "end_time": "2023-08-08T14:56:09.387089",
     "exception": false,
     "start_time": "2023-08-08T14:56:09.367117",
     "status": "completed"
    },
    "tags": []
   },
   "outputs": [],
   "source": [
    "from sklearn.tree import DecisionTreeClassifier\n",
    "\n",
    "dt = DecisionTreeClassifier(criterion= 'entropy', max_depth=10)"
   ]
  },
  {
   "cell_type": "code",
   "execution_count": 27,
   "id": "9c001e0d",
   "metadata": {
    "execution": {
     "iopub.execute_input": "2023-08-08T14:56:09.411670Z",
     "iopub.status.busy": "2023-08-08T14:56:09.410559Z",
     "iopub.status.idle": "2023-08-08T14:56:09.424162Z",
     "shell.execute_reply": "2023-08-08T14:56:09.423024Z"
    },
    "papermill": {
     "duration": 0.028311,
     "end_time": "2023-08-08T14:56:09.426599",
     "exception": false,
     "start_time": "2023-08-08T14:56:09.398288",
     "status": "completed"
    },
    "tags": []
   },
   "outputs": [],
   "source": [
    "dt.fit(X_train, y_train)\n",
    "y_train_predt = dt.predict(X_train)\n",
    "y_test_predt = dt.predict(X_test)"
   ]
  },
  {
   "cell_type": "code",
   "execution_count": 28,
   "id": "57c540b0",
   "metadata": {
    "execution": {
     "iopub.execute_input": "2023-08-08T14:56:09.451697Z",
     "iopub.status.busy": "2023-08-08T14:56:09.450909Z",
     "iopub.status.idle": "2023-08-08T14:56:09.464607Z",
     "shell.execute_reply": "2023-08-08T14:56:09.463467Z"
    },
    "papermill": {
     "duration": 0.02863,
     "end_time": "2023-08-08T14:56:09.466622",
     "exception": false,
     "start_time": "2023-08-08T14:56:09.437992",
     "status": "completed"
    },
    "tags": []
   },
   "outputs": [
    {
     "name": "stdout",
     "output_type": "stream",
     "text": [
      "Accuracy: 0.9333333333333332\n",
      "Precision: 0.9444444444444445\n",
      "Recall: 0.9333333333333332\n",
      "F1 score: 0.9326599326599326\n",
      "ROC-AUC score: 0.9326599326599326\n"
     ]
    }
   ],
   "source": [
    "eval_model(y_test, y_test_predt)"
   ]
  },
  {
   "cell_type": "code",
   "execution_count": 29,
   "id": "18470e15",
   "metadata": {
    "execution": {
     "iopub.execute_input": "2023-08-08T14:56:09.490777Z",
     "iopub.status.busy": "2023-08-08T14:56:09.490368Z",
     "iopub.status.idle": "2023-08-08T14:56:09.890179Z",
     "shell.execute_reply": "2023-08-08T14:56:09.888841Z"
    },
    "papermill": {
     "duration": 0.417232,
     "end_time": "2023-08-08T14:56:09.894951",
     "exception": false,
     "start_time": "2023-08-08T14:56:09.477719",
     "status": "completed"
    },
    "tags": []
   },
   "outputs": [
    {
     "data": {
      "image/png": "[encoded data removed]",
      "text/plain": [
       "<Figure size 500x500 with 2 Axes>"
      ]
     },
     "metadata": {},
     "output_type": "display_data"
    }
   ],
   "source": [
    "confutionmatrix_dt = confusion_matrix(y_test, y_test_predt)\n",
    "plot_confusion_matrix(confutionmatrix_dt, classes = species, title = \"Confusion Matrix Logistic Regression\")"
   ]
  },
  {
   "cell_type": "markdown",
   "id": "fc040242",
   "metadata": {
    "papermill": {
     "duration": 0.011548,
     "end_time": "2023-08-08T14:56:09.920343",
     "exception": false,
     "start_time": "2023-08-08T14:56:09.908795",
     "status": "completed"
    },
    "tags": []
   },
   "source": [
    "# RandomForestClassifier"
   ]
  },
  {
   "cell_type": "code",
   "execution_count": 30,
   "id": "cdfcf2f2",
   "metadata": {
    "execution": {
     "iopub.execute_input": "2023-08-08T14:56:09.946162Z",
     "iopub.status.busy": "2023-08-08T14:56:09.945169Z",
     "iopub.status.idle": "2023-08-08T14:56:09.971786Z",
     "shell.execute_reply": "2023-08-08T14:56:09.970659Z"
    },
    "papermill": {
     "duration": 0.042395,
     "end_time": "2023-08-08T14:56:09.974250",
     "exception": false,
     "start_time": "2023-08-08T14:56:09.931855",
     "status": "completed"
    },
    "tags": []
   },
   "outputs": [
    {
     "data": {
      "text/html": [
       "<style>#sk-container-id-1 {color: black;background-color: white;}#sk-container-id-1 pre{padding: 0;}#sk-container-id-1 div.sk-toggleable {background-color: white;}#sk-container-id-1 label.sk-toggleable__label {cursor: pointer;display: block;width: 100%;margin-bottom: 0;padding: 0.3em;box-sizing: border-box;text-align: center;}#sk-container-id-1 label.sk-toggleable__label-arrow:before {content: \"▸\";float: left;margin-right: 0.25em;color: #696969;}#sk-container-id-1 label.sk-toggleable__label-arrow:hover:before {color: black;}#sk-container-id-1 div.sk-estimator:hover label.sk-toggleable__label-arrow:before {color: black;}#sk-container-id-1 div.sk-toggleable__content {max-height: 0;max-width: 0;overflow: hidden;text-align: left;background-color: #f0f8ff;}#sk-container-id-1 div.sk-toggleable__content pre {margin: 0.2em;color: black;border-radius: 0.25em;background-color: #f0f8ff;}#sk-container-id-1 input.sk-toggleable__control:checked~div.sk-toggleable__content {max-height: 200px;max-width: 100%;overflow: auto;}#sk-container-id-1 input.sk-toggleable__control:checked~label.sk-toggleable__label-arrow:before {content: \"▾\";}#sk-container-id-1 div.sk-estimator input.sk-toggleable__control:checked~label.sk-toggleable__label {background-color: #d4ebff;}#sk-container-id-1 div.sk-label input.sk-toggleable__control:checked~label.sk-toggleable__label {background-color: #d4ebff;}#sk-container-id-1 input.sk-hidden--visually {border: 0;clip: rect(1px 1px 1px 1px);clip: rect(1px, 1px, 1px, 1px);height: 1px;margin: -1px;overflow: hidden;padding: 0;position: absolute;width: 1px;}#sk-container-id-1 div.sk-estimator {font-family: monospace;background-color: #f0f8ff;border: 1px dotted black;border-radius: 0.25em;box-sizing: border-box;margin-bottom: 0.5em;}#sk-container-id-1 div.sk-estimator:hover {background-color: #d4ebff;}#sk-container-id-1 div.sk-parallel-item::after {content: \"\";width: 100%;border-bottom: 1px solid gray;flex-grow: 1;}#sk-container-id-1 div.sk-label:hover label.sk-toggleable__label {background-color: #d4ebff;}#sk-container-id-1 div.sk-serial::before {content: \"\";position: absolute;border-left: 1px solid gray;box-sizing: border-box;top: 0;bottom: 0;left: 50%;z-index: 0;}#sk-container-id-1 div.sk-serial {display: flex;flex-direction: column;align-items: center;background-color: white;padding-right: 0.2em;padding-left: 0.2em;position: relative;}#sk-container-id-1 div.sk-item {position: relative;z-index: 1;}#sk-container-id-1 div.sk-parallel {display: flex;align-items: stretch;justify-content: center;background-color: white;position: relative;}#sk-container-id-1 div.sk-item::before, #sk-container-id-1 div.sk-parallel-item::before {content: \"\";position: absolute;border-left: 1px solid gray;box-sizing: border-box;top: 0;bottom: 0;left: 50%;z-index: -1;}#sk-container-id-1 div.sk-parallel-item {display: flex;flex-direction: column;z-index: 1;position: relative;background-color: white;}#sk-container-id-1 div.sk-parallel-item:first-child::after {align-self: flex-end;width: 50%;}#sk-container-id-1 div.sk-parallel-item:last-child::after {align-self: flex-start;width: 50%;}#sk-container-id-1 div.sk-parallel-item:only-child::after {width: 0;}#sk-container-id-1 div.sk-dashed-wrapped {border: 1px dashed gray;margin: 0 0.4em 0.5em 0.4em;box-sizing: border-box;padding-bottom: 0.4em;background-color: white;}#sk-container-id-1 div.sk-label label {font-family: monospace;font-weight: bold;display: inline-block;line-height: 1.2em;}#sk-container-id-1 div.sk-label-container {text-align: center;}#sk-container-id-1 div.sk-container {/* jupyter's `normalize.less` sets `[hidden] { display: none; }` but bootstrap.min.css set `[hidden] { display: none !important; }` so we also need the `!important` here to be able to override the default hidden behavior on the sphinx rendered scikit-learn.org. See: https://github.com/scikit-learn/scikit-learn/issues/21755 */display: inline-block !important;position: relative;}#sk-container-id-1 div.sk-text-repr-fallback {display: none;}</style><div id=\"sk-container-id-1\" class=\"sk-top-container\"><div class=\"sk-text-repr-fallback\"><pre>RandomForestClassifier(criterion=&#x27;entropy&#x27;, n_estimators=5, random_state=0)</pre><b>In a Jupyter environment, please rerun this cell to show the HTML representation or trust the notebook. <br />On GitHub, the HTML representation is unable to render, please try loading this page with nbviewer.org.</b></div><div class=\"sk-container\" hidden><div class=\"sk-item\"><div class=\"sk-estimator sk-toggleable\"><input class=\"sk-toggleable__control sk-hidden--visually\" id=\"sk-estimator-id-1\" type=\"checkbox\" checked><label for=\"sk-estimator-id-1\" class=\"sk-toggleable__label sk-toggleable__label-arrow\">RandomForestClassifier</label><div class=\"sk-toggleable__content\"><pre>RandomForestClassifier(criterion=&#x27;entropy&#x27;, n_estimators=5, random_state=0)</pre></div></div></div></div></div>"
      ],
      "text/plain": [
       "RandomForestClassifier(criterion='entropy', n_estimators=5, random_state=0)"
      ]
     },
     "execution_count": 30,
     "metadata": {},
     "output_type": "execute_result"
    }
   ],
   "source": [
    "from sklearn.ensemble import RandomForestClassifier\n",
    "classifier = RandomForestClassifier(n_estimators = 5, criterion = 'entropy', random_state = 0)\n",
    "classifier.fit(X_train,y_train)"
   ]
  },
  {
   "cell_type": "code",
   "execution_count": 31,
   "id": "cd544bc8",
   "metadata": {
    "execution": {
     "iopub.execute_input": "2023-08-08T14:56:10.001212Z",
     "iopub.status.busy": "2023-08-08T14:56:10.000198Z",
     "iopub.status.idle": "2023-08-08T14:56:10.011242Z",
     "shell.execute_reply": "2023-08-08T14:56:10.010003Z"
    },
    "papermill": {
     "duration": 0.026931,
     "end_time": "2023-08-08T14:56:10.013827",
     "exception": false,
     "start_time": "2023-08-08T14:56:09.986896",
     "status": "completed"
    },
    "tags": []
   },
   "outputs": [],
   "source": [
    "y_train_predrf = classifier.predict(X_train)\n",
    "y_test_predrf = classifier.predict(X_test)"
   ]
  },
  {
   "cell_type": "code",
   "execution_count": 32,
   "id": "c27f0272",
   "metadata": {
    "execution": {
     "iopub.execute_input": "2023-08-08T14:56:10.040536Z",
     "iopub.status.busy": "2023-08-08T14:56:10.039905Z",
     "iopub.status.idle": "2023-08-08T14:56:10.053845Z",
     "shell.execute_reply": "2023-08-08T14:56:10.052543Z"
    },
    "papermill": {
     "duration": 0.02986,
     "end_time": "2023-08-08T14:56:10.055896",
     "exception": false,
     "start_time": "2023-08-08T14:56:10.026036",
     "status": "completed"
    },
    "tags": []
   },
   "outputs": [
    {
     "name": "stdout",
     "output_type": "stream",
     "text": [
      "Accuracy: 0.9555555555555556\n",
      "Precision: 0.9555555555555556\n",
      "Recall: 0.9555555555555556\n",
      "F1 score: 0.9555555555555556\n",
      "ROC-AUC score: 0.9555555555555556\n"
     ]
    }
   ],
   "source": [
    "eval_model(y_test, y_test_predrf)"
   ]
  },
  {
   "cell_type": "markdown",
   "id": "846c8cdb",
   "metadata": {
    "papermill": {
     "duration": 0.011747,
     "end_time": "2023-08-08T14:56:10.079811",
     "exception": false,
     "start_time": "2023-08-08T14:56:10.068064",
     "status": "completed"
    },
    "tags": []
   },
   "source": [
    "# naive_bayes"
   ]
  },
  {
   "cell_type": "code",
   "execution_count": 33,
   "id": "e92798a8",
   "metadata": {
    "execution": {
     "iopub.execute_input": "2023-08-08T14:56:10.105520Z",
     "iopub.status.busy": "2023-08-08T14:56:10.105118Z",
     "iopub.status.idle": "2023-08-08T14:56:10.126430Z",
     "shell.execute_reply": "2023-08-08T14:56:10.125255Z"
    },
    "papermill": {
     "duration": 0.037075,
     "end_time": "2023-08-08T14:56:10.128852",
     "exception": false,
     "start_time": "2023-08-08T14:56:10.091777",
     "status": "completed"
    },
    "tags": []
   },
   "outputs": [
    {
     "data": {
      "text/html": [
       "<style>#sk-container-id-2 {color: black;background-color: white;}#sk-container-id-2 pre{padding: 0;}#sk-container-id-2 div.sk-toggleable {background-color: white;}#sk-container-id-2 label.sk-toggleable__label {cursor: pointer;display: block;width: 100%;margin-bottom: 0;padding: 0.3em;box-sizing: border-box;text-align: center;}#sk-container-id-2 label.sk-toggleable__label-arrow:before {content: \"▸\";float: left;margin-right: 0.25em;color: #696969;}#sk-container-id-2 label.sk-toggleable__label-arrow:hover:before {color: black;}#sk-container-id-2 div.sk-estimator:hover label.sk-toggleable__label-arrow:before {color: black;}#sk-container-id-2 div.sk-toggleable__content {max-height: 0;max-width: 0;overflow: hidden;text-align: left;background-color: #f0f8ff;}#sk-container-id-2 div.sk-toggleable__content pre {margin: 0.2em;color: black;border-radius: 0.25em;background-color: #f0f8ff;}#sk-container-id-2 input.sk-toggleable__control:checked~div.sk-toggleable__content {max-height: 200px;max-width: 100%;overflow: auto;}#sk-container-id-2 input.sk-toggleable__control:checked~label.sk-toggleable__label-arrow:before {content: \"▾\";}#sk-container-id-2 div.sk-estimator input.sk-toggleable__control:checked~label.sk-toggleable__label {background-color: #d4ebff;}#sk-container-id-2 div.sk-label input.sk-toggleable__control:checked~label.sk-toggleable__label {background-color: #d4ebff;}#sk-container-id-2 input.sk-hidden--visually {border: 0;clip: rect(1px 1px 1px 1px);clip: rect(1px, 1px, 1px, 1px);height: 1px;margin: -1px;overflow: hidden;padding: 0;position: absolute;width: 1px;}#sk-container-id-2 div.sk-estimator {font-family: monospace;background-color: #f0f8ff;border: 1px dotted black;border-radius: 0.25em;box-sizing: border-box;margin-bottom: 0.5em;}#sk-container-id-2 div.sk-estimator:hover {background-color: #d4ebff;}#sk-container-id-2 div.sk-parallel-item::after {content: \"\";width: 100%;border-bottom: 1px solid gray;flex-grow: 1;}#sk-container-id-2 div.sk-label:hover label.sk-toggleable__label {background-color: #d4ebff;}#sk-container-id-2 div.sk-serial::before {content: \"\";position: absolute;border-left: 1px solid gray;box-sizing: border-box;top: 0;bottom: 0;left: 50%;z-index: 0;}#sk-container-id-2 div.sk-serial {display: flex;flex-direction: column;align-items: center;background-color: white;padding-right: 0.2em;padding-left: 0.2em;position: relative;}#sk-container-id-2 div.sk-item {position: relative;z-index: 1;}#sk-container-id-2 div.sk-parallel {display: flex;align-items: stretch;justify-content: center;background-color: white;position: relative;}#sk-container-id-2 div.sk-item::before, #sk-container-id-2 div.sk-parallel-item::before {content: \"\";position: absolute;border-left: 1px solid gray;box-sizing: border-box;top: 0;bottom: 0;left: 50%;z-index: -1;}#sk-container-id-2 div.sk-parallel-item {display: flex;flex-direction: column;z-index: 1;position: relative;background-color: white;}#sk-container-id-2 div.sk-parallel-item:first-child::after {align-self: flex-end;width: 50%;}#sk-container-id-2 div.sk-parallel-item:last-child::after {align-self: flex-start;width: 50%;}#sk-container-id-2 div.sk-parallel-item:only-child::after {width: 0;}#sk-container-id-2 div.sk-dashed-wrapped {border: 1px dashed gray;margin: 0 0.4em 0.5em 0.4em;box-sizing: border-box;padding-bottom: 0.4em;background-color: white;}#sk-container-id-2 div.sk-label label {font-family: monospace;font-weight: bold;display: inline-block;line-height: 1.2em;}#sk-container-id-2 div.sk-label-container {text-align: center;}#sk-container-id-2 div.sk-container {/* jupyter's `normalize.less` sets `[hidden] { display: none; }` but bootstrap.min.css set `[hidden] { display: none !important; }` so we also need the `!important` here to be able to override the default hidden behavior on the sphinx rendered scikit-learn.org. See: https://github.com/scikit-learn/scikit-learn/issues/21755 */display: inline-block !important;position: relative;}#sk-container-id-2 div.sk-text-repr-fallback {display: none;}</style><div id=\"sk-container-id-2\" class=\"sk-top-container\"><div class=\"sk-text-repr-fallback\"><pre>GaussianNB()</pre><b>In a Jupyter environment, please rerun this cell to show the HTML representation or trust the notebook. <br />On GitHub, the HTML representation is unable to render, please try loading this page with nbviewer.org.</b></div><div class=\"sk-container\" hidden><div class=\"sk-item\"><div class=\"sk-estimator sk-toggleable\"><input class=\"sk-toggleable__control sk-hidden--visually\" id=\"sk-estimator-id-2\" type=\"checkbox\" checked><label for=\"sk-estimator-id-2\" class=\"sk-toggleable__label sk-toggleable__label-arrow\">GaussianNB</label><div class=\"sk-toggleable__content\"><pre>GaussianNB()</pre></div></div></div></div></div>"
      ],
      "text/plain": [
       "GaussianNB()"
      ]
     },
     "execution_count": 33,
     "metadata": {},
     "output_type": "execute_result"
    }
   ],
   "source": [
    "from sklearn.naive_bayes import GaussianNB\n",
    "\n",
    "nb = GaussianNB()\n",
    "nb.fit(X_train,y_train)"
   ]
  },
  {
   "cell_type": "code",
   "execution_count": 34,
   "id": "2aabd8a4",
   "metadata": {
    "execution": {
     "iopub.execute_input": "2023-08-08T14:56:10.155921Z",
     "iopub.status.busy": "2023-08-08T14:56:10.155502Z",
     "iopub.status.idle": "2023-08-08T14:56:10.164040Z",
     "shell.execute_reply": "2023-08-08T14:56:10.162993Z"
    },
    "papermill": {
     "duration": 0.024418,
     "end_time": "2023-08-08T14:56:10.166062",
     "exception": false,
     "start_time": "2023-08-08T14:56:10.141644",
     "status": "completed"
    },
    "tags": []
   },
   "outputs": [],
   "source": [
    "trainnb_pred = nb.predict(X_train)\n",
    "testnb_pred = nb.predict(X_test)"
   ]
  },
  {
   "cell_type": "code",
   "execution_count": 35,
   "id": "8bdbc003",
   "metadata": {
    "execution": {
     "iopub.execute_input": "2023-08-08T14:56:10.194035Z",
     "iopub.status.busy": "2023-08-08T14:56:10.193549Z",
     "iopub.status.idle": "2023-08-08T14:56:10.208836Z",
     "shell.execute_reply": "2023-08-08T14:56:10.206653Z"
    },
    "papermill": {
     "duration": 0.03273,
     "end_time": "2023-08-08T14:56:10.212025",
     "exception": false,
     "start_time": "2023-08-08T14:56:10.179295",
     "status": "completed"
    },
    "tags": []
   },
   "outputs": [
    {
     "name": "stdout",
     "output_type": "stream",
     "text": [
      "Accuracy: 0.9777777777777779\n",
      "Precision: 0.9791666666666666\n",
      "Recall: 0.9777777777777779\n",
      "F1 score: 0.9777530589543938\n",
      "ROC-AUC score: 0.9777530589543938\n"
     ]
    }
   ],
   "source": [
    "eval_model(y_test, testnb_pred)"
   ]
  },
  {
   "cell_type": "markdown",
   "id": "96d4ff05",
   "metadata": {
    "papermill": {
     "duration": 0.01216,
     "end_time": "2023-08-08T14:56:10.237740",
     "exception": false,
     "start_time": "2023-08-08T14:56:10.225580",
     "status": "completed"
    },
    "tags": []
   },
   "source": [
    "# svm"
   ]
  },
  {
   "cell_type": "code",
   "execution_count": 36,
   "id": "dde734e6",
   "metadata": {
    "execution": {
     "iopub.execute_input": "2023-08-08T14:56:10.264616Z",
     "iopub.status.busy": "2023-08-08T14:56:10.264227Z",
     "iopub.status.idle": "2023-08-08T14:56:10.276252Z",
     "shell.execute_reply": "2023-08-08T14:56:10.275295Z"
    },
    "papermill": {
     "duration": 0.028108,
     "end_time": "2023-08-08T14:56:10.278185",
     "exception": false,
     "start_time": "2023-08-08T14:56:10.250077",
     "status": "completed"
    },
    "tags": []
   },
   "outputs": [
    {
     "data": {
      "text/html": [
       "<style>#sk-container-id-3 {color: black;background-color: white;}#sk-container-id-3 pre{padding: 0;}#sk-container-id-3 div.sk-toggleable {background-color: white;}#sk-container-id-3 label.sk-toggleable__label {cursor: pointer;display: block;width: 100%;margin-bottom: 0;padding: 0.3em;box-sizing: border-box;text-align: center;}#sk-container-id-3 label.sk-toggleable__label-arrow:before {content: \"▸\";float: left;margin-right: 0.25em;color: #696969;}#sk-container-id-3 label.sk-toggleable__label-arrow:hover:before {color: black;}#sk-container-id-3 div.sk-estimator:hover label.sk-toggleable__label-arrow:before {color: black;}#sk-container-id-3 div.sk-toggleable__content {max-height: 0;max-width: 0;overflow: hidden;text-align: left;background-color: #f0f8ff;}#sk-container-id-3 div.sk-toggleable__content pre {margin: 0.2em;color: black;border-radius: 0.25em;background-color: #f0f8ff;}#sk-container-id-3 input.sk-toggleable__control:checked~div.sk-toggleable__content {max-height: 200px;max-width: 100%;overflow: auto;}#sk-container-id-3 input.sk-toggleable__control:checked~label.sk-toggleable__label-arrow:before {content: \"▾\";}#sk-container-id-3 div.sk-estimator input.sk-toggleable__control:checked~label.sk-toggleable__label {background-color: #d4ebff;}#sk-container-id-3 div.sk-label input.sk-toggleable__control:checked~label.sk-toggleable__label {background-color: #d4ebff;}#sk-container-id-3 input.sk-hidden--visually {border: 0;clip: rect(1px 1px 1px 1px);clip: rect(1px, 1px, 1px, 1px);height: 1px;margin: -1px;overflow: hidden;padding: 0;position: absolute;width: 1px;}#sk-container-id-3 div.sk-estimator {font-family: monospace;background-color: #f0f8ff;border: 1px dotted black;border-radius: 0.25em;box-sizing: border-box;margin-bottom: 0.5em;}#sk-container-id-3 div.sk-estimator:hover {background-color: #d4ebff;}#sk-container-id-3 div.sk-parallel-item::after {content: \"\";width: 100%;border-bottom: 1px solid gray;flex-grow: 1;}#sk-container-id-3 div.sk-label:hover label.sk-toggleable__label {background-color: #d4ebff;}#sk-container-id-3 div.sk-serial::before {content: \"\";position: absolute;border-left: 1px solid gray;box-sizing: border-box;top: 0;bottom: 0;left: 50%;z-index: 0;}#sk-container-id-3 div.sk-serial {display: flex;flex-direction: column;align-items: center;background-color: white;padding-right: 0.2em;padding-left: 0.2em;position: relative;}#sk-container-id-3 div.sk-item {position: relative;z-index: 1;}#sk-container-id-3 div.sk-parallel {display: flex;align-items: stretch;justify-content: center;background-color: white;position: relative;}#sk-container-id-3 div.sk-item::before, #sk-container-id-3 div.sk-parallel-item::before {content: \"\";position: absolute;border-left: 1px solid gray;box-sizing: border-box;top: 0;bottom: 0;left: 50%;z-index: -1;}#sk-container-id-3 div.sk-parallel-item {display: flex;flex-direction: column;z-index: 1;position: relative;background-color: white;}#sk-container-id-3 div.sk-parallel-item:first-child::after {align-self: flex-end;width: 50%;}#sk-container-id-3 div.sk-parallel-item:last-child::after {align-self: flex-start;width: 50%;}#sk-container-id-3 div.sk-parallel-item:only-child::after {width: 0;}#sk-container-id-3 div.sk-dashed-wrapped {border: 1px dashed gray;margin: 0 0.4em 0.5em 0.4em;box-sizing: border-box;padding-bottom: 0.4em;background-color: white;}#sk-container-id-3 div.sk-label label {font-family: monospace;font-weight: bold;display: inline-block;line-height: 1.2em;}#sk-container-id-3 div.sk-label-container {text-align: center;}#sk-container-id-3 div.sk-container {/* jupyter's `normalize.less` sets `[hidden] { display: none; }` but bootstrap.min.css set `[hidden] { display: none !important; }` so we also need the `!important` here to be able to override the default hidden behavior on the sphinx rendered scikit-learn.org. See: https://github.com/scikit-learn/scikit-learn/issues/21755 */display: inline-block !important;position: relative;}#sk-container-id-3 div.sk-text-repr-fallback {display: none;}</style><div id=\"sk-container-id-3\" class=\"sk-top-container\"><div class=\"sk-text-repr-fallback\"><pre>SVC()</pre><b>In a Jupyter environment, please rerun this cell to show the HTML representation or trust the notebook. <br />On GitHub, the HTML representation is unable to render, please try loading this page with nbviewer.org.</b></div><div class=\"sk-container\" hidden><div class=\"sk-item\"><div class=\"sk-estimator sk-toggleable\"><input class=\"sk-toggleable__control sk-hidden--visually\" id=\"sk-estimator-id-3\" type=\"checkbox\" checked><label for=\"sk-estimator-id-3\" class=\"sk-toggleable__label sk-toggleable__label-arrow\">SVC</label><div class=\"sk-toggleable__content\"><pre>SVC()</pre></div></div></div></div></div>"
      ],
      "text/plain": [
       "SVC()"
      ]
     },
     "execution_count": 36,
     "metadata": {},
     "output_type": "execute_result"
    }
   ],
   "source": [
    "from sklearn.svm import SVC\n",
    "\n",
    "svc = SVC()\n",
    "svc.fit(X_train,y_train)"
   ]
  },
  {
   "cell_type": "code",
   "execution_count": 37,
   "id": "e0491f96",
   "metadata": {
    "execution": {
     "iopub.execute_input": "2023-08-08T14:56:10.305925Z",
     "iopub.status.busy": "2023-08-08T14:56:10.305475Z",
     "iopub.status.idle": "2023-08-08T14:56:10.314569Z",
     "shell.execute_reply": "2023-08-08T14:56:10.313240Z"
    },
    "papermill": {
     "duration": 0.025534,
     "end_time": "2023-08-08T14:56:10.316777",
     "exception": false,
     "start_time": "2023-08-08T14:56:10.291243",
     "status": "completed"
    },
    "tags": []
   },
   "outputs": [],
   "source": [
    "trainsvc_pred = svc.predict(X_train)\n",
    "testsvc_pred = svc.predict(X_test)"
   ]
  },
  {
   "cell_type": "code",
   "execution_count": 38,
   "id": "6167d961",
   "metadata": {
    "execution": {
     "iopub.execute_input": "2023-08-08T14:56:10.344332Z",
     "iopub.status.busy": "2023-08-08T14:56:10.343886Z",
     "iopub.status.idle": "2023-08-08T14:56:10.357443Z",
     "shell.execute_reply": "2023-08-08T14:56:10.356492Z"
    },
    "papermill": {
     "duration": 0.029834,
     "end_time": "2023-08-08T14:56:10.359409",
     "exception": false,
     "start_time": "2023-08-08T14:56:10.329575",
     "status": "completed"
    },
    "tags": []
   },
   "outputs": [
    {
     "name": "stdout",
     "output_type": "stream",
     "text": [
      "Accuracy: 0.9555555555555556\n",
      "Precision: 0.9607843137254902\n",
      "Recall: 0.9555555555555556\n",
      "F1 score: 0.9553571428571429\n",
      "ROC-AUC score: 0.9553571428571429\n"
     ]
    }
   ],
   "source": [
    "eval_model(y_test, testsvc_pred)"
   ]
  },
  {
   "cell_type": "code",
   "execution_count": null,
   "id": "5e851092",
   "metadata": {
    "papermill": {
     "duration": 0.012434,
     "end_time": "2023-08-08T14:56:10.385063",
     "exception": false,
     "start_time": "2023-08-08T14:56:10.372629",
     "status": "completed"
    },
    "tags": []
   },
   "outputs": [],
   "source": []
  }
 ],
 "metadata": {
  "kernelspec": {
   "display_name": "Python 3",
   "language": "python",
   "name": "python3"
  },
  "language_info": {
   "codemirror_mode": {
    "name": "ipython",
    "version": 3
   },
   "file_extension": ".py",
   "mimetype": "text/x-python",
   "name": "python",
   "nbconvert_exporter": "python",
   "pygments_lexer": "ipython3",
   "version": "3.10.12"
  },
  "papermill": {
   "default_parameters": {},
   "duration": 14.962378,
   "end_time": "2023-08-08T14:56:11.622511",
   "environment_variables": {},
   "exception": null,
   "input_path": "__notebook__.ipynb",
   "output_path": "__notebook__.ipynb",
   "parameters": {},
   "start_time": "2023-08-08T14:55:56.660133",
   "version": "2.4.0"
  }
 },
 "nbformat": 4,
 "nbformat_minor": 5
}
