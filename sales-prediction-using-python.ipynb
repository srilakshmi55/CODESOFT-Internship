{
 "cells": [
  {
   "cell_type": "markdown",
   "id": "cc72f2ee",
   "metadata": {
    "papermill": {
     "duration": 0.008227,
     "end_time": "2023-08-08T14:45:23.389073",
     "exception": false,
     "start_time": "2023-08-08T14:45:23.380846",
     "status": "completed"
    },
    "tags": []
   },
   "source": [
    "# Advertising data sales prediction"
   ]
  },
  {
   "cell_type": "code",
   "execution_count": 1,
   "id": "6b1f7eb8",
   "metadata": {
    "_cell_guid": "b1076dfc-b9ad-4769-8c92-a6c4dae69d19",
    "_uuid": "8f2839f25d086af736a60e9eeb907d3b93b6e0e5",
    "execution": {
     "iopub.execute_input": "2023-08-08T14:45:23.407525Z",
     "iopub.status.busy": "2023-08-08T14:45:23.406973Z",
     "iopub.status.idle": "2023-08-08T14:45:23.427426Z",
     "shell.execute_reply": "2023-08-08T14:45:23.425974Z"
    },
    "papermill": {
     "duration": 0.032456,
     "end_time": "2023-08-08T14:45:23.429784",
     "exception": false,
     "start_time": "2023-08-08T14:45:23.397328",
     "status": "completed"
    },
    "tags": []
   },
   "outputs": [
    {
     "name": "stdout",
     "output_type": "stream",
     "text": [
      "/kaggle/input/advertising-dataset/advertising.csv\n"
     ]
    }
   ],
   "source": [
    "# This Python 3 environment comes with many helpful analytics libraries installed\n",
    "# It is defined by the kaggle/python Docker image: https://github.com/kaggle/docker-python\n",
    "# For example, here's several helpful packages to load\n",
    "\n",
    "import numpy as np # linear algebra\n",
    "import pandas as pd # data processing, CSV file I/O (e.g. pd.read_csv)\n",
    "\n",
    "# Input data files are available in the read-only \"../input/\" directory\n",
    "# For example, running this (by clicking run or pressing Shift+Enter) will list all files under the input directory\n",
    "\n",
    "import os\n",
    "for dirname, _, filenames in os.walk('/kaggle/input'):\n",
    "    for filename in filenames:\n",
    "        print(os.path.join(dirname, filename))\n",
    "\n",
    "# You can write up to 20GB to the current directory (/kaggle/working/) that gets preserved as output when you create a version using \"Save & Run All\" \n",
    "# You can also write temporary files to /kaggle/temp/, but they won't be saved outside of the current session"
   ]
  },
  {
   "cell_type": "code",
   "execution_count": 2,
   "id": "4b2e3b48",
   "metadata": {
    "execution": {
     "iopub.execute_input": "2023-08-08T14:45:23.447244Z",
     "iopub.status.busy": "2023-08-08T14:45:23.446558Z",
     "iopub.status.idle": "2023-08-08T14:45:23.465449Z",
     "shell.execute_reply": "2023-08-08T14:45:23.464493Z"
    },
    "papermill": {
     "duration": 0.030163,
     "end_time": "2023-08-08T14:45:23.467830",
     "exception": false,
     "start_time": "2023-08-08T14:45:23.437667",
     "status": "completed"
    },
    "tags": []
   },
   "outputs": [],
   "source": [
    "data = pd.read_csv(\"/kaggle/input/advertising-dataset/advertising.csv\")"
   ]
  },
  {
   "cell_type": "code",
   "execution_count": 3,
   "id": "d067f480",
   "metadata": {
    "execution": {
     "iopub.execute_input": "2023-08-08T14:45:23.486025Z",
     "iopub.status.busy": "2023-08-08T14:45:23.485597Z",
     "iopub.status.idle": "2023-08-08T14:45:23.506450Z",
     "shell.execute_reply": "2023-08-08T14:45:23.505454Z"
    },
    "papermill": {
     "duration": 0.032668,
     "end_time": "2023-08-08T14:45:23.508934",
     "exception": false,
     "start_time": "2023-08-08T14:45:23.476266",
     "status": "completed"
    },
    "tags": []
   },
   "outputs": [
    {
     "data": {
      "text/html": [
       "<div>\n",
       "<style scoped>\n",
       "    .dataframe tbody tr th:only-of-type {\n",
       "        vertical-align: middle;\n",
       "    }\n",
       "\n",
       "    .dataframe tbody tr th {\n",
       "        vertical-align: top;\n",
       "    }\n",
       "\n",
       "    .dataframe thead th {\n",
       "        text-align: right;\n",
       "    }\n",
       "</style>\n",
       "<table border=\"1\" class=\"dataframe\">\n",
       "  <thead>\n",
       "    <tr style=\"text-align: right;\">\n",
       "      <th></th>\n",
       "      <th>TV</th>\n",
       "      <th>Radio</th>\n",
       "      <th>Newspaper</th>\n",
       "      <th>Sales</th>\n",
       "    </tr>\n",
       "  </thead>\n",
       "  <tbody>\n",
       "    <tr>\n",
       "      <th>0</th>\n",
       "      <td>230.1</td>\n",
       "      <td>37.8</td>\n",
       "      <td>69.2</td>\n",
       "      <td>22.1</td>\n",
       "    </tr>\n",
       "    <tr>\n",
       "      <th>1</th>\n",
       "      <td>44.5</td>\n",
       "      <td>39.3</td>\n",
       "      <td>45.1</td>\n",
       "      <td>10.4</td>\n",
       "    </tr>\n",
       "    <tr>\n",
       "      <th>2</th>\n",
       "      <td>17.2</td>\n",
       "      <td>45.9</td>\n",
       "      <td>69.3</td>\n",
       "      <td>12.0</td>\n",
       "    </tr>\n",
       "  </tbody>\n",
       "</table>\n",
       "</div>"
      ],
      "text/plain": [
       "      TV  Radio  Newspaper  Sales\n",
       "0  230.1   37.8       69.2   22.1\n",
       "1   44.5   39.3       45.1   10.4\n",
       "2   17.2   45.9       69.3   12.0"
      ]
     },
     "execution_count": 3,
     "metadata": {},
     "output_type": "execute_result"
    }
   ],
   "source": [
    "data.head(3)"
   ]
  },
  {
   "cell_type": "code",
   "execution_count": 4,
   "id": "67f0ab99",
   "metadata": {
    "execution": {
     "iopub.execute_input": "2023-08-08T14:45:23.527768Z",
     "iopub.status.busy": "2023-08-08T14:45:23.527389Z",
     "iopub.status.idle": "2023-08-08T14:45:23.535499Z",
     "shell.execute_reply": "2023-08-08T14:45:23.534358Z"
    },
    "papermill": {
     "duration": 0.019298,
     "end_time": "2023-08-08T14:45:23.537607",
     "exception": false,
     "start_time": "2023-08-08T14:45:23.518309",
     "status": "completed"
    },
    "tags": []
   },
   "outputs": [
    {
     "data": {
      "text/plain": [
       "TV           float64\n",
       "Radio        float64\n",
       "Newspaper    float64\n",
       "Sales        float64\n",
       "dtype: object"
      ]
     },
     "execution_count": 4,
     "metadata": {},
     "output_type": "execute_result"
    }
   ],
   "source": [
    "data.dtypes"
   ]
  },
  {
   "cell_type": "code",
   "execution_count": 5,
   "id": "f92f74df",
   "metadata": {
    "execution": {
     "iopub.execute_input": "2023-08-08T14:45:23.556380Z",
     "iopub.status.busy": "2023-08-08T14:45:23.556018Z",
     "iopub.status.idle": "2023-08-08T14:45:23.583538Z",
     "shell.execute_reply": "2023-08-08T14:45:23.582420Z"
    },
    "papermill": {
     "duration": 0.040124,
     "end_time": "2023-08-08T14:45:23.586167",
     "exception": false,
     "start_time": "2023-08-08T14:45:23.546043",
     "status": "completed"
    },
    "tags": []
   },
   "outputs": [
    {
     "data": {
      "text/html": [
       "<div>\n",
       "<style scoped>\n",
       "    .dataframe tbody tr th:only-of-type {\n",
       "        vertical-align: middle;\n",
       "    }\n",
       "\n",
       "    .dataframe tbody tr th {\n",
       "        vertical-align: top;\n",
       "    }\n",
       "\n",
       "    .dataframe thead th {\n",
       "        text-align: right;\n",
       "    }\n",
       "</style>\n",
       "<table border=\"1\" class=\"dataframe\">\n",
       "  <thead>\n",
       "    <tr style=\"text-align: right;\">\n",
       "      <th></th>\n",
       "      <th>TV</th>\n",
       "      <th>Radio</th>\n",
       "      <th>Newspaper</th>\n",
       "      <th>Sales</th>\n",
       "    </tr>\n",
       "  </thead>\n",
       "  <tbody>\n",
       "    <tr>\n",
       "      <th>count</th>\n",
       "      <td>200.000000</td>\n",
       "      <td>200.000000</td>\n",
       "      <td>200.000000</td>\n",
       "      <td>200.000000</td>\n",
       "    </tr>\n",
       "    <tr>\n",
       "      <th>mean</th>\n",
       "      <td>147.042500</td>\n",
       "      <td>23.264000</td>\n",
       "      <td>30.554000</td>\n",
       "      <td>15.130500</td>\n",
       "    </tr>\n",
       "    <tr>\n",
       "      <th>std</th>\n",
       "      <td>85.854236</td>\n",
       "      <td>14.846809</td>\n",
       "      <td>21.778621</td>\n",
       "      <td>5.283892</td>\n",
       "    </tr>\n",
       "    <tr>\n",
       "      <th>min</th>\n",
       "      <td>0.700000</td>\n",
       "      <td>0.000000</td>\n",
       "      <td>0.300000</td>\n",
       "      <td>1.600000</td>\n",
       "    </tr>\n",
       "    <tr>\n",
       "      <th>25%</th>\n",
       "      <td>74.375000</td>\n",
       "      <td>9.975000</td>\n",
       "      <td>12.750000</td>\n",
       "      <td>11.000000</td>\n",
       "    </tr>\n",
       "    <tr>\n",
       "      <th>50%</th>\n",
       "      <td>149.750000</td>\n",
       "      <td>22.900000</td>\n",
       "      <td>25.750000</td>\n",
       "      <td>16.000000</td>\n",
       "    </tr>\n",
       "    <tr>\n",
       "      <th>75%</th>\n",
       "      <td>218.825000</td>\n",
       "      <td>36.525000</td>\n",
       "      <td>45.100000</td>\n",
       "      <td>19.050000</td>\n",
       "    </tr>\n",
       "    <tr>\n",
       "      <th>max</th>\n",
       "      <td>296.400000</td>\n",
       "      <td>49.600000</td>\n",
       "      <td>114.000000</td>\n",
       "      <td>27.000000</td>\n",
       "    </tr>\n",
       "  </tbody>\n",
       "</table>\n",
       "</div>"
      ],
      "text/plain": [
       "               TV       Radio   Newspaper       Sales\n",
       "count  200.000000  200.000000  200.000000  200.000000\n",
       "mean   147.042500   23.264000   30.554000   15.130500\n",
       "std     85.854236   14.846809   21.778621    5.283892\n",
       "min      0.700000    0.000000    0.300000    1.600000\n",
       "25%     74.375000    9.975000   12.750000   11.000000\n",
       "50%    149.750000   22.900000   25.750000   16.000000\n",
       "75%    218.825000   36.525000   45.100000   19.050000\n",
       "max    296.400000   49.600000  114.000000   27.000000"
      ]
     },
     "execution_count": 5,
     "metadata": {},
     "output_type": "execute_result"
    }
   ],
   "source": [
    "data.describe()"
   ]
  },
  {
   "cell_type": "code",
   "execution_count": 6,
   "id": "56b86876",
   "metadata": {
    "execution": {
     "iopub.execute_input": "2023-08-08T14:45:23.604674Z",
     "iopub.status.busy": "2023-08-08T14:45:23.604285Z",
     "iopub.status.idle": "2023-08-08T14:45:23.612990Z",
     "shell.execute_reply": "2023-08-08T14:45:23.611771Z"
    },
    "papermill": {
     "duration": 0.020901,
     "end_time": "2023-08-08T14:45:23.615446",
     "exception": false,
     "start_time": "2023-08-08T14:45:23.594545",
     "status": "completed"
    },
    "tags": []
   },
   "outputs": [
    {
     "data": {
      "text/plain": [
       "TV           0\n",
       "Radio        0\n",
       "Newspaper    0\n",
       "Sales        0\n",
       "dtype: int64"
      ]
     },
     "execution_count": 6,
     "metadata": {},
     "output_type": "execute_result"
    }
   ],
   "source": [
    "data.isnull().sum()"
   ]
  },
  {
   "cell_type": "code",
   "execution_count": 7,
   "id": "0768b9bb",
   "metadata": {
    "execution": {
     "iopub.execute_input": "2023-08-08T14:45:23.635454Z",
     "iopub.status.busy": "2023-08-08T14:45:23.635074Z",
     "iopub.status.idle": "2023-08-08T14:45:23.643391Z",
     "shell.execute_reply": "2023-08-08T14:45:23.642354Z"
    },
    "papermill": {
     "duration": 0.021504,
     "end_time": "2023-08-08T14:45:23.645707",
     "exception": false,
     "start_time": "2023-08-08T14:45:23.624203",
     "status": "completed"
    },
    "tags": []
   },
   "outputs": [
    {
     "data": {
      "text/plain": [
       "TV           0\n",
       "Radio        1\n",
       "Newspaper    0\n",
       "Sales        0\n",
       "dtype: int64"
      ]
     },
     "execution_count": 7,
     "metadata": {},
     "output_type": "execute_result"
    }
   ],
   "source": [
    "(data == 0).sum(axis=0)"
   ]
  },
  {
   "cell_type": "markdown",
   "id": "b56e5e22",
   "metadata": {
    "papermill": {
     "duration": 0.008153,
     "end_time": "2023-08-08T14:45:23.662343",
     "exception": false,
     "start_time": "2023-08-08T14:45:23.654190",
     "status": "completed"
    },
    "tags": []
   },
   "source": [
    "the minimum value of radio is zero"
   ]
  },
  {
   "cell_type": "markdown",
   "id": "89483398",
   "metadata": {
    "papermill": {
     "duration": 0.008138,
     "end_time": "2023-08-08T14:45:23.678823",
     "exception": false,
     "start_time": "2023-08-08T14:45:23.670685",
     "status": "completed"
    },
    "tags": []
   },
   "source": [
    "# Simple linear regression"
   ]
  },
  {
   "cell_type": "code",
   "execution_count": 8,
   "id": "82172504",
   "metadata": {
    "execution": {
     "iopub.execute_input": "2023-08-08T14:45:23.697476Z",
     "iopub.status.busy": "2023-08-08T14:45:23.697107Z",
     "iopub.status.idle": "2023-08-08T14:45:24.681286Z",
     "shell.execute_reply": "2023-08-08T14:45:24.680166Z"
    },
    "papermill": {
     "duration": 0.996639,
     "end_time": "2023-08-08T14:45:24.683854",
     "exception": false,
     "start_time": "2023-08-08T14:45:23.687215",
     "status": "completed"
    },
    "tags": []
   },
   "outputs": [
    {
     "name": "stderr",
     "output_type": "stream",
     "text": [
      "/opt/conda/lib/python3.10/site-packages/scipy/__init__.py:146: UserWarning: A NumPy version >=1.16.5 and <1.23.0 is required for this version of SciPy (detected version 1.23.5\n",
      "  warnings.warn(f\"A NumPy version >={np_minversion} and <{np_maxversion}\"\n"
     ]
    }
   ],
   "source": [
    "from sklearn.preprocessing import scale                # we can also use StandardScalar. \n",
    "X = scale(data.TV, with_mean=True, with_std=False).reshape(-1,1)\n",
    "y = data.Sales   "
   ]
  },
  {
   "cell_type": "code",
   "execution_count": 9,
   "id": "5c8333de",
   "metadata": {
    "execution": {
     "iopub.execute_input": "2023-08-08T14:45:24.702478Z",
     "iopub.status.busy": "2023-08-08T14:45:24.702093Z",
     "iopub.status.idle": "2023-08-08T14:45:24.893447Z",
     "shell.execute_reply": "2023-08-08T14:45:24.892272Z"
    },
    "papermill": {
     "duration": 0.203609,
     "end_time": "2023-08-08T14:45:24.896031",
     "exception": false,
     "start_time": "2023-08-08T14:45:24.692422",
     "status": "completed"
    },
    "tags": []
   },
   "outputs": [],
   "source": [
    "import sklearn\n",
    "import sklearn.linear_model as skl_lm\n",
    "from sklearn.linear_model import LinearRegression"
   ]
  },
  {
   "cell_type": "code",
   "execution_count": 10,
   "id": "abfe00ad",
   "metadata": {
    "execution": {
     "iopub.execute_input": "2023-08-08T14:45:24.915182Z",
     "iopub.status.busy": "2023-08-08T14:45:24.914775Z",
     "iopub.status.idle": "2023-08-08T14:45:24.921861Z",
     "shell.execute_reply": "2023-08-08T14:45:24.920642Z"
    },
    "papermill": {
     "duration": 0.01905,
     "end_time": "2023-08-08T14:45:24.924113",
     "exception": false,
     "start_time": "2023-08-08T14:45:24.905063",
     "status": "completed"
    },
    "tags": []
   },
   "outputs": [],
   "source": [
    "from sklearn.model_selection import train_test_split\n",
    "X_train, X_test, y_train, y_test = train_test_split(X, y, test_size= 0.2, random_state= 42)\n"
   ]
  },
  {
   "cell_type": "code",
   "execution_count": 11,
   "id": "16bc74ec",
   "metadata": {
    "execution": {
     "iopub.execute_input": "2023-08-08T14:45:24.943156Z",
     "iopub.status.busy": "2023-08-08T14:45:24.942389Z",
     "iopub.status.idle": "2023-08-08T14:45:24.966791Z",
     "shell.execute_reply": "2023-08-08T14:45:24.965954Z"
    },
    "papermill": {
     "duration": 0.03654,
     "end_time": "2023-08-08T14:45:24.969256",
     "exception": false,
     "start_time": "2023-08-08T14:45:24.932716",
     "status": "completed"
    },
    "tags": []
   },
   "outputs": [
    {
     "data": {
      "text/html": [
       "<style>#sk-container-id-1 {color: black;background-color: white;}#sk-container-id-1 pre{padding: 0;}#sk-container-id-1 div.sk-toggleable {background-color: white;}#sk-container-id-1 label.sk-toggleable__label {cursor: pointer;display: block;width: 100%;margin-bottom: 0;padding: 0.3em;box-sizing: border-box;text-align: center;}#sk-container-id-1 label.sk-toggleable__label-arrow:before {content: \"▸\";float: left;margin-right: 0.25em;color: #696969;}#sk-container-id-1 label.sk-toggleable__label-arrow:hover:before {color: black;}#sk-container-id-1 div.sk-estimator:hover label.sk-toggleable__label-arrow:before {color: black;}#sk-container-id-1 div.sk-toggleable__content {max-height: 0;max-width: 0;overflow: hidden;text-align: left;background-color: #f0f8ff;}#sk-container-id-1 div.sk-toggleable__content pre {margin: 0.2em;color: black;border-radius: 0.25em;background-color: #f0f8ff;}#sk-container-id-1 input.sk-toggleable__control:checked~div.sk-toggleable__content {max-height: 200px;max-width: 100%;overflow: auto;}#sk-container-id-1 input.sk-toggleable__control:checked~label.sk-toggleable__label-arrow:before {content: \"▾\";}#sk-container-id-1 div.sk-estimator input.sk-toggleable__control:checked~label.sk-toggleable__label {background-color: #d4ebff;}#sk-container-id-1 div.sk-label input.sk-toggleable__control:checked~label.sk-toggleable__label {background-color: #d4ebff;}#sk-container-id-1 input.sk-hidden--visually {border: 0;clip: rect(1px 1px 1px 1px);clip: rect(1px, 1px, 1px, 1px);height: 1px;margin: -1px;overflow: hidden;padding: 0;position: absolute;width: 1px;}#sk-container-id-1 div.sk-estimator {font-family: monospace;background-color: #f0f8ff;border: 1px dotted black;border-radius: 0.25em;box-sizing: border-box;margin-bottom: 0.5em;}#sk-container-id-1 div.sk-estimator:hover {background-color: #d4ebff;}#sk-container-id-1 div.sk-parallel-item::after {content: \"\";width: 100%;border-bottom: 1px solid gray;flex-grow: 1;}#sk-container-id-1 div.sk-label:hover label.sk-toggleable__label {background-color: #d4ebff;}#sk-container-id-1 div.sk-serial::before {content: \"\";position: absolute;border-left: 1px solid gray;box-sizing: border-box;top: 0;bottom: 0;left: 50%;z-index: 0;}#sk-container-id-1 div.sk-serial {display: flex;flex-direction: column;align-items: center;background-color: white;padding-right: 0.2em;padding-left: 0.2em;position: relative;}#sk-container-id-1 div.sk-item {position: relative;z-index: 1;}#sk-container-id-1 div.sk-parallel {display: flex;align-items: stretch;justify-content: center;background-color: white;position: relative;}#sk-container-id-1 div.sk-item::before, #sk-container-id-1 div.sk-parallel-item::before {content: \"\";position: absolute;border-left: 1px solid gray;box-sizing: border-box;top: 0;bottom: 0;left: 50%;z-index: -1;}#sk-container-id-1 div.sk-parallel-item {display: flex;flex-direction: column;z-index: 1;position: relative;background-color: white;}#sk-container-id-1 div.sk-parallel-item:first-child::after {align-self: flex-end;width: 50%;}#sk-container-id-1 div.sk-parallel-item:last-child::after {align-self: flex-start;width: 50%;}#sk-container-id-1 div.sk-parallel-item:only-child::after {width: 0;}#sk-container-id-1 div.sk-dashed-wrapped {border: 1px dashed gray;margin: 0 0.4em 0.5em 0.4em;box-sizing: border-box;padding-bottom: 0.4em;background-color: white;}#sk-container-id-1 div.sk-label label {font-family: monospace;font-weight: bold;display: inline-block;line-height: 1.2em;}#sk-container-id-1 div.sk-label-container {text-align: center;}#sk-container-id-1 div.sk-container {/* jupyter's `normalize.less` sets `[hidden] { display: none; }` but bootstrap.min.css set `[hidden] { display: none !important; }` so we also need the `!important` here to be able to override the default hidden behavior on the sphinx rendered scikit-learn.org. See: https://github.com/scikit-learn/scikit-learn/issues/21755 */display: inline-block !important;position: relative;}#sk-container-id-1 div.sk-text-repr-fallback {display: none;}</style><div id=\"sk-container-id-1\" class=\"sk-top-container\"><div class=\"sk-text-repr-fallback\"><pre>LinearRegression()</pre><b>In a Jupyter environment, please rerun this cell to show the HTML representation or trust the notebook. <br />On GitHub, the HTML representation is unable to render, please try loading this page with nbviewer.org.</b></div><div class=\"sk-container\" hidden><div class=\"sk-item\"><div class=\"sk-estimator sk-toggleable\"><input class=\"sk-toggleable__control sk-hidden--visually\" id=\"sk-estimator-id-1\" type=\"checkbox\" checked><label for=\"sk-estimator-id-1\" class=\"sk-toggleable__label sk-toggleable__label-arrow\">LinearRegression</label><div class=\"sk-toggleable__content\"><pre>LinearRegression()</pre></div></div></div></div></div>"
      ],
      "text/plain": [
       "LinearRegression()"
      ]
     },
     "execution_count": 11,
     "metadata": {},
     "output_type": "execute_result"
    }
   ],
   "source": [
    "regressor = LinearRegression()\n",
    "regressor.fit(X, y)"
   ]
  },
  {
   "cell_type": "code",
   "execution_count": 12,
   "id": "88f3dfba",
   "metadata": {
    "execution": {
     "iopub.execute_input": "2023-08-08T14:45:24.988801Z",
     "iopub.status.busy": "2023-08-08T14:45:24.988380Z",
     "iopub.status.idle": "2023-08-08T14:45:24.993470Z",
     "shell.execute_reply": "2023-08-08T14:45:24.992491Z"
    },
    "papermill": {
     "duration": 0.017206,
     "end_time": "2023-08-08T14:45:24.995632",
     "exception": false,
     "start_time": "2023-08-08T14:45:24.978426",
     "status": "completed"
    },
    "tags": []
   },
   "outputs": [],
   "source": [
    "# Predicting the test set results\n",
    "y_pred = regressor.predict(X_test)"
   ]
  },
  {
   "cell_type": "code",
   "execution_count": 13,
   "id": "6752affc",
   "metadata": {
    "execution": {
     "iopub.execute_input": "2023-08-08T14:45:25.015179Z",
     "iopub.status.busy": "2023-08-08T14:45:25.014770Z",
     "iopub.status.idle": "2023-08-08T14:45:25.021559Z",
     "shell.execute_reply": "2023-08-08T14:45:25.020281Z"
    },
    "papermill": {
     "duration": 0.019385,
     "end_time": "2023-08-08T14:45:25.023814",
     "exception": false,
     "start_time": "2023-08-08T14:45:25.004429",
     "status": "completed"
    },
    "tags": []
   },
   "outputs": [],
   "source": [
    "from sklearn.metrics import r2_score, mean_squared_error\n",
    "\n",
    "mse = mean_squared_error(y_test, y_pred)\n",
    "rmse = np.sqrt(mse)\n",
    "\n",
    "rsquare = r2_score(y_test, y_pred)"
   ]
  },
  {
   "cell_type": "code",
   "execution_count": 14,
   "id": "6b7d8d02",
   "metadata": {
    "execution": {
     "iopub.execute_input": "2023-08-08T14:45:25.043807Z",
     "iopub.status.busy": "2023-08-08T14:45:25.043404Z",
     "iopub.status.idle": "2023-08-08T14:45:25.048670Z",
     "shell.execute_reply": "2023-08-08T14:45:25.047867Z"
    },
    "papermill": {
     "duration": 0.017655,
     "end_time": "2023-08-08T14:45:25.050787",
     "exception": false,
     "start_time": "2023-08-08T14:45:25.033132",
     "status": "completed"
    },
    "tags": []
   },
   "outputs": [
    {
     "name": "stdout",
     "output_type": "stream",
     "text": [
      "Root mean square error: 2.467800028212657\n",
      "R-square: 0.8029184404682554\n"
     ]
    }
   ],
   "source": [
    "print('Root mean square error:', rmse)\n",
    "print('R-square:', rsquare)"
   ]
  },
  {
   "cell_type": "code",
   "execution_count": 15,
   "id": "82d65202",
   "metadata": {
    "execution": {
     "iopub.execute_input": "2023-08-08T14:45:25.071105Z",
     "iopub.status.busy": "2023-08-08T14:45:25.070557Z",
     "iopub.status.idle": "2023-08-08T14:45:25.076865Z",
     "shell.execute_reply": "2023-08-08T14:45:25.075614Z"
    },
    "papermill": {
     "duration": 0.019147,
     "end_time": "2023-08-08T14:45:25.079260",
     "exception": false,
     "start_time": "2023-08-08T14:45:25.060113",
     "status": "completed"
    },
    "tags": []
   },
   "outputs": [
    {
     "name": "stdout",
     "output_type": "stream",
     "text": [
      "Intercept of the model: 15.13\n",
      "Coefficient of the line: 0.06\n"
     ]
    }
   ],
   "source": [
    "# Intercept and coef of the line\n",
    "print('Intercept of the model:', round(regressor.intercept_, 2))\n",
    "print('Coefficient of the line:', round(regressor.coef_[0], 2))"
   ]
  },
  {
   "cell_type": "code",
   "execution_count": null,
   "id": "3faabac7",
   "metadata": {
    "papermill": {
     "duration": 0.00857,
     "end_time": "2023-08-08T14:45:25.096693",
     "exception": false,
     "start_time": "2023-08-08T14:45:25.088123",
     "status": "completed"
    },
    "tags": []
   },
   "outputs": [],
   "source": []
  },
  {
   "cell_type": "markdown",
   "id": "a57f0b3e",
   "metadata": {
    "papermill": {
     "duration": 0.008547,
     "end_time": "2023-08-08T14:45:25.114143",
     "exception": false,
     "start_time": "2023-08-08T14:45:25.105596",
     "status": "completed"
    },
    "tags": []
   },
   "source": [
    "# Multi Regression"
   ]
  },
  {
   "cell_type": "code",
   "execution_count": 16,
   "id": "7164d491",
   "metadata": {
    "execution": {
     "iopub.execute_input": "2023-08-08T14:45:25.133614Z",
     "iopub.status.busy": "2023-08-08T14:45:25.133227Z",
     "iopub.status.idle": "2023-08-08T14:45:25.142220Z",
     "shell.execute_reply": "2023-08-08T14:45:25.141203Z"
    },
    "papermill": {
     "duration": 0.021425,
     "end_time": "2023-08-08T14:45:25.144471",
     "exception": false,
     "start_time": "2023-08-08T14:45:25.123046",
     "status": "completed"
    },
    "tags": []
   },
   "outputs": [],
   "source": [
    "x = data.drop([\"Sales\"], axis = 1)\n",
    "y = data['Sales']"
   ]
  },
  {
   "cell_type": "code",
   "execution_count": 17,
   "id": "739ef204",
   "metadata": {
    "execution": {
     "iopub.execute_input": "2023-08-08T14:45:25.164297Z",
     "iopub.status.busy": "2023-08-08T14:45:25.163517Z",
     "iopub.status.idle": "2023-08-08T14:45:25.170197Z",
     "shell.execute_reply": "2023-08-08T14:45:25.169183Z"
    },
    "papermill": {
     "duration": 0.01879,
     "end_time": "2023-08-08T14:45:25.172217",
     "exception": false,
     "start_time": "2023-08-08T14:45:25.153427",
     "status": "completed"
    },
    "tags": []
   },
   "outputs": [],
   "source": [
    "from sklearn.model_selection import train_test_split\n",
    "x_train, x_test, y_train, y_test = train_test_split(x, y, test_size = 0.3, random_state = 100)"
   ]
  },
  {
   "cell_type": "code",
   "execution_count": 18,
   "id": "46bba207",
   "metadata": {
    "execution": {
     "iopub.execute_input": "2023-08-08T14:45:25.193637Z",
     "iopub.status.busy": "2023-08-08T14:45:25.193274Z",
     "iopub.status.idle": "2023-08-08T14:45:25.197542Z",
     "shell.execute_reply": "2023-08-08T14:45:25.196502Z"
    },
    "papermill": {
     "duration": 0.017036,
     "end_time": "2023-08-08T14:45:25.199567",
     "exception": false,
     "start_time": "2023-08-08T14:45:25.182531",
     "status": "completed"
    },
    "tags": []
   },
   "outputs": [],
   "source": [
    "# Importing the required preprocessing libraries:\n",
    "from sklearn.preprocessing import StandardScaler, OneHotEncoder, LabelEncoder"
   ]
  },
  {
   "cell_type": "code",
   "execution_count": 19,
   "id": "11ce2ab8",
   "metadata": {
    "execution": {
     "iopub.execute_input": "2023-08-08T14:45:25.219505Z",
     "iopub.status.busy": "2023-08-08T14:45:25.218733Z",
     "iopub.status.idle": "2023-08-08T14:45:25.225378Z",
     "shell.execute_reply": "2023-08-08T14:45:25.224590Z"
    },
    "papermill": {
     "duration": 0.018792,
     "end_time": "2023-08-08T14:45:25.227292",
     "exception": false,
     "start_time": "2023-08-08T14:45:25.208500",
     "status": "completed"
    },
    "tags": []
   },
   "outputs": [
    {
     "data": {
      "text/plain": [
       "Index(['TV', 'Radio', 'Newspaper'], dtype='object')"
      ]
     },
     "execution_count": 19,
     "metadata": {},
     "output_type": "execute_result"
    }
   ],
   "source": [
    "#defining numerical columns in data:\n",
    "numeric_columns=x_train.select_dtypes(['float64','int64']).columns\n",
    "numeric_columns"
   ]
  },
  {
   "cell_type": "code",
   "execution_count": 20,
   "id": "3e184b89",
   "metadata": {
    "execution": {
     "iopub.execute_input": "2023-08-08T14:45:25.247620Z",
     "iopub.status.busy": "2023-08-08T14:45:25.246835Z",
     "iopub.status.idle": "2023-08-08T14:45:25.260423Z",
     "shell.execute_reply": "2023-08-08T14:45:25.259336Z"
    },
    "papermill": {
     "duration": 0.026654,
     "end_time": "2023-08-08T14:45:25.262974",
     "exception": false,
     "start_time": "2023-08-08T14:45:25.236320",
     "status": "completed"
    },
    "tags": []
   },
   "outputs": [],
   "source": [
    "#standardscaler for numerical columns\n",
    "scaler = StandardScaler()\n",
    "scaler.fit(x_train[numeric_columns])\n",
    "\n",
    "X_train = pd.DataFrame(scaler.transform(x_train[numeric_columns]), columns=numeric_columns)\n",
    "X_test = pd.DataFrame(scaler.transform(x_test[numeric_columns]), columns=numeric_columns)"
   ]
  },
  {
   "cell_type": "code",
   "execution_count": 21,
   "id": "6df32e70",
   "metadata": {
    "execution": {
     "iopub.execute_input": "2023-08-08T14:45:25.283968Z",
     "iopub.status.busy": "2023-08-08T14:45:25.282892Z",
     "iopub.status.idle": "2023-08-08T14:45:25.293514Z",
     "shell.execute_reply": "2023-08-08T14:45:25.292460Z"
    },
    "papermill": {
     "duration": 0.023468,
     "end_time": "2023-08-08T14:45:25.295892",
     "exception": false,
     "start_time": "2023-08-08T14:45:25.272424",
     "status": "completed"
    },
    "tags": []
   },
   "outputs": [
    {
     "data": {
      "text/html": [
       "<div>\n",
       "<style scoped>\n",
       "    .dataframe tbody tr th:only-of-type {\n",
       "        vertical-align: middle;\n",
       "    }\n",
       "\n",
       "    .dataframe tbody tr th {\n",
       "        vertical-align: top;\n",
       "    }\n",
       "\n",
       "    .dataframe thead th {\n",
       "        text-align: right;\n",
       "    }\n",
       "</style>\n",
       "<table border=\"1\" class=\"dataframe\">\n",
       "  <thead>\n",
       "    <tr style=\"text-align: right;\">\n",
       "      <th></th>\n",
       "      <th>TV</th>\n",
       "      <th>Radio</th>\n",
       "      <th>Newspaper</th>\n",
       "    </tr>\n",
       "  </thead>\n",
       "  <tbody>\n",
       "    <tr>\n",
       "      <th>0</th>\n",
       "      <td>0.709886</td>\n",
       "      <td>0.110952</td>\n",
       "      <td>-0.813444</td>\n",
       "    </tr>\n",
       "    <tr>\n",
       "      <th>1</th>\n",
       "      <td>0.040943</td>\n",
       "      <td>1.218103</td>\n",
       "      <td>1.200207</td>\n",
       "    </tr>\n",
       "  </tbody>\n",
       "</table>\n",
       "</div>"
      ],
      "text/plain": [
       "         TV     Radio  Newspaper\n",
       "0  0.709886  0.110952  -0.813444\n",
       "1  0.040943  1.218103   1.200207"
      ]
     },
     "execution_count": 21,
     "metadata": {},
     "output_type": "execute_result"
    }
   ],
   "source": [
    "X_train.head(2)"
   ]
  },
  {
   "cell_type": "code",
   "execution_count": null,
   "id": "2e9b184b",
   "metadata": {
    "papermill": {
     "duration": 0.009345,
     "end_time": "2023-08-08T14:45:25.314595",
     "exception": false,
     "start_time": "2023-08-08T14:45:25.305250",
     "status": "completed"
    },
    "tags": []
   },
   "outputs": [],
   "source": []
  },
  {
   "cell_type": "code",
   "execution_count": 22,
   "id": "9f53e00b",
   "metadata": {
    "execution": {
     "iopub.execute_input": "2023-08-08T14:45:25.335445Z",
     "iopub.status.busy": "2023-08-08T14:45:25.334331Z",
     "iopub.status.idle": "2023-08-08T14:45:25.338974Z",
     "shell.execute_reply": "2023-08-08T14:45:25.338211Z"
    },
    "papermill": {
     "duration": 0.016976,
     "end_time": "2023-08-08T14:45:25.341034",
     "exception": false,
     "start_time": "2023-08-08T14:45:25.324058",
     "status": "completed"
    },
    "tags": []
   },
   "outputs": [],
   "source": [
    "from sklearn.linear_model import LinearRegression\n",
    "mlr = LinearRegression()  \n"
   ]
  },
  {
   "cell_type": "code",
   "execution_count": 23,
   "id": "3702e9a5",
   "metadata": {
    "execution": {
     "iopub.execute_input": "2023-08-08T14:45:25.361726Z",
     "iopub.status.busy": "2023-08-08T14:45:25.360995Z",
     "iopub.status.idle": "2023-08-08T14:45:25.367393Z",
     "shell.execute_reply": "2023-08-08T14:45:25.366267Z"
    },
    "papermill": {
     "duration": 0.019357,
     "end_time": "2023-08-08T14:45:25.369628",
     "exception": false,
     "start_time": "2023-08-08T14:45:25.350271",
     "status": "completed"
    },
    "tags": []
   },
   "outputs": [
    {
     "data": {
      "text/plain": [
       "(140, 3)"
      ]
     },
     "execution_count": 23,
     "metadata": {},
     "output_type": "execute_result"
    }
   ],
   "source": [
    "X_train.shape"
   ]
  },
  {
   "cell_type": "code",
   "execution_count": 24,
   "id": "5da7c942",
   "metadata": {
    "execution": {
     "iopub.execute_input": "2023-08-08T14:45:25.390993Z",
     "iopub.status.busy": "2023-08-08T14:45:25.390569Z",
     "iopub.status.idle": "2023-08-08T14:45:25.396623Z",
     "shell.execute_reply": "2023-08-08T14:45:25.395573Z"
    },
    "papermill": {
     "duration": 0.019544,
     "end_time": "2023-08-08T14:45:25.398870",
     "exception": false,
     "start_time": "2023-08-08T14:45:25.379326",
     "status": "completed"
    },
    "tags": []
   },
   "outputs": [
    {
     "data": {
      "text/plain": [
       "(60, 3)"
      ]
     },
     "execution_count": 24,
     "metadata": {},
     "output_type": "execute_result"
    }
   ],
   "source": [
    "X_test.shape"
   ]
  },
  {
   "cell_type": "code",
   "execution_count": 25,
   "id": "50e58f08",
   "metadata": {
    "execution": {
     "iopub.execute_input": "2023-08-08T14:45:25.419364Z",
     "iopub.status.busy": "2023-08-08T14:45:25.418980Z",
     "iopub.status.idle": "2023-08-08T14:45:25.432653Z",
     "shell.execute_reply": "2023-08-08T14:45:25.431718Z"
    },
    "papermill": {
     "duration": 0.026319,
     "end_time": "2023-08-08T14:45:25.434720",
     "exception": false,
     "start_time": "2023-08-08T14:45:25.408401",
     "status": "completed"
    },
    "tags": []
   },
   "outputs": [
    {
     "data": {
      "text/html": [
       "<style>#sk-container-id-2 {color: black;background-color: white;}#sk-container-id-2 pre{padding: 0;}#sk-container-id-2 div.sk-toggleable {background-color: white;}#sk-container-id-2 label.sk-toggleable__label {cursor: pointer;display: block;width: 100%;margin-bottom: 0;padding: 0.3em;box-sizing: border-box;text-align: center;}#sk-container-id-2 label.sk-toggleable__label-arrow:before {content: \"▸\";float: left;margin-right: 0.25em;color: #696969;}#sk-container-id-2 label.sk-toggleable__label-arrow:hover:before {color: black;}#sk-container-id-2 div.sk-estimator:hover label.sk-toggleable__label-arrow:before {color: black;}#sk-container-id-2 div.sk-toggleable__content {max-height: 0;max-width: 0;overflow: hidden;text-align: left;background-color: #f0f8ff;}#sk-container-id-2 div.sk-toggleable__content pre {margin: 0.2em;color: black;border-radius: 0.25em;background-color: #f0f8ff;}#sk-container-id-2 input.sk-toggleable__control:checked~div.sk-toggleable__content {max-height: 200px;max-width: 100%;overflow: auto;}#sk-container-id-2 input.sk-toggleable__control:checked~label.sk-toggleable__label-arrow:before {content: \"▾\";}#sk-container-id-2 div.sk-estimator input.sk-toggleable__control:checked~label.sk-toggleable__label {background-color: #d4ebff;}#sk-container-id-2 div.sk-label input.sk-toggleable__control:checked~label.sk-toggleable__label {background-color: #d4ebff;}#sk-container-id-2 input.sk-hidden--visually {border: 0;clip: rect(1px 1px 1px 1px);clip: rect(1px, 1px, 1px, 1px);height: 1px;margin: -1px;overflow: hidden;padding: 0;position: absolute;width: 1px;}#sk-container-id-2 div.sk-estimator {font-family: monospace;background-color: #f0f8ff;border: 1px dotted black;border-radius: 0.25em;box-sizing: border-box;margin-bottom: 0.5em;}#sk-container-id-2 div.sk-estimator:hover {background-color: #d4ebff;}#sk-container-id-2 div.sk-parallel-item::after {content: \"\";width: 100%;border-bottom: 1px solid gray;flex-grow: 1;}#sk-container-id-2 div.sk-label:hover label.sk-toggleable__label {background-color: #d4ebff;}#sk-container-id-2 div.sk-serial::before {content: \"\";position: absolute;border-left: 1px solid gray;box-sizing: border-box;top: 0;bottom: 0;left: 50%;z-index: 0;}#sk-container-id-2 div.sk-serial {display: flex;flex-direction: column;align-items: center;background-color: white;padding-right: 0.2em;padding-left: 0.2em;position: relative;}#sk-container-id-2 div.sk-item {position: relative;z-index: 1;}#sk-container-id-2 div.sk-parallel {display: flex;align-items: stretch;justify-content: center;background-color: white;position: relative;}#sk-container-id-2 div.sk-item::before, #sk-container-id-2 div.sk-parallel-item::before {content: \"\";position: absolute;border-left: 1px solid gray;box-sizing: border-box;top: 0;bottom: 0;left: 50%;z-index: -1;}#sk-container-id-2 div.sk-parallel-item {display: flex;flex-direction: column;z-index: 1;position: relative;background-color: white;}#sk-container-id-2 div.sk-parallel-item:first-child::after {align-self: flex-end;width: 50%;}#sk-container-id-2 div.sk-parallel-item:last-child::after {align-self: flex-start;width: 50%;}#sk-container-id-2 div.sk-parallel-item:only-child::after {width: 0;}#sk-container-id-2 div.sk-dashed-wrapped {border: 1px dashed gray;margin: 0 0.4em 0.5em 0.4em;box-sizing: border-box;padding-bottom: 0.4em;background-color: white;}#sk-container-id-2 div.sk-label label {font-family: monospace;font-weight: bold;display: inline-block;line-height: 1.2em;}#sk-container-id-2 div.sk-label-container {text-align: center;}#sk-container-id-2 div.sk-container {/* jupyter's `normalize.less` sets `[hidden] { display: none; }` but bootstrap.min.css set `[hidden] { display: none !important; }` so we also need the `!important` here to be able to override the default hidden behavior on the sphinx rendered scikit-learn.org. See: https://github.com/scikit-learn/scikit-learn/issues/21755 */display: inline-block !important;position: relative;}#sk-container-id-2 div.sk-text-repr-fallback {display: none;}</style><div id=\"sk-container-id-2\" class=\"sk-top-container\"><div class=\"sk-text-repr-fallback\"><pre>LinearRegression()</pre><b>In a Jupyter environment, please rerun this cell to show the HTML representation or trust the notebook. <br />On GitHub, the HTML representation is unable to render, please try loading this page with nbviewer.org.</b></div><div class=\"sk-container\" hidden><div class=\"sk-item\"><div class=\"sk-estimator sk-toggleable\"><input class=\"sk-toggleable__control sk-hidden--visually\" id=\"sk-estimator-id-2\" type=\"checkbox\" checked><label for=\"sk-estimator-id-2\" class=\"sk-toggleable__label sk-toggleable__label-arrow\">LinearRegression</label><div class=\"sk-toggleable__content\"><pre>LinearRegression()</pre></div></div></div></div></div>"
      ],
      "text/plain": [
       "LinearRegression()"
      ]
     },
     "execution_count": 25,
     "metadata": {},
     "output_type": "execute_result"
    }
   ],
   "source": [
    "mlr.fit(X_train, y_train)"
   ]
  },
  {
   "cell_type": "code",
   "execution_count": 26,
   "id": "e54408d8",
   "metadata": {
    "execution": {
     "iopub.execute_input": "2023-08-08T14:45:25.456652Z",
     "iopub.status.busy": "2023-08-08T14:45:25.455463Z",
     "iopub.status.idle": "2023-08-08T14:45:25.463432Z",
     "shell.execute_reply": "2023-08-08T14:45:25.462388Z"
    },
    "papermill": {
     "duration": 0.021267,
     "end_time": "2023-08-08T14:45:25.465637",
     "exception": false,
     "start_time": "2023-08-08T14:45:25.444370",
     "status": "completed"
    },
    "tags": []
   },
   "outputs": [
    {
     "name": "stdout",
     "output_type": "stream",
     "text": [
      "Intercept:  15.005714285714287\n",
      "Coefficients:\n"
     ]
    },
    {
     "data": {
      "text/plain": [
       "[('TV', 4.981018752198336),\n",
       " ('Radio', 1.659397711063883),\n",
       " ('Newspaper', 0.14181393313850532)]"
      ]
     },
     "execution_count": 26,
     "metadata": {},
     "output_type": "execute_result"
    }
   ],
   "source": [
    "print(\"Intercept: \", mlr.intercept_)\n",
    "print(\"Coefficients:\")\n",
    "list(zip(x, mlr.coef_))"
   ]
  },
  {
   "cell_type": "code",
   "execution_count": 27,
   "id": "45bc0194",
   "metadata": {
    "execution": {
     "iopub.execute_input": "2023-08-08T14:45:25.487090Z",
     "iopub.status.busy": "2023-08-08T14:45:25.486671Z",
     "iopub.status.idle": "2023-08-08T14:45:25.493370Z",
     "shell.execute_reply": "2023-08-08T14:45:25.492217Z"
    },
    "papermill": {
     "duration": 0.020295,
     "end_time": "2023-08-08T14:45:25.495709",
     "exception": false,
     "start_time": "2023-08-08T14:45:25.475414",
     "status": "completed"
    },
    "tags": []
   },
   "outputs": [],
   "source": [
    "y_mlr_pred= mlr.predict(X_test)"
   ]
  },
  {
   "cell_type": "code",
   "execution_count": 28,
   "id": "9168725a",
   "metadata": {
    "execution": {
     "iopub.execute_input": "2023-08-08T14:45:25.517059Z",
     "iopub.status.busy": "2023-08-08T14:45:25.516600Z",
     "iopub.status.idle": "2023-08-08T14:45:25.528638Z",
     "shell.execute_reply": "2023-08-08T14:45:25.527520Z"
    },
    "papermill": {
     "duration": 0.025454,
     "end_time": "2023-08-08T14:45:25.530981",
     "exception": false,
     "start_time": "2023-08-08T14:45:25.505527",
     "status": "completed"
    },
    "tags": []
   },
   "outputs": [
    {
     "data": {
      "text/html": [
       "<div>\n",
       "<style scoped>\n",
       "    .dataframe tbody tr th:only-of-type {\n",
       "        vertical-align: middle;\n",
       "    }\n",
       "\n",
       "    .dataframe tbody tr th {\n",
       "        vertical-align: top;\n",
       "    }\n",
       "\n",
       "    .dataframe thead th {\n",
       "        text-align: right;\n",
       "    }\n",
       "</style>\n",
       "<table border=\"1\" class=\"dataframe\">\n",
       "  <thead>\n",
       "    <tr style=\"text-align: right;\">\n",
       "      <th></th>\n",
       "      <th>Actual value</th>\n",
       "      <th>Predicted value</th>\n",
       "    </tr>\n",
       "  </thead>\n",
       "  <tbody>\n",
       "    <tr>\n",
       "      <th>126</th>\n",
       "      <td>6.6</td>\n",
       "      <td>9.352211</td>\n",
       "    </tr>\n",
       "    <tr>\n",
       "      <th>104</th>\n",
       "      <td>20.7</td>\n",
       "      <td>20.963446</td>\n",
       "    </tr>\n",
       "    <tr>\n",
       "      <th>99</th>\n",
       "      <td>17.2</td>\n",
       "      <td>16.488511</td>\n",
       "    </tr>\n",
       "    <tr>\n",
       "      <th>92</th>\n",
       "      <td>19.4</td>\n",
       "      <td>20.109710</td>\n",
       "    </tr>\n",
       "    <tr>\n",
       "      <th>111</th>\n",
       "      <td>21.8</td>\n",
       "      <td>21.671484</td>\n",
       "    </tr>\n",
       "  </tbody>\n",
       "</table>\n",
       "</div>"
      ],
      "text/plain": [
       "     Actual value  Predicted value\n",
       "126           6.6         9.352211\n",
       "104          20.7        20.963446\n",
       "99           17.2        16.488511\n",
       "92           19.4        20.109710\n",
       "111          21.8        21.671484"
      ]
     },
     "execution_count": 28,
     "metadata": {},
     "output_type": "execute_result"
    }
   ],
   "source": [
    "mlr_diff = pd.DataFrame({'Actual value': y_test, 'Predicted value': y_mlr_pred})\n",
    "mlr_diff.head()"
   ]
  },
  {
   "cell_type": "code",
   "execution_count": 29,
   "id": "7d19a783",
   "metadata": {
    "execution": {
     "iopub.execute_input": "2023-08-08T14:45:25.553914Z",
     "iopub.status.busy": "2023-08-08T14:45:25.553499Z",
     "iopub.status.idle": "2023-08-08T14:45:25.564604Z",
     "shell.execute_reply": "2023-08-08T14:45:25.563418Z"
    },
    "papermill": {
     "duration": 0.025432,
     "end_time": "2023-08-08T14:45:25.567032",
     "exception": false,
     "start_time": "2023-08-08T14:45:25.541600",
     "status": "completed"
    },
    "tags": []
   },
   "outputs": [
    {
     "name": "stdout",
     "output_type": "stream",
     "text": [
      "R squared: -2810546.05\n",
      "Mean Absolute Error: 1.227818356658941\n",
      "Mean Square Error: 2.6360765623280646\n",
      "Root Mean Square Error: 1.6235998775338907\n"
     ]
    }
   ],
   "source": [
    "from sklearn import metrics\n",
    "mae = metrics.mean_absolute_error(y_test, y_mlr_pred)\n",
    "mse = metrics.mean_squared_error(y_test, y_mlr_pred)\n",
    "rmse = np.sqrt(metrics.mean_squared_error(y_test, y_mlr_pred))\n",
    "print('R squared: {:.2f}'.format(mlr.score(x,y)*100))\n",
    "print('Mean Absolute Error:', mae)\n",
    "print('Mean Square Error:', mse)\n",
    "print('Root Mean Square Error:', rmse)\n"
   ]
  },
  {
   "cell_type": "code",
   "execution_count": null,
   "id": "6d5b1c69",
   "metadata": {
    "papermill": {
     "duration": 0.009745,
     "end_time": "2023-08-08T14:45:25.586983",
     "exception": false,
     "start_time": "2023-08-08T14:45:25.577238",
     "status": "completed"
    },
    "tags": []
   },
   "outputs": [],
   "source": []
  }
 ],
 "metadata": {
  "kernelspec": {
   "display_name": "Python 3",
   "language": "python",
   "name": "python3"
  },
  "language_info": {
   "codemirror_mode": {
    "name": "ipython",
    "version": 3
   },
   "file_extension": ".py",
   "mimetype": "text/x-python",
   "name": "python",
   "nbconvert_exporter": "python",
   "pygments_lexer": "ipython3",
   "version": "3.10.12"
  },
  "papermill": {
   "default_parameters": {},
   "duration": 13.312216,
   "end_time": "2023-08-08T14:45:26.620427",
   "environment_variables": {},
   "exception": null,
   "input_path": "__notebook__.ipynb",
   "output_path": "__notebook__.ipynb",
   "parameters": {},
   "start_time": "2023-08-08T14:45:13.308211",
   "version": "2.4.0"
  }
 },
 "nbformat": 4,
 "nbformat_minor": 5
}
