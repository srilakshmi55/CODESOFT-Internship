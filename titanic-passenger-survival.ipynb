{
 "cells": [
  {
   "cell_type": "markdown",
   "id": "35f94433",
   "metadata": {
    "papermill": {
     "duration": 0.018443,
     "end_time": "2023-08-08T14:50:43.319253",
     "exception": false,
     "start_time": "2023-08-08T14:50:43.300810",
     "status": "completed"
    },
    "tags": []
   },
   "source": [
    "# The Prediction of Titanic Passengers Survival"
   ]
  },
  {
   "cell_type": "markdown",
   "id": "ed26cdd5",
   "metadata": {
    "papermill": {
     "duration": 0.018207,
     "end_time": "2023-08-08T14:50:43.356127",
     "exception": false,
     "start_time": "2023-08-08T14:50:43.337920",
     "status": "completed"
    },
    "tags": []
   },
   "source": [
    "**Dataset and Problem Statement**\n",
    "\n",
    "The sinking of the RMS Titanic is one of the most infamous shipwrecks in history. On April 15, 1912, during her maiden voyage, the Titanic sank after colliding with an iceberg, killing 1502 out of 2224 passengers and crew. This sensational tragedy shocked the international community and led to better safety regulations for ships.\n",
    "\n",
    "One of the reasons that the shipwreck led to such loss of life was that there were not enough lifeboats for the passengers and crew. Although there was some element of luck involved in surviving the sinking, some groups of people were more likely to survive than others, such as women, children, and the upper-class.\n",
    "\n",
    "Titanic dataset contains information about the people involved in the Titanic shipwreck.\n",
    "\n",
    "**Predict if a passenger survived the sinking of the Titanic or not.**\n",
    "\n"
   ]
  },
  {
   "cell_type": "markdown",
   "id": "5982e88c",
   "metadata": {
    "papermill": {
     "duration": 0.017643,
     "end_time": "2023-08-08T14:50:43.394042",
     "exception": false,
     "start_time": "2023-08-08T14:50:43.376399",
     "status": "completed"
    },
    "tags": []
   },
   "source": [
    "**Variables Description**"
   ]
  },
  {
   "cell_type": "markdown",
   "id": "5bb866d8",
   "metadata": {
    "papermill": {
     "duration": 0.017586,
     "end_time": "2023-08-08T14:50:43.430662",
     "exception": false,
     "start_time": "2023-08-08T14:50:43.413076",
     "status": "completed"
    },
    "tags": []
   },
   "source": [
    "PassengerID : ID of the Passenger.\n",
    "\n",
    "Survived: Survival (0 = No; 1 = Yes)\n",
    "\n",
    "Pclass: Passenger Class (1 = 1st; 2 = 2nd; 3 = 3rd)\n",
    "\n",
    "Name : Name of the Passenger\n",
    "\n",
    "Sex: Sex of the Passenger (Female / Male)\n",
    "\n",
    "Age: Age of the Passenger.\n",
    "\n",
    "Sibsp: Number of siblings/spouses aboard\n",
    "\n",
    "Parch: Number of parents/children aboard\n",
    "\n",
    "Ticket : Ticket number.\n",
    "\n",
    "Fare: Passenger fare (British pound)\n",
    "\n",
    "Cabin: Cabin number\n",
    "\n",
    "Embarked: Port of embarkation (C = Cherbourg; Q = Queenstown; S = Southampton)"
   ]
  },
  {
   "cell_type": "code",
   "execution_count": 1,
   "id": "d1778417",
   "metadata": {
    "_cell_guid": "b1076dfc-b9ad-4769-8c92-a6c4dae69d19",
    "_uuid": "8f2839f25d086af736a60e9eeb907d3b93b6e0e5",
    "execution": {
     "iopub.execute_input": "2023-08-08T14:50:43.468528Z",
     "iopub.status.busy": "2023-08-08T14:50:43.467970Z",
     "iopub.status.idle": "2023-08-08T14:50:43.490325Z",
     "shell.execute_reply": "2023-08-08T14:50:43.489405Z"
    },
    "papermill": {
     "duration": 0.044533,
     "end_time": "2023-08-08T14:50:43.493130",
     "exception": false,
     "start_time": "2023-08-08T14:50:43.448597",
     "status": "completed"
    },
    "tags": []
   },
   "outputs": [
    {
     "name": "stdout",
     "output_type": "stream",
     "text": [
      "/kaggle/input/test-file/tested.csv\n"
     ]
    }
   ],
   "source": [
    "# This Python 3 environment comes with many helpful analytics libraries installed\n",
    "# It is defined by the kaggle/python Docker image: https://github.com/kaggle/docker-python\n",
    "# For example, here's several helpful packages to load\n",
    "\n",
    "import numpy as np # linear algebra\n",
    "import pandas as pd # data processing, CSV file I/O (e.g. pd.read_csv)\n",
    "\n",
    "# Input data files are available in the read-only \"../input/\" directory\n",
    "# For example, running this (by clicking run or pressing Shift+Enter) will list all files under the input directory\n",
    "\n",
    "import os\n",
    "for dirname, _, filenames in os.walk('/kaggle/input'):\n",
    "    for filename in filenames:\n",
    "        print(os.path.join(dirname, filename))\n",
    "\n",
    "# You can write up to 20GB to the current directory (/kaggle/working/) that gets preserved as output when you create a version using \"Save & Run All\" \n",
    "# You can also write temporary files to /kaggle/temp/, but they won't be saved outside of the current session"
   ]
  },
  {
   "cell_type": "code",
   "execution_count": 2,
   "id": "48d5e4a6",
   "metadata": {
    "execution": {
     "iopub.execute_input": "2023-08-08T14:50:43.532539Z",
     "iopub.status.busy": "2023-08-08T14:50:43.531588Z",
     "iopub.status.idle": "2023-08-08T14:50:43.560644Z",
     "shell.execute_reply": "2023-08-08T14:50:43.559530Z"
    },
    "papermill": {
     "duration": 0.051343,
     "end_time": "2023-08-08T14:50:43.563274",
     "exception": false,
     "start_time": "2023-08-08T14:50:43.511931",
     "status": "completed"
    },
    "tags": []
   },
   "outputs": [],
   "source": [
    "df = pd.read_csv(\"/kaggle/input/test-file/tested.csv\")"
   ]
  },
  {
   "cell_type": "code",
   "execution_count": 3,
   "id": "ac33ef83",
   "metadata": {
    "execution": {
     "iopub.execute_input": "2023-08-08T14:50:43.602417Z",
     "iopub.status.busy": "2023-08-08T14:50:43.601662Z",
     "iopub.status.idle": "2023-08-08T14:50:43.628701Z",
     "shell.execute_reply": "2023-08-08T14:50:43.627631Z"
    },
    "papermill": {
     "duration": 0.049579,
     "end_time": "2023-08-08T14:50:43.631370",
     "exception": false,
     "start_time": "2023-08-08T14:50:43.581791",
     "status": "completed"
    },
    "tags": []
   },
   "outputs": [
    {
     "data": {
      "text/html": [
       "<div>\n",
       "<style scoped>\n",
       "    .dataframe tbody tr th:only-of-type {\n",
       "        vertical-align: middle;\n",
       "    }\n",
       "\n",
       "    .dataframe tbody tr th {\n",
       "        vertical-align: top;\n",
       "    }\n",
       "\n",
       "    .dataframe thead th {\n",
       "        text-align: right;\n",
       "    }\n",
       "</style>\n",
       "<table border=\"1\" class=\"dataframe\">\n",
       "  <thead>\n",
       "    <tr style=\"text-align: right;\">\n",
       "      <th></th>\n",
       "      <th>PassengerId</th>\n",
       "      <th>Survived</th>\n",
       "      <th>Pclass</th>\n",
       "      <th>Name</th>\n",
       "      <th>Sex</th>\n",
       "      <th>Age</th>\n",
       "      <th>SibSp</th>\n",
       "      <th>Parch</th>\n",
       "      <th>Ticket</th>\n",
       "      <th>Fare</th>\n",
       "      <th>Cabin</th>\n",
       "      <th>Embarked</th>\n",
       "    </tr>\n",
       "  </thead>\n",
       "  <tbody>\n",
       "    <tr>\n",
       "      <th>0</th>\n",
       "      <td>892</td>\n",
       "      <td>0</td>\n",
       "      <td>3</td>\n",
       "      <td>Kelly, Mr. James</td>\n",
       "      <td>male</td>\n",
       "      <td>34.5</td>\n",
       "      <td>0</td>\n",
       "      <td>0</td>\n",
       "      <td>330911</td>\n",
       "      <td>7.8292</td>\n",
       "      <td>NaN</td>\n",
       "      <td>Q</td>\n",
       "    </tr>\n",
       "    <tr>\n",
       "      <th>1</th>\n",
       "      <td>893</td>\n",
       "      <td>1</td>\n",
       "      <td>3</td>\n",
       "      <td>Wilkes, Mrs. James (Ellen Needs)</td>\n",
       "      <td>female</td>\n",
       "      <td>47.0</td>\n",
       "      <td>1</td>\n",
       "      <td>0</td>\n",
       "      <td>363272</td>\n",
       "      <td>7.0000</td>\n",
       "      <td>NaN</td>\n",
       "      <td>S</td>\n",
       "    </tr>\n",
       "    <tr>\n",
       "      <th>2</th>\n",
       "      <td>894</td>\n",
       "      <td>0</td>\n",
       "      <td>2</td>\n",
       "      <td>Myles, Mr. Thomas Francis</td>\n",
       "      <td>male</td>\n",
       "      <td>62.0</td>\n",
       "      <td>0</td>\n",
       "      <td>0</td>\n",
       "      <td>240276</td>\n",
       "      <td>9.6875</td>\n",
       "      <td>NaN</td>\n",
       "      <td>Q</td>\n",
       "    </tr>\n",
       "  </tbody>\n",
       "</table>\n",
       "</div>"
      ],
      "text/plain": [
       "   PassengerId  Survived  Pclass                              Name     Sex  \\\n",
       "0          892         0       3                  Kelly, Mr. James    male   \n",
       "1          893         1       3  Wilkes, Mrs. James (Ellen Needs)  female   \n",
       "2          894         0       2         Myles, Mr. Thomas Francis    male   \n",
       "\n",
       "    Age  SibSp  Parch  Ticket    Fare Cabin Embarked  \n",
       "0  34.5      0      0  330911  7.8292   NaN        Q  \n",
       "1  47.0      1      0  363272  7.0000   NaN        S  \n",
       "2  62.0      0      0  240276  9.6875   NaN        Q  "
      ]
     },
     "execution_count": 3,
     "metadata": {},
     "output_type": "execute_result"
    }
   ],
   "source": [
    "df.head(3)"
   ]
  },
  {
   "cell_type": "code",
   "execution_count": 4,
   "id": "0c118561",
   "metadata": {
    "execution": {
     "iopub.execute_input": "2023-08-08T14:50:43.671038Z",
     "iopub.status.busy": "2023-08-08T14:50:43.670285Z",
     "iopub.status.idle": "2023-08-08T14:50:43.677520Z",
     "shell.execute_reply": "2023-08-08T14:50:43.676317Z"
    },
    "papermill": {
     "duration": 0.029959,
     "end_time": "2023-08-08T14:50:43.679850",
     "exception": false,
     "start_time": "2023-08-08T14:50:43.649891",
     "status": "completed"
    },
    "tags": []
   },
   "outputs": [
    {
     "data": {
      "text/plain": [
       "(418, 12)"
      ]
     },
     "execution_count": 4,
     "metadata": {},
     "output_type": "execute_result"
    }
   ],
   "source": [
    "df.shape"
   ]
  },
  {
   "cell_type": "code",
   "execution_count": 5,
   "id": "562169d7",
   "metadata": {
    "execution": {
     "iopub.execute_input": "2023-08-08T14:50:43.719803Z",
     "iopub.status.busy": "2023-08-08T14:50:43.719124Z",
     "iopub.status.idle": "2023-08-08T14:50:43.749679Z",
     "shell.execute_reply": "2023-08-08T14:50:43.748041Z"
    },
    "papermill": {
     "duration": 0.053401,
     "end_time": "2023-08-08T14:50:43.752316",
     "exception": false,
     "start_time": "2023-08-08T14:50:43.698915",
     "status": "completed"
    },
    "tags": []
   },
   "outputs": [
    {
     "name": "stdout",
     "output_type": "stream",
     "text": [
      "<class 'pandas.core.frame.DataFrame'>\n",
      "RangeIndex: 418 entries, 0 to 417\n",
      "Data columns (total 12 columns):\n",
      " #   Column       Non-Null Count  Dtype  \n",
      "---  ------       --------------  -----  \n",
      " 0   PassengerId  418 non-null    int64  \n",
      " 1   Survived     418 non-null    int64  \n",
      " 2   Pclass       418 non-null    int64  \n",
      " 3   Name         418 non-null    object \n",
      " 4   Sex          418 non-null    object \n",
      " 5   Age          332 non-null    float64\n",
      " 6   SibSp        418 non-null    int64  \n",
      " 7   Parch        418 non-null    int64  \n",
      " 8   Ticket       418 non-null    object \n",
      " 9   Fare         417 non-null    float64\n",
      " 10  Cabin        91 non-null     object \n",
      " 11  Embarked     418 non-null    object \n",
      "dtypes: float64(2), int64(5), object(5)\n",
      "memory usage: 39.3+ KB\n"
     ]
    }
   ],
   "source": [
    "df.info()"
   ]
  },
  {
   "cell_type": "code",
   "execution_count": 6,
   "id": "4f79ecda",
   "metadata": {
    "execution": {
     "iopub.execute_input": "2023-08-08T14:50:43.792320Z",
     "iopub.status.busy": "2023-08-08T14:50:43.791305Z",
     "iopub.status.idle": "2023-08-08T14:50:43.800470Z",
     "shell.execute_reply": "2023-08-08T14:50:43.799635Z"
    },
    "papermill": {
     "duration": 0.031475,
     "end_time": "2023-08-08T14:50:43.802679",
     "exception": false,
     "start_time": "2023-08-08T14:50:43.771204",
     "status": "completed"
    },
    "tags": []
   },
   "outputs": [
    {
     "data": {
      "text/plain": [
       "PassengerId      0\n",
       "Survived         0\n",
       "Pclass           0\n",
       "Name             0\n",
       "Sex              0\n",
       "Age             86\n",
       "SibSp            0\n",
       "Parch            0\n",
       "Ticket           0\n",
       "Fare             1\n",
       "Cabin          327\n",
       "Embarked         0\n",
       "dtype: int64"
      ]
     },
     "execution_count": 6,
     "metadata": {},
     "output_type": "execute_result"
    }
   ],
   "source": [
    "df.isnull().sum()"
   ]
  },
  {
   "cell_type": "code",
   "execution_count": 7,
   "id": "8332595e",
   "metadata": {
    "execution": {
     "iopub.execute_input": "2023-08-08T14:50:43.843237Z",
     "iopub.status.busy": "2023-08-08T14:50:43.842147Z",
     "iopub.status.idle": "2023-08-08T14:50:43.852110Z",
     "shell.execute_reply": "2023-08-08T14:50:43.851200Z"
    },
    "papermill": {
     "duration": 0.032577,
     "end_time": "2023-08-08T14:50:43.854415",
     "exception": false,
     "start_time": "2023-08-08T14:50:43.821838",
     "status": "completed"
    },
    "tags": []
   },
   "outputs": [],
   "source": [
    "# imputing age with median\n",
    "missing_col = ['Age','Fare']\n",
    " \n",
    "for i in missing_col:\n",
    "    df.loc[df.loc[:,i].isnull(),i]=df.loc[:,i].median()"
   ]
  },
  {
   "cell_type": "code",
   "execution_count": 8,
   "id": "c4c26fd7",
   "metadata": {
    "execution": {
     "iopub.execute_input": "2023-08-08T14:50:43.894337Z",
     "iopub.status.busy": "2023-08-08T14:50:43.893939Z",
     "iopub.status.idle": "2023-08-08T14:50:43.931185Z",
     "shell.execute_reply": "2023-08-08T14:50:43.929878Z"
    },
    "papermill": {
     "duration": 0.059855,
     "end_time": "2023-08-08T14:50:43.933737",
     "exception": false,
     "start_time": "2023-08-08T14:50:43.873882",
     "status": "completed"
    },
    "tags": []
   },
   "outputs": [
    {
     "data": {
      "text/html": [
       "<div>\n",
       "<style scoped>\n",
       "    .dataframe tbody tr th:only-of-type {\n",
       "        vertical-align: middle;\n",
       "    }\n",
       "\n",
       "    .dataframe tbody tr th {\n",
       "        vertical-align: top;\n",
       "    }\n",
       "\n",
       "    .dataframe thead th {\n",
       "        text-align: right;\n",
       "    }\n",
       "</style>\n",
       "<table border=\"1\" class=\"dataframe\">\n",
       "  <thead>\n",
       "    <tr style=\"text-align: right;\">\n",
       "      <th></th>\n",
       "      <th>PassengerId</th>\n",
       "      <th>Survived</th>\n",
       "      <th>Pclass</th>\n",
       "      <th>Age</th>\n",
       "      <th>SibSp</th>\n",
       "      <th>Parch</th>\n",
       "      <th>Fare</th>\n",
       "    </tr>\n",
       "  </thead>\n",
       "  <tbody>\n",
       "    <tr>\n",
       "      <th>count</th>\n",
       "      <td>418.000000</td>\n",
       "      <td>418.000000</td>\n",
       "      <td>418.000000</td>\n",
       "      <td>418.000000</td>\n",
       "      <td>418.000000</td>\n",
       "      <td>418.000000</td>\n",
       "      <td>418.000000</td>\n",
       "    </tr>\n",
       "    <tr>\n",
       "      <th>mean</th>\n",
       "      <td>1100.500000</td>\n",
       "      <td>0.363636</td>\n",
       "      <td>2.265550</td>\n",
       "      <td>29.599282</td>\n",
       "      <td>0.447368</td>\n",
       "      <td>0.392344</td>\n",
       "      <td>35.576535</td>\n",
       "    </tr>\n",
       "    <tr>\n",
       "      <th>std</th>\n",
       "      <td>120.810458</td>\n",
       "      <td>0.481622</td>\n",
       "      <td>0.841838</td>\n",
       "      <td>12.703770</td>\n",
       "      <td>0.896760</td>\n",
       "      <td>0.981429</td>\n",
       "      <td>55.850103</td>\n",
       "    </tr>\n",
       "    <tr>\n",
       "      <th>min</th>\n",
       "      <td>892.000000</td>\n",
       "      <td>0.000000</td>\n",
       "      <td>1.000000</td>\n",
       "      <td>0.170000</td>\n",
       "      <td>0.000000</td>\n",
       "      <td>0.000000</td>\n",
       "      <td>0.000000</td>\n",
       "    </tr>\n",
       "    <tr>\n",
       "      <th>25%</th>\n",
       "      <td>996.250000</td>\n",
       "      <td>0.000000</td>\n",
       "      <td>1.000000</td>\n",
       "      <td>23.000000</td>\n",
       "      <td>0.000000</td>\n",
       "      <td>0.000000</td>\n",
       "      <td>7.895800</td>\n",
       "    </tr>\n",
       "    <tr>\n",
       "      <th>50%</th>\n",
       "      <td>1100.500000</td>\n",
       "      <td>0.000000</td>\n",
       "      <td>3.000000</td>\n",
       "      <td>27.000000</td>\n",
       "      <td>0.000000</td>\n",
       "      <td>0.000000</td>\n",
       "      <td>14.454200</td>\n",
       "    </tr>\n",
       "    <tr>\n",
       "      <th>75%</th>\n",
       "      <td>1204.750000</td>\n",
       "      <td>1.000000</td>\n",
       "      <td>3.000000</td>\n",
       "      <td>35.750000</td>\n",
       "      <td>1.000000</td>\n",
       "      <td>0.000000</td>\n",
       "      <td>31.471875</td>\n",
       "    </tr>\n",
       "    <tr>\n",
       "      <th>max</th>\n",
       "      <td>1309.000000</td>\n",
       "      <td>1.000000</td>\n",
       "      <td>3.000000</td>\n",
       "      <td>76.000000</td>\n",
       "      <td>8.000000</td>\n",
       "      <td>9.000000</td>\n",
       "      <td>512.329200</td>\n",
       "    </tr>\n",
       "  </tbody>\n",
       "</table>\n",
       "</div>"
      ],
      "text/plain": [
       "       PassengerId    Survived      Pclass         Age       SibSp  \\\n",
       "count   418.000000  418.000000  418.000000  418.000000  418.000000   \n",
       "mean   1100.500000    0.363636    2.265550   29.599282    0.447368   \n",
       "std     120.810458    0.481622    0.841838   12.703770    0.896760   \n",
       "min     892.000000    0.000000    1.000000    0.170000    0.000000   \n",
       "25%     996.250000    0.000000    1.000000   23.000000    0.000000   \n",
       "50%    1100.500000    0.000000    3.000000   27.000000    0.000000   \n",
       "75%    1204.750000    1.000000    3.000000   35.750000    1.000000   \n",
       "max    1309.000000    1.000000    3.000000   76.000000    8.000000   \n",
       "\n",
       "            Parch        Fare  \n",
       "count  418.000000  418.000000  \n",
       "mean     0.392344   35.576535  \n",
       "std      0.981429   55.850103  \n",
       "min      0.000000    0.000000  \n",
       "25%      0.000000    7.895800  \n",
       "50%      0.000000   14.454200  \n",
       "75%      0.000000   31.471875  \n",
       "max      9.000000  512.329200  "
      ]
     },
     "execution_count": 8,
     "metadata": {},
     "output_type": "execute_result"
    }
   ],
   "source": [
    "df.describe()"
   ]
  },
  {
   "cell_type": "code",
   "execution_count": 9,
   "id": "bcf86d3c",
   "metadata": {
    "execution": {
     "iopub.execute_input": "2023-08-08T14:50:43.973967Z",
     "iopub.status.busy": "2023-08-08T14:50:43.973572Z",
     "iopub.status.idle": "2023-08-08T14:50:43.986488Z",
     "shell.execute_reply": "2023-08-08T14:50:43.985367Z"
    },
    "papermill": {
     "duration": 0.035673,
     "end_time": "2023-08-08T14:50:43.988906",
     "exception": false,
     "start_time": "2023-08-08T14:50:43.953233",
     "status": "completed"
    },
    "tags": []
   },
   "outputs": [
    {
     "data": {
      "text/plain": [
       "PassengerId    418\n",
       "Survived         2\n",
       "Pclass           3\n",
       "Name           418\n",
       "Sex              2\n",
       "Age             79\n",
       "SibSp            7\n",
       "Parch            8\n",
       "Ticket         363\n",
       "Fare           169\n",
       "Cabin           76\n",
       "Embarked         3\n",
       "dtype: int64"
      ]
     },
     "execution_count": 9,
     "metadata": {},
     "output_type": "execute_result"
    }
   ],
   "source": [
    "df.nunique()"
   ]
  },
  {
   "cell_type": "code",
   "execution_count": 10,
   "id": "b89bfa59",
   "metadata": {
    "execution": {
     "iopub.execute_input": "2023-08-08T14:50:44.030025Z",
     "iopub.status.busy": "2023-08-08T14:50:44.029384Z",
     "iopub.status.idle": "2023-08-08T14:50:44.037725Z",
     "shell.execute_reply": "2023-08-08T14:50:44.036523Z"
    },
    "papermill": {
     "duration": 0.03143,
     "end_time": "2023-08-08T14:50:44.039985",
     "exception": false,
     "start_time": "2023-08-08T14:50:44.008555",
     "status": "completed"
    },
    "tags": []
   },
   "outputs": [
    {
     "data": {
      "text/plain": [
       "PassengerId      int64\n",
       "Survived         int64\n",
       "Pclass           int64\n",
       "Name            object\n",
       "Sex             object\n",
       "Age            float64\n",
       "SibSp            int64\n",
       "Parch            int64\n",
       "Ticket          object\n",
       "Fare           float64\n",
       "Cabin           object\n",
       "Embarked        object\n",
       "dtype: object"
      ]
     },
     "execution_count": 10,
     "metadata": {},
     "output_type": "execute_result"
    }
   ],
   "source": [
    "df.dtypes"
   ]
  },
  {
   "cell_type": "code",
   "execution_count": 11,
   "id": "312fa73b",
   "metadata": {
    "execution": {
     "iopub.execute_input": "2023-08-08T14:50:44.080915Z",
     "iopub.status.busy": "2023-08-08T14:50:44.080270Z",
     "iopub.status.idle": "2023-08-08T14:50:46.059037Z",
     "shell.execute_reply": "2023-08-08T14:50:46.058011Z"
    },
    "papermill": {
     "duration": 2.002286,
     "end_time": "2023-08-08T14:50:46.061698",
     "exception": false,
     "start_time": "2023-08-08T14:50:44.059412",
     "status": "completed"
    },
    "tags": []
   },
   "outputs": [
    {
     "name": "stderr",
     "output_type": "stream",
     "text": [
      "/opt/conda/lib/python3.10/site-packages/scipy/__init__.py:146: UserWarning: A NumPy version >=1.16.5 and <1.23.0 is required for this version of SciPy (detected version 1.23.5\n",
      "  warnings.warn(f\"A NumPy version >={np_minversion} and <{np_maxversion}\"\n"
     ]
    }
   ],
   "source": [
    "import matplotlib.pyplot as plt #(For Visualizations)\n",
    "import seaborn as sns #(For Visualizations)\n",
    "from sklearn.impute import SimpleImputer #(For imputation)"
   ]
  },
  {
   "cell_type": "code",
   "execution_count": 12,
   "id": "7ffba33c",
   "metadata": {
    "execution": {
     "iopub.execute_input": "2023-08-08T14:50:46.103089Z",
     "iopub.status.busy": "2023-08-08T14:50:46.102367Z",
     "iopub.status.idle": "2023-08-08T14:50:46.364155Z",
     "shell.execute_reply": "2023-08-08T14:50:46.362904Z"
    },
    "papermill": {
     "duration": 0.285379,
     "end_time": "2023-08-08T14:50:46.366691",
     "exception": false,
     "start_time": "2023-08-08T14:50:46.081312",
     "status": "completed"
    },
    "tags": []
   },
   "outputs": [
    {
     "data": {
      "text/plain": [
       "<Axes: xlabel='Survived', ylabel='count'>"
      ]
     },
     "execution_count": 12,
     "metadata": {},
     "output_type": "execute_result"
    },
    {
     "data": {
      "image/png": "[encoded data removed]",
      "text/plain": [
       "<Figure size 640x480 with 1 Axes>"
      ]
     },
     "metadata": {},
     "output_type": "display_data"
    }
   ],
   "source": [
    "sns.countplot(x='Survived',data=df)"
   ]
  },
  {
   "cell_type": "code",
   "execution_count": 13,
   "id": "e5ef0595",
   "metadata": {
    "execution": {
     "iopub.execute_input": "2023-08-08T14:50:46.411998Z",
     "iopub.status.busy": "2023-08-08T14:50:46.411527Z",
     "iopub.status.idle": "2023-08-08T14:50:46.665628Z",
     "shell.execute_reply": "2023-08-08T14:50:46.664433Z"
    },
    "papermill": {
     "duration": 0.279609,
     "end_time": "2023-08-08T14:50:46.668276",
     "exception": false,
     "start_time": "2023-08-08T14:50:46.388667",
     "status": "completed"
    },
    "tags": []
   },
   "outputs": [
    {
     "data": {
      "text/plain": [
       "<Axes: xlabel='Sex', ylabel='Survived'>"
      ]
     },
     "execution_count": 13,
     "metadata": {},
     "output_type": "execute_result"
    },
    {
     "data": {
      "image/png": "[encoded data removed]",
      "text/plain": [
       "<Figure size 1000x500 with 1 Axes>"
      ]
     },
     "metadata": {},
     "output_type": "display_data"
    }
   ],
   "source": [
    "prdata=df.groupby('Sex').agg({'Survived':'count'}).reset_index()\n",
    "fig, (ax1) = plt.subplots(1,1,figsize=(10, 5))\n",
    "sns.barplot(x='Sex', y='Survived', data = prdata, ax=ax1)"
   ]
  },
  {
   "cell_type": "code",
   "execution_count": 14,
   "id": "f6842d95",
   "metadata": {
    "execution": {
     "iopub.execute_input": "2023-08-08T14:50:46.713436Z",
     "iopub.status.busy": "2023-08-08T14:50:46.713000Z",
     "iopub.status.idle": "2023-08-08T14:50:46.966404Z",
     "shell.execute_reply": "2023-08-08T14:50:46.965128Z"
    },
    "papermill": {
     "duration": 0.279745,
     "end_time": "2023-08-08T14:50:46.969312",
     "exception": false,
     "start_time": "2023-08-08T14:50:46.689567",
     "status": "completed"
    },
    "tags": []
   },
   "outputs": [
    {
     "data": {
      "text/plain": [
       "<Axes: xlabel='Pclass', ylabel='Survived'>"
      ]
     },
     "execution_count": 14,
     "metadata": {},
     "output_type": "execute_result"
    },
    {
     "data": {
      "image/png": "[encoded data removed]",
      "text/plain": [
       "<Figure size 1000x500 with 1 Axes>"
      ]
     },
     "metadata": {},
     "output_type": "display_data"
    }
   ],
   "source": [
    "prdata=df.groupby('Pclass').agg({'Survived':'count'}).reset_index()\n",
    "fig, (ax1) = plt.subplots(1,1,figsize=(10, 5))\n",
    "sns.barplot(x='Pclass', y='Survived', data = prdata, ax=ax1)"
   ]
  },
  {
   "cell_type": "code",
   "execution_count": 15,
   "id": "3f318c61",
   "metadata": {
    "execution": {
     "iopub.execute_input": "2023-08-08T14:50:47.013452Z",
     "iopub.status.busy": "2023-08-08T14:50:47.013046Z",
     "iopub.status.idle": "2023-08-08T14:50:47.270720Z",
     "shell.execute_reply": "2023-08-08T14:50:47.269431Z"
    },
    "papermill": {
     "duration": 0.282774,
     "end_time": "2023-08-08T14:50:47.273216",
     "exception": false,
     "start_time": "2023-08-08T14:50:46.990442",
     "status": "completed"
    },
    "tags": []
   },
   "outputs": [
    {
     "data": {
      "text/plain": [
       "<Axes: xlabel='Embarked', ylabel='Survived'>"
      ]
     },
     "execution_count": 15,
     "metadata": {},
     "output_type": "execute_result"
    },
    {
     "data": {
      "image/png": "[encoded data removed]",
      "text/plain": [
       "<Figure size 1000x500 with 1 Axes>"
      ]
     },
     "metadata": {},
     "output_type": "display_data"
    }
   ],
   "source": [
    "prdata=df.groupby('Embarked').agg({'Survived':'count'}).reset_index()\n",
    "fig, (ax1) = plt.subplots(1,1,figsize=(10, 5))\n",
    "sns.barplot(x='Embarked', y='Survived', data = prdata, ax=ax1)"
   ]
  },
  {
   "cell_type": "code",
   "execution_count": 16,
   "id": "19ec25c3",
   "metadata": {
    "execution": {
     "iopub.execute_input": "2023-08-08T14:50:47.318230Z",
     "iopub.status.busy": "2023-08-08T14:50:47.317781Z",
     "iopub.status.idle": "2023-08-08T14:50:48.450174Z",
     "shell.execute_reply": "2023-08-08T14:50:48.448877Z"
    },
    "papermill": {
     "duration": 1.158136,
     "end_time": "2023-08-08T14:50:48.452905",
     "exception": false,
     "start_time": "2023-08-08T14:50:47.294769",
     "status": "completed"
    },
    "tags": []
   },
   "outputs": [
    {
     "data": {
      "image/png": "[encoded data removed]",
      "text/plain": [
       "<Figure size 2200x600 with 1 Axes>"
      ]
     },
     "metadata": {},
     "output_type": "display_data"
    }
   ],
   "source": [
    "#checking the whitch age reported more fraud:\n",
    "data=df.groupby('Age').agg({'Survived':'count'}).reset_index()\n",
    "\n",
    "fig, (ax1) = plt.subplots(1,1,figsize=(22, 6))\n",
    "graph =sns.barplot(x='Age', y='Survived', data = data, ax=ax1)\n",
    "\n",
    "graph.set_xticklabels(graph.get_xticklabels(),\n",
    "                    rotation=0,\n",
    "                    horizontalalignment='right'\n",
    "                    );"
   ]
  },
  {
   "cell_type": "code",
   "execution_count": 17,
   "id": "85bf47b3",
   "metadata": {
    "execution": {
     "iopub.execute_input": "2023-08-08T14:50:48.499280Z",
     "iopub.status.busy": "2023-08-08T14:50:48.498837Z",
     "iopub.status.idle": "2023-08-08T14:50:48.895615Z",
     "shell.execute_reply": "2023-08-08T14:50:48.893925Z"
    },
    "papermill": {
     "duration": 0.424683,
     "end_time": "2023-08-08T14:50:48.899867",
     "exception": false,
     "start_time": "2023-08-08T14:50:48.475184",
     "status": "completed"
    },
    "tags": []
   },
   "outputs": [
    {
     "data": {
      "text/plain": [
       "<Axes: ylabel='Survived'>"
      ]
     },
     "execution_count": 17,
     "metadata": {},
     "output_type": "execute_result"
    },
    {
     "data": {
      "image/png": "[encoded data removed]",
      "text/plain": [
       "<Figure size 640x480 with 1 Axes>"
      ]
     },
     "metadata": {},
     "output_type": "display_data"
    }
   ],
   "source": [
    "df.groupby(['Pclass']).count().plot(kind='pie', y='Survived', autopct='%1.0f%%')"
   ]
  },
  {
   "cell_type": "code",
   "execution_count": 18,
   "id": "a210bd19",
   "metadata": {
    "execution": {
     "iopub.execute_input": "2023-08-08T14:50:48.964526Z",
     "iopub.status.busy": "2023-08-08T14:50:48.963714Z",
     "iopub.status.idle": "2023-08-08T14:50:48.972000Z",
     "shell.execute_reply": "2023-08-08T14:50:48.971155Z"
    },
    "papermill": {
     "duration": 0.034083,
     "end_time": "2023-08-08T14:50:48.974052",
     "exception": false,
     "start_time": "2023-08-08T14:50:48.939969",
     "status": "completed"
    },
    "tags": []
   },
   "outputs": [
    {
     "data": {
      "text/plain": [
       "0    266\n",
       "1    152\n",
       "Name: Survived, dtype: int64"
      ]
     },
     "execution_count": 18,
     "metadata": {},
     "output_type": "execute_result"
    }
   ],
   "source": [
    "df['Survived'].value_counts()"
   ]
  },
  {
   "cell_type": "code",
   "execution_count": 19,
   "id": "22267188",
   "metadata": {
    "execution": {
     "iopub.execute_input": "2023-08-08T14:50:49.021410Z",
     "iopub.status.busy": "2023-08-08T14:50:49.020666Z",
     "iopub.status.idle": "2023-08-08T14:50:49.047886Z",
     "shell.execute_reply": "2023-08-08T14:50:49.046529Z"
    },
    "papermill": {
     "duration": 0.054504,
     "end_time": "2023-08-08T14:50:49.051249",
     "exception": false,
     "start_time": "2023-08-08T14:50:48.996745",
     "status": "completed"
    },
    "tags": []
   },
   "outputs": [],
   "source": [
    "# Importing the required libraries to perform pre-processing in train data and splitting into train-test split:\n",
    "from sklearn import preprocessing\n",
    "from sklearn.impute import SimpleImputer\n",
    "\n",
    "from sklearn.compose import ColumnTransformer\n",
    "\n",
    "from sklearn.preprocessing import StandardScaler\n",
    "from sklearn.preprocessing import OneHotEncoder\n",
    "from sklearn.model_selection import train_test_split\n",
    "from sklearn.pipeline import Pipeline\n",
    "from sklearn.model_selection import GridSearchCV, cross_val_score, StratifiedKFold"
   ]
  },
  {
   "cell_type": "code",
   "execution_count": 20,
   "id": "8d9665bb",
   "metadata": {
    "execution": {
     "iopub.execute_input": "2023-08-08T14:50:49.098701Z",
     "iopub.status.busy": "2023-08-08T14:50:49.098242Z",
     "iopub.status.idle": "2023-08-08T14:50:49.114112Z",
     "shell.execute_reply": "2023-08-08T14:50:49.112495Z"
    },
    "papermill": {
     "duration": 0.042153,
     "end_time": "2023-08-08T14:50:49.116530",
     "exception": false,
     "start_time": "2023-08-08T14:50:49.074377",
     "status": "completed"
    },
    "tags": []
   },
   "outputs": [
    {
     "name": "stdout",
     "output_type": "stream",
     "text": [
      "<class 'pandas.core.frame.DataFrame'>\n",
      "RangeIndex: 418 entries, 0 to 417\n",
      "Data columns (total 12 columns):\n",
      " #   Column       Non-Null Count  Dtype  \n",
      "---  ------       --------------  -----  \n",
      " 0   PassengerId  418 non-null    int64  \n",
      " 1   Survived     418 non-null    int64  \n",
      " 2   Pclass       418 non-null    int64  \n",
      " 3   Name         418 non-null    object \n",
      " 4   Sex          418 non-null    object \n",
      " 5   Age          418 non-null    float64\n",
      " 6   SibSp        418 non-null    int64  \n",
      " 7   Parch        418 non-null    int64  \n",
      " 8   Ticket       418 non-null    object \n",
      " 9   Fare         418 non-null    float64\n",
      " 10  Cabin        91 non-null     object \n",
      " 11  Embarked     418 non-null    object \n",
      "dtypes: float64(2), int64(5), object(5)\n",
      "memory usage: 39.3+ KB\n"
     ]
    }
   ],
   "source": [
    "df.info()"
   ]
  },
  {
   "cell_type": "code",
   "execution_count": 21,
   "id": "33a1ec77",
   "metadata": {
    "execution": {
     "iopub.execute_input": "2023-08-08T14:50:49.164350Z",
     "iopub.status.busy": "2023-08-08T14:50:49.163582Z",
     "iopub.status.idle": "2023-08-08T14:50:49.169583Z",
     "shell.execute_reply": "2023-08-08T14:50:49.168533Z"
    },
    "papermill": {
     "duration": 0.032635,
     "end_time": "2023-08-08T14:50:49.172079",
     "exception": false,
     "start_time": "2023-08-08T14:50:49.139444",
     "status": "completed"
    },
    "tags": []
   },
   "outputs": [],
   "source": [
    "df.drop([\"PassengerId\",\"Name\",\"Cabin\",\"Ticket\"], axis = 1, inplace=True)"
   ]
  },
  {
   "cell_type": "code",
   "execution_count": 22,
   "id": "00f4f22c",
   "metadata": {
    "execution": {
     "iopub.execute_input": "2023-08-08T14:50:49.219266Z",
     "iopub.status.busy": "2023-08-08T14:50:49.218797Z",
     "iopub.status.idle": "2023-08-08T14:50:49.234032Z",
     "shell.execute_reply": "2023-08-08T14:50:49.232876Z"
    },
    "papermill": {
     "duration": 0.041622,
     "end_time": "2023-08-08T14:50:49.236536",
     "exception": false,
     "start_time": "2023-08-08T14:50:49.194914",
     "status": "completed"
    },
    "tags": []
   },
   "outputs": [
    {
     "data": {
      "text/html": [
       "<div>\n",
       "<style scoped>\n",
       "    .dataframe tbody tr th:only-of-type {\n",
       "        vertical-align: middle;\n",
       "    }\n",
       "\n",
       "    .dataframe tbody tr th {\n",
       "        vertical-align: top;\n",
       "    }\n",
       "\n",
       "    .dataframe thead th {\n",
       "        text-align: right;\n",
       "    }\n",
       "</style>\n",
       "<table border=\"1\" class=\"dataframe\">\n",
       "  <thead>\n",
       "    <tr style=\"text-align: right;\">\n",
       "      <th></th>\n",
       "      <th>Survived</th>\n",
       "      <th>Pclass</th>\n",
       "      <th>Sex</th>\n",
       "      <th>Age</th>\n",
       "      <th>SibSp</th>\n",
       "      <th>Parch</th>\n",
       "      <th>Fare</th>\n",
       "      <th>Embarked</th>\n",
       "    </tr>\n",
       "  </thead>\n",
       "  <tbody>\n",
       "    <tr>\n",
       "      <th>0</th>\n",
       "      <td>0</td>\n",
       "      <td>3</td>\n",
       "      <td>male</td>\n",
       "      <td>34.5</td>\n",
       "      <td>0</td>\n",
       "      <td>0</td>\n",
       "      <td>7.8292</td>\n",
       "      <td>Q</td>\n",
       "    </tr>\n",
       "    <tr>\n",
       "      <th>1</th>\n",
       "      <td>1</td>\n",
       "      <td>3</td>\n",
       "      <td>female</td>\n",
       "      <td>47.0</td>\n",
       "      <td>1</td>\n",
       "      <td>0</td>\n",
       "      <td>7.0000</td>\n",
       "      <td>S</td>\n",
       "    </tr>\n",
       "    <tr>\n",
       "      <th>2</th>\n",
       "      <td>0</td>\n",
       "      <td>2</td>\n",
       "      <td>male</td>\n",
       "      <td>62.0</td>\n",
       "      <td>0</td>\n",
       "      <td>0</td>\n",
       "      <td>9.6875</td>\n",
       "      <td>Q</td>\n",
       "    </tr>\n",
       "    <tr>\n",
       "      <th>3</th>\n",
       "      <td>0</td>\n",
       "      <td>3</td>\n",
       "      <td>male</td>\n",
       "      <td>27.0</td>\n",
       "      <td>0</td>\n",
       "      <td>0</td>\n",
       "      <td>8.6625</td>\n",
       "      <td>S</td>\n",
       "    </tr>\n",
       "  </tbody>\n",
       "</table>\n",
       "</div>"
      ],
      "text/plain": [
       "   Survived  Pclass     Sex   Age  SibSp  Parch    Fare Embarked\n",
       "0         0       3    male  34.5      0      0  7.8292        Q\n",
       "1         1       3  female  47.0      1      0  7.0000        S\n",
       "2         0       2    male  62.0      0      0  9.6875        Q\n",
       "3         0       3    male  27.0      0      0  8.6625        S"
      ]
     },
     "execution_count": 22,
     "metadata": {},
     "output_type": "execute_result"
    }
   ],
   "source": [
    "df.head(4)"
   ]
  },
  {
   "cell_type": "code",
   "execution_count": 23,
   "id": "669f6e29",
   "metadata": {
    "execution": {
     "iopub.execute_input": "2023-08-08T14:50:49.285367Z",
     "iopub.status.busy": "2023-08-08T14:50:49.284564Z",
     "iopub.status.idle": "2023-08-08T14:50:49.291051Z",
     "shell.execute_reply": "2023-08-08T14:50:49.290201Z"
    },
    "papermill": {
     "duration": 0.033334,
     "end_time": "2023-08-08T14:50:49.293479",
     "exception": false,
     "start_time": "2023-08-08T14:50:49.260145",
     "status": "completed"
    },
    "tags": []
   },
   "outputs": [],
   "source": [
    "# Dropping the target variable from train data and storing the rest of the attributes in \"X\" and target attribute in \"y\":\n",
    "X = df.drop([\"Survived\"], axis = 1)\n",
    "y = df[\"Survived\"]"
   ]
  },
  {
   "cell_type": "code",
   "execution_count": 24,
   "id": "0ee32ff2",
   "metadata": {
    "execution": {
     "iopub.execute_input": "2023-08-08T14:50:49.341739Z",
     "iopub.status.busy": "2023-08-08T14:50:49.340922Z",
     "iopub.status.idle": "2023-08-08T14:50:49.347346Z",
     "shell.execute_reply": "2023-08-08T14:50:49.346063Z"
    },
    "papermill": {
     "duration": 0.033128,
     "end_time": "2023-08-08T14:50:49.349697",
     "exception": false,
     "start_time": "2023-08-08T14:50:49.316569",
     "status": "completed"
    },
    "tags": []
   },
   "outputs": [
    {
     "name": "stdout",
     "output_type": "stream",
     "text": [
      "(418, 7) (418,)\n"
     ]
    }
   ],
   "source": [
    "# printing the shapes of X and y: \n",
    "print(X.shape, y.shape)"
   ]
  },
  {
   "cell_type": "code",
   "execution_count": 25,
   "id": "c6770aae",
   "metadata": {
    "execution": {
     "iopub.execute_input": "2023-08-08T14:50:49.397624Z",
     "iopub.status.busy": "2023-08-08T14:50:49.397241Z",
     "iopub.status.idle": "2023-08-08T14:50:49.405545Z",
     "shell.execute_reply": "2023-08-08T14:50:49.404479Z"
    },
    "papermill": {
     "duration": 0.035448,
     "end_time": "2023-08-08T14:50:49.408086",
     "exception": false,
     "start_time": "2023-08-08T14:50:49.372638",
     "status": "completed"
    },
    "tags": []
   },
   "outputs": [],
   "source": [
    "X_train, X_test, y_train, y_test = train_test_split(X, y, test_size = 0.2, random_state = 123,stratify=y)"
   ]
  },
  {
   "cell_type": "code",
   "execution_count": 26,
   "id": "3e711d82",
   "metadata": {
    "execution": {
     "iopub.execute_input": "2023-08-08T14:50:49.458885Z",
     "iopub.status.busy": "2023-08-08T14:50:49.458477Z",
     "iopub.status.idle": "2023-08-08T14:50:49.463991Z",
     "shell.execute_reply": "2023-08-08T14:50:49.463083Z"
    },
    "papermill": {
     "duration": 0.032798,
     "end_time": "2023-08-08T14:50:49.466710",
     "exception": false,
     "start_time": "2023-08-08T14:50:49.433912",
     "status": "completed"
    },
    "tags": []
   },
   "outputs": [
    {
     "name": "stdout",
     "output_type": "stream",
     "text": [
      "(334, 7)\n",
      "(84, 7)\n",
      "(334,)\n",
      "(84,)\n"
     ]
    }
   ],
   "source": [
    "#checking shape of train and test data:\n",
    "print(X_train.shape)\n",
    "print(X_test.shape)\n",
    "print(y_train.shape)\n",
    "print(y_test.shape)"
   ]
  },
  {
   "cell_type": "code",
   "execution_count": 27,
   "id": "f8dfc2a5",
   "metadata": {
    "execution": {
     "iopub.execute_input": "2023-08-08T14:50:49.516735Z",
     "iopub.status.busy": "2023-08-08T14:50:49.515277Z",
     "iopub.status.idle": "2023-08-08T14:50:49.525603Z",
     "shell.execute_reply": "2023-08-08T14:50:49.524525Z"
    },
    "papermill": {
     "duration": 0.038237,
     "end_time": "2023-08-08T14:50:49.528189",
     "exception": false,
     "start_time": "2023-08-08T14:50:49.489952",
     "status": "completed"
    },
    "tags": []
   },
   "outputs": [
    {
     "data": {
      "text/plain": [
       "Survived      2\n",
       "Pclass        3\n",
       "Sex           2\n",
       "Age          79\n",
       "SibSp         7\n",
       "Parch         8\n",
       "Fare        169\n",
       "Embarked      3\n",
       "dtype: int64"
      ]
     },
     "execution_count": 27,
     "metadata": {},
     "output_type": "execute_result"
    }
   ],
   "source": [
    "df.nunique()"
   ]
  },
  {
   "cell_type": "code",
   "execution_count": 28,
   "id": "073b89b9",
   "metadata": {
    "execution": {
     "iopub.execute_input": "2023-08-08T14:50:49.577490Z",
     "iopub.status.busy": "2023-08-08T14:50:49.576798Z",
     "iopub.status.idle": "2023-08-08T14:50:49.588806Z",
     "shell.execute_reply": "2023-08-08T14:50:49.587680Z"
    },
    "papermill": {
     "duration": 0.039609,
     "end_time": "2023-08-08T14:50:49.591422",
     "exception": false,
     "start_time": "2023-08-08T14:50:49.551813",
     "status": "completed"
    },
    "tags": []
   },
   "outputs": [],
   "source": [
    "df[\"Pclass\"] = df[\"Pclass\"].astype('category')\n",
    "df[\"Sex\"] = df[\"Sex\"].astype('category')\n",
    "df[\"Embarked\"] = df[\"Embarked\"].astype('category')\n",
    "df[\"Survived\"] = df[\"Survived\"].astype('category')\n",
    "X_train[\"Pclass\"] = X_train[\"Pclass\"].astype('category')"
   ]
  },
  {
   "cell_type": "code",
   "execution_count": 29,
   "id": "ad642520",
   "metadata": {
    "execution": {
     "iopub.execute_input": "2023-08-08T14:50:49.640218Z",
     "iopub.status.busy": "2023-08-08T14:50:49.639804Z",
     "iopub.status.idle": "2023-08-08T14:50:49.648352Z",
     "shell.execute_reply": "2023-08-08T14:50:49.647177Z"
    },
    "papermill": {
     "duration": 0.036162,
     "end_time": "2023-08-08T14:50:49.650810",
     "exception": false,
     "start_time": "2023-08-08T14:50:49.614648",
     "status": "completed"
    },
    "tags": []
   },
   "outputs": [
    {
     "data": {
      "text/plain": [
       "Pclass      category\n",
       "Sex           object\n",
       "Age          float64\n",
       "SibSp          int64\n",
       "Parch          int64\n",
       "Fare         float64\n",
       "Embarked      object\n",
       "dtype: object"
      ]
     },
     "execution_count": 29,
     "metadata": {},
     "output_type": "execute_result"
    }
   ],
   "source": [
    "X_train.dtypes"
   ]
  },
  {
   "cell_type": "code",
   "execution_count": 30,
   "id": "89ae59dc",
   "metadata": {
    "execution": {
     "iopub.execute_input": "2023-08-08T14:50:49.700353Z",
     "iopub.status.busy": "2023-08-08T14:50:49.699892Z",
     "iopub.status.idle": "2023-08-08T14:50:49.710246Z",
     "shell.execute_reply": "2023-08-08T14:50:49.709004Z"
    },
    "papermill": {
     "duration": 0.037892,
     "end_time": "2023-08-08T14:50:49.712673",
     "exception": false,
     "start_time": "2023-08-08T14:50:49.674781",
     "status": "completed"
    },
    "tags": []
   },
   "outputs": [
    {
     "data": {
      "text/plain": [
       "Pclass      0\n",
       "Sex         0\n",
       "Age         0\n",
       "SibSp       0\n",
       "Parch       0\n",
       "Fare        0\n",
       "Embarked    0\n",
       "dtype: int64"
      ]
     },
     "execution_count": 30,
     "metadata": {},
     "output_type": "execute_result"
    }
   ],
   "source": [
    "X_test.isnull().sum()"
   ]
  },
  {
   "cell_type": "code",
   "execution_count": null,
   "id": "a4d18f3f",
   "metadata": {
    "papermill": {
     "duration": 0.024292,
     "end_time": "2023-08-08T14:50:49.760591",
     "exception": false,
     "start_time": "2023-08-08T14:50:49.736299",
     "status": "completed"
    },
    "tags": []
   },
   "outputs": [],
   "source": []
  },
  {
   "cell_type": "code",
   "execution_count": 31,
   "id": "a6e2f816",
   "metadata": {
    "execution": {
     "iopub.execute_input": "2023-08-08T14:50:49.809902Z",
     "iopub.status.busy": "2023-08-08T14:50:49.809485Z",
     "iopub.status.idle": "2023-08-08T14:50:49.818438Z",
     "shell.execute_reply": "2023-08-08T14:50:49.817229Z"
    },
    "papermill": {
     "duration": 0.036174,
     "end_time": "2023-08-08T14:50:49.820560",
     "exception": false,
     "start_time": "2023-08-08T14:50:49.784386",
     "status": "completed"
    },
    "tags": []
   },
   "outputs": [
    {
     "data": {
      "text/plain": [
       "Index(['Age', 'SibSp', 'Parch', 'Fare'], dtype='object')"
      ]
     },
     "execution_count": 31,
     "metadata": {},
     "output_type": "execute_result"
    }
   ],
   "source": [
    "#defining numerical columns in data:\n",
    "numeric_columns=df.select_dtypes(['float64','int64']).columns\n",
    "numeric_columns"
   ]
  },
  {
   "cell_type": "code",
   "execution_count": 32,
   "id": "f4f5456c",
   "metadata": {
    "execution": {
     "iopub.execute_input": "2023-08-08T14:50:49.869746Z",
     "iopub.status.busy": "2023-08-08T14:50:49.869326Z",
     "iopub.status.idle": "2023-08-08T14:50:49.877677Z",
     "shell.execute_reply": "2023-08-08T14:50:49.876612Z"
    },
    "papermill": {
     "duration": 0.035617,
     "end_time": "2023-08-08T14:50:49.879908",
     "exception": false,
     "start_time": "2023-08-08T14:50:49.844291",
     "status": "completed"
    },
    "tags": []
   },
   "outputs": [
    {
     "data": {
      "text/plain": [
       "Index(['Pclass', 'Sex', 'Embarked'], dtype='object')"
      ]
     },
     "execution_count": 32,
     "metadata": {},
     "output_type": "execute_result"
    }
   ],
   "source": [
    "#defining categorical columns in data:\n",
    "cat_columns=X_train.select_dtypes(['object','category']).columns\n",
    "cat_columns"
   ]
  },
  {
   "cell_type": "code",
   "execution_count": 33,
   "id": "b7c27f38",
   "metadata": {
    "execution": {
     "iopub.execute_input": "2023-08-08T14:50:49.929531Z",
     "iopub.status.busy": "2023-08-08T14:50:49.929127Z",
     "iopub.status.idle": "2023-08-08T14:50:49.933679Z",
     "shell.execute_reply": "2023-08-08T14:50:49.932521Z"
    },
    "papermill": {
     "duration": 0.032387,
     "end_time": "2023-08-08T14:50:49.936041",
     "exception": false,
     "start_time": "2023-08-08T14:50:49.903654",
     "status": "completed"
    },
    "tags": []
   },
   "outputs": [],
   "source": [
    "# Importing the required preprocessing libraries:\n",
    "from sklearn.preprocessing import StandardScaler, OneHotEncoder, LabelEncoder"
   ]
  },
  {
   "cell_type": "code",
   "execution_count": 34,
   "id": "10df0db6",
   "metadata": {
    "execution": {
     "iopub.execute_input": "2023-08-08T14:50:49.986687Z",
     "iopub.status.busy": "2023-08-08T14:50:49.986076Z",
     "iopub.status.idle": "2023-08-08T14:50:50.005191Z",
     "shell.execute_reply": "2023-08-08T14:50:50.004242Z"
    },
    "papermill": {
     "duration": 0.04773,
     "end_time": "2023-08-08T14:50:50.007809",
     "exception": false,
     "start_time": "2023-08-08T14:50:49.960079",
     "status": "completed"
    },
    "tags": []
   },
   "outputs": [],
   "source": [
    "#standardscaler for numerical columns\n",
    "scaler = StandardScaler()\n",
    "scaler.fit(X_train[numeric_columns])\n",
    "\n",
    "X_train_num = pd.DataFrame(scaler.transform(X_train[numeric_columns]), columns=numeric_columns)\n",
    "X_test_num = pd.DataFrame(scaler.transform(X_test[numeric_columns]), columns=numeric_columns)"
   ]
  },
  {
   "cell_type": "code",
   "execution_count": 35,
   "id": "4911d4de",
   "metadata": {
    "execution": {
     "iopub.execute_input": "2023-08-08T14:50:50.058186Z",
     "iopub.status.busy": "2023-08-08T14:50:50.057400Z",
     "iopub.status.idle": "2023-08-08T14:50:50.066047Z",
     "shell.execute_reply": "2023-08-08T14:50:50.065136Z"
    },
    "papermill": {
     "duration": 0.036493,
     "end_time": "2023-08-08T14:50:50.068481",
     "exception": false,
     "start_time": "2023-08-08T14:50:50.031988",
     "status": "completed"
    },
    "tags": []
   },
   "outputs": [],
   "source": [
    "#ohe = OneHotEncoder()\n",
    "ohe = OneHotEncoder(handle_unknown='ignore', drop = \"first\")\n",
    "ohe.fit(X_train[cat_columns])\n",
    "\n",
    "columns_ohe = list(ohe.get_feature_names_out(cat_columns))"
   ]
  },
  {
   "cell_type": "code",
   "execution_count": 36,
   "id": "cb8b79f2",
   "metadata": {
    "execution": {
     "iopub.execute_input": "2023-08-08T14:50:50.118303Z",
     "iopub.status.busy": "2023-08-08T14:50:50.117856Z",
     "iopub.status.idle": "2023-08-08T14:50:50.128636Z",
     "shell.execute_reply": "2023-08-08T14:50:50.127314Z"
    },
    "papermill": {
     "duration": 0.038855,
     "end_time": "2023-08-08T14:50:50.131407",
     "exception": false,
     "start_time": "2023-08-08T14:50:50.092552",
     "status": "completed"
    },
    "tags": []
   },
   "outputs": [],
   "source": [
    "X_train_cat = ohe.transform(X_train[cat_columns])\n",
    "X_test_cat  = ohe.transform(X_test[cat_columns])"
   ]
  },
  {
   "cell_type": "code",
   "execution_count": 37,
   "id": "d606bed9",
   "metadata": {
    "execution": {
     "iopub.execute_input": "2023-08-08T14:50:50.181286Z",
     "iopub.status.busy": "2023-08-08T14:50:50.180852Z",
     "iopub.status.idle": "2023-08-08T14:50:50.190516Z",
     "shell.execute_reply": "2023-08-08T14:50:50.189431Z"
    },
    "papermill": {
     "duration": 0.037693,
     "end_time": "2023-08-08T14:50:50.193031",
     "exception": false,
     "start_time": "2023-08-08T14:50:50.155338",
     "status": "completed"
    },
    "tags": []
   },
   "outputs": [],
   "source": [
    "X_train_cat = pd.DataFrame(X_train_cat.todense(), columns=columns_ohe)\n",
    "X_test_cat  = pd.DataFrame(X_test_cat.todense(), columns=columns_ohe)"
   ]
  },
  {
   "cell_type": "code",
   "execution_count": 38,
   "id": "03022176",
   "metadata": {
    "execution": {
     "iopub.execute_input": "2023-08-08T14:50:50.243251Z",
     "iopub.status.busy": "2023-08-08T14:50:50.242476Z",
     "iopub.status.idle": "2023-08-08T14:50:50.249675Z",
     "shell.execute_reply": "2023-08-08T14:50:50.248533Z"
    },
    "papermill": {
     "duration": 0.035112,
     "end_time": "2023-08-08T14:50:50.252129",
     "exception": false,
     "start_time": "2023-08-08T14:50:50.217017",
     "status": "completed"
    },
    "tags": []
   },
   "outputs": [],
   "source": [
    "X_train = pd.concat([X_train_num, X_train_cat], axis=1)\n",
    "X_test = pd.concat([X_test_num, X_test_cat], axis=1)"
   ]
  },
  {
   "cell_type": "code",
   "execution_count": 39,
   "id": "6cfe5998",
   "metadata": {
    "execution": {
     "iopub.execute_input": "2023-08-08T14:50:50.301988Z",
     "iopub.status.busy": "2023-08-08T14:50:50.301605Z",
     "iopub.status.idle": "2023-08-08T14:50:50.306543Z",
     "shell.execute_reply": "2023-08-08T14:50:50.305244Z"
    },
    "papermill": {
     "duration": 0.032919,
     "end_time": "2023-08-08T14:50:50.308892",
     "exception": false,
     "start_time": "2023-08-08T14:50:50.275973",
     "status": "completed"
    },
    "tags": []
   },
   "outputs": [],
   "source": [
    "from sklearn.linear_model import LogisticRegression"
   ]
  },
  {
   "cell_type": "code",
   "execution_count": 40,
   "id": "7000f45e",
   "metadata": {
    "execution": {
     "iopub.execute_input": "2023-08-08T14:50:50.360911Z",
     "iopub.status.busy": "2023-08-08T14:50:50.360524Z",
     "iopub.status.idle": "2023-08-08T14:50:50.365806Z",
     "shell.execute_reply": "2023-08-08T14:50:50.364595Z"
    },
    "papermill": {
     "duration": 0.034975,
     "end_time": "2023-08-08T14:50:50.368014",
     "exception": false,
     "start_time": "2023-08-08T14:50:50.333039",
     "status": "completed"
    },
    "tags": []
   },
   "outputs": [],
   "source": [
    "logistic_model = LogisticRegression(solver='liblinear',random_state=1230)"
   ]
  },
  {
   "cell_type": "code",
   "execution_count": 41,
   "id": "731ddbd9",
   "metadata": {
    "execution": {
     "iopub.execute_input": "2023-08-08T14:50:50.418352Z",
     "iopub.status.busy": "2023-08-08T14:50:50.417887Z",
     "iopub.status.idle": "2023-08-08T14:50:50.432031Z",
     "shell.execute_reply": "2023-08-08T14:50:50.430486Z"
    },
    "papermill": {
     "duration": 0.043399,
     "end_time": "2023-08-08T14:50:50.435389",
     "exception": false,
     "start_time": "2023-08-08T14:50:50.391990",
     "status": "completed"
    },
    "tags": []
   },
   "outputs": [],
   "source": [
    "Model=logistic_model.fit(X_train,y_train)"
   ]
  },
  {
   "cell_type": "code",
   "execution_count": 42,
   "id": "1a0633ae",
   "metadata": {
    "execution": {
     "iopub.execute_input": "2023-08-08T14:50:50.487422Z",
     "iopub.status.busy": "2023-08-08T14:50:50.486958Z",
     "iopub.status.idle": "2023-08-08T14:50:50.501648Z",
     "shell.execute_reply": "2023-08-08T14:50:50.499939Z"
    },
    "papermill": {
     "duration": 0.043715,
     "end_time": "2023-08-08T14:50:50.504228",
     "exception": false,
     "start_time": "2023-08-08T14:50:50.460513",
     "status": "completed"
    },
    "tags": []
   },
   "outputs": [],
   "source": [
    "y_train_Pred = logistic_model.predict(X_train)\n",
    "y_test_Pred = logistic_model.predict(X_test)"
   ]
  },
  {
   "cell_type": "code",
   "execution_count": 43,
   "id": "79590baa",
   "metadata": {
    "execution": {
     "iopub.execute_input": "2023-08-08T14:50:50.565608Z",
     "iopub.status.busy": "2023-08-08T14:50:50.565212Z",
     "iopub.status.idle": "2023-08-08T14:50:50.572939Z",
     "shell.execute_reply": "2023-08-08T14:50:50.571880Z"
    },
    "papermill": {
     "duration": 0.044642,
     "end_time": "2023-08-08T14:50:50.576059",
     "exception": false,
     "start_time": "2023-08-08T14:50:50.531417",
     "status": "completed"
    },
    "tags": []
   },
   "outputs": [],
   "source": [
    "y_pred = logistic_model.predict(X_test)"
   ]
  },
  {
   "cell_type": "code",
   "execution_count": 44,
   "id": "ef31d813",
   "metadata": {
    "execution": {
     "iopub.execute_input": "2023-08-08T14:50:50.630541Z",
     "iopub.status.busy": "2023-08-08T14:50:50.630122Z",
     "iopub.status.idle": "2023-08-08T14:50:50.640402Z",
     "shell.execute_reply": "2023-08-08T14:50:50.639217Z"
    },
    "papermill": {
     "duration": 0.038343,
     "end_time": "2023-08-08T14:50:50.642701",
     "exception": false,
     "start_time": "2023-08-08T14:50:50.604358",
     "status": "completed"
    },
    "tags": []
   },
   "outputs": [
    {
     "name": "stdout",
     "output_type": "stream",
     "text": [
      "[[53  0]\n",
      " [ 0 31]]\n"
     ]
    }
   ],
   "source": [
    "from sklearn.metrics import confusion_matrix, accuracy_score\n",
    "cmr = confusion_matrix(y_test, y_pred)\n",
    "print(cmr)"
   ]
  },
  {
   "cell_type": "code",
   "execution_count": 45,
   "id": "b77af83e",
   "metadata": {
    "execution": {
     "iopub.execute_input": "2023-08-08T14:50:50.692807Z",
     "iopub.status.busy": "2023-08-08T14:50:50.692403Z",
     "iopub.status.idle": "2023-08-08T14:50:50.700949Z",
     "shell.execute_reply": "2023-08-08T14:50:50.699829Z"
    },
    "papermill": {
     "duration": 0.036204,
     "end_time": "2023-08-08T14:50:50.703048",
     "exception": false,
     "start_time": "2023-08-08T14:50:50.666844",
     "status": "completed"
    },
    "tags": []
   },
   "outputs": [
    {
     "data": {
      "text/plain": [
       "1.0"
      ]
     },
     "execution_count": 45,
     "metadata": {},
     "output_type": "execute_result"
    }
   ],
   "source": [
    "logistic_m=accuracy_score(y_test,y_pred)\n",
    "logistic_m"
   ]
  },
  {
   "cell_type": "code",
   "execution_count": 46,
   "id": "56e60219",
   "metadata": {
    "execution": {
     "iopub.execute_input": "2023-08-08T14:50:50.753626Z",
     "iopub.status.busy": "2023-08-08T14:50:50.752934Z",
     "iopub.status.idle": "2023-08-08T14:50:50.765312Z",
     "shell.execute_reply": "2023-08-08T14:50:50.763930Z"
    },
    "papermill": {
     "duration": 0.0403,
     "end_time": "2023-08-08T14:50:50.767750",
     "exception": false,
     "start_time": "2023-08-08T14:50:50.727450",
     "status": "completed"
    },
    "tags": []
   },
   "outputs": [
    {
     "name": "stdout",
     "output_type": "stream",
     "text": [
      "Training score:  1.0\n",
      "Testing score:  1.0\n"
     ]
    }
   ],
   "source": [
    "print('Training score: ', round(logistic_model.score(X_train, y_train),3))\n",
    "print('Testing score: ', round(logistic_model.score(X_test, y_test),3))"
   ]
  },
  {
   "cell_type": "code",
   "execution_count": 47,
   "id": "e6520567",
   "metadata": {
    "execution": {
     "iopub.execute_input": "2023-08-08T14:50:50.818339Z",
     "iopub.status.busy": "2023-08-08T14:50:50.817349Z",
     "iopub.status.idle": "2023-08-08T14:50:50.871727Z",
     "shell.execute_reply": "2023-08-08T14:50:50.870502Z"
    },
    "papermill": {
     "duration": 0.082756,
     "end_time": "2023-08-08T14:50:50.874581",
     "exception": false,
     "start_time": "2023-08-08T14:50:50.791825",
     "status": "completed"
    },
    "tags": []
   },
   "outputs": [],
   "source": [
    "from sklearn.tree import DecisionTreeClassifier\n",
    "\n",
    "dt = DecisionTreeClassifier(criterion= 'entropy', max_depth=10)"
   ]
  },
  {
   "cell_type": "code",
   "execution_count": 48,
   "id": "32a10d75",
   "metadata": {
    "execution": {
     "iopub.execute_input": "2023-08-08T14:50:50.927262Z",
     "iopub.status.busy": "2023-08-08T14:50:50.926820Z",
     "iopub.status.idle": "2023-08-08T14:50:50.944914Z",
     "shell.execute_reply": "2023-08-08T14:50:50.944021Z"
    },
    "papermill": {
     "duration": 0.047245,
     "end_time": "2023-08-08T14:50:50.947177",
     "exception": false,
     "start_time": "2023-08-08T14:50:50.899932",
     "status": "completed"
    },
    "tags": []
   },
   "outputs": [
    {
     "data": {
      "text/html": [
       "<style>#sk-container-id-1 {color: black;background-color: white;}#sk-container-id-1 pre{padding: 0;}#sk-container-id-1 div.sk-toggleable {background-color: white;}#sk-container-id-1 label.sk-toggleable__label {cursor: pointer;display: block;width: 100%;margin-bottom: 0;padding: 0.3em;box-sizing: border-box;text-align: center;}#sk-container-id-1 label.sk-toggleable__label-arrow:before {content: \"▸\";float: left;margin-right: 0.25em;color: #696969;}#sk-container-id-1 label.sk-toggleable__label-arrow:hover:before {color: black;}#sk-container-id-1 div.sk-estimator:hover label.sk-toggleable__label-arrow:before {color: black;}#sk-container-id-1 div.sk-toggleable__content {max-height: 0;max-width: 0;overflow: hidden;text-align: left;background-color: #f0f8ff;}#sk-container-id-1 div.sk-toggleable__content pre {margin: 0.2em;color: black;border-radius: 0.25em;background-color: #f0f8ff;}#sk-container-id-1 input.sk-toggleable__control:checked~div.sk-toggleable__content {max-height: 200px;max-width: 100%;overflow: auto;}#sk-container-id-1 input.sk-toggleable__control:checked~label.sk-toggleable__label-arrow:before {content: \"▾\";}#sk-container-id-1 div.sk-estimator input.sk-toggleable__control:checked~label.sk-toggleable__label {background-color: #d4ebff;}#sk-container-id-1 div.sk-label input.sk-toggleable__control:checked~label.sk-toggleable__label {background-color: #d4ebff;}#sk-container-id-1 input.sk-hidden--visually {border: 0;clip: rect(1px 1px 1px 1px);clip: rect(1px, 1px, 1px, 1px);height: 1px;margin: -1px;overflow: hidden;padding: 0;position: absolute;width: 1px;}#sk-container-id-1 div.sk-estimator {font-family: monospace;background-color: #f0f8ff;border: 1px dotted black;border-radius: 0.25em;box-sizing: border-box;margin-bottom: 0.5em;}#sk-container-id-1 div.sk-estimator:hover {background-color: #d4ebff;}#sk-container-id-1 div.sk-parallel-item::after {content: \"\";width: 100%;border-bottom: 1px solid gray;flex-grow: 1;}#sk-container-id-1 div.sk-label:hover label.sk-toggleable__label {background-color: #d4ebff;}#sk-container-id-1 div.sk-serial::before {content: \"\";position: absolute;border-left: 1px solid gray;box-sizing: border-box;top: 0;bottom: 0;left: 50%;z-index: 0;}#sk-container-id-1 div.sk-serial {display: flex;flex-direction: column;align-items: center;background-color: white;padding-right: 0.2em;padding-left: 0.2em;position: relative;}#sk-container-id-1 div.sk-item {position: relative;z-index: 1;}#sk-container-id-1 div.sk-parallel {display: flex;align-items: stretch;justify-content: center;background-color: white;position: relative;}#sk-container-id-1 div.sk-item::before, #sk-container-id-1 div.sk-parallel-item::before {content: \"\";position: absolute;border-left: 1px solid gray;box-sizing: border-box;top: 0;bottom: 0;left: 50%;z-index: -1;}#sk-container-id-1 div.sk-parallel-item {display: flex;flex-direction: column;z-index: 1;position: relative;background-color: white;}#sk-container-id-1 div.sk-parallel-item:first-child::after {align-self: flex-end;width: 50%;}#sk-container-id-1 div.sk-parallel-item:last-child::after {align-self: flex-start;width: 50%;}#sk-container-id-1 div.sk-parallel-item:only-child::after {width: 0;}#sk-container-id-1 div.sk-dashed-wrapped {border: 1px dashed gray;margin: 0 0.4em 0.5em 0.4em;box-sizing: border-box;padding-bottom: 0.4em;background-color: white;}#sk-container-id-1 div.sk-label label {font-family: monospace;font-weight: bold;display: inline-block;line-height: 1.2em;}#sk-container-id-1 div.sk-label-container {text-align: center;}#sk-container-id-1 div.sk-container {/* jupyter's `normalize.less` sets `[hidden] { display: none; }` but bootstrap.min.css set `[hidden] { display: none !important; }` so we also need the `!important` here to be able to override the default hidden behavior on the sphinx rendered scikit-learn.org. See: https://github.com/scikit-learn/scikit-learn/issues/21755 */display: inline-block !important;position: relative;}#sk-container-id-1 div.sk-text-repr-fallback {display: none;}</style><div id=\"sk-container-id-1\" class=\"sk-top-container\"><div class=\"sk-text-repr-fallback\"><pre>DecisionTreeClassifier(criterion=&#x27;entropy&#x27;, max_depth=10)</pre><b>In a Jupyter environment, please rerun this cell to show the HTML representation or trust the notebook. <br />On GitHub, the HTML representation is unable to render, please try loading this page with nbviewer.org.</b></div><div class=\"sk-container\" hidden><div class=\"sk-item\"><div class=\"sk-estimator sk-toggleable\"><input class=\"sk-toggleable__control sk-hidden--visually\" id=\"sk-estimator-id-1\" type=\"checkbox\" checked><label for=\"sk-estimator-id-1\" class=\"sk-toggleable__label sk-toggleable__label-arrow\">DecisionTreeClassifier</label><div class=\"sk-toggleable__content\"><pre>DecisionTreeClassifier(criterion=&#x27;entropy&#x27;, max_depth=10)</pre></div></div></div></div></div>"
      ],
      "text/plain": [
       "DecisionTreeClassifier(criterion='entropy', max_depth=10)"
      ]
     },
     "execution_count": 48,
     "metadata": {},
     "output_type": "execute_result"
    }
   ],
   "source": [
    "dt.fit(X_train, y_train)"
   ]
  },
  {
   "cell_type": "code",
   "execution_count": 49,
   "id": "88b69506",
   "metadata": {
    "execution": {
     "iopub.execute_input": "2023-08-08T14:50:50.999163Z",
     "iopub.status.busy": "2023-08-08T14:50:50.998377Z",
     "iopub.status.idle": "2023-08-08T14:50:51.007673Z",
     "shell.execute_reply": "2023-08-08T14:50:51.006441Z"
    },
    "papermill": {
     "duration": 0.038072,
     "end_time": "2023-08-08T14:50:51.010237",
     "exception": false,
     "start_time": "2023-08-08T14:50:50.972165",
     "status": "completed"
    },
    "tags": []
   },
   "outputs": [],
   "source": [
    "y_train_predt = dt.predict(X_train)\n",
    "y_test_predt = dt.predict(X_test)"
   ]
  },
  {
   "cell_type": "code",
   "execution_count": 50,
   "id": "195de8d0",
   "metadata": {
    "execution": {
     "iopub.execute_input": "2023-08-08T14:50:51.062064Z",
     "iopub.status.busy": "2023-08-08T14:50:51.060955Z",
     "iopub.status.idle": "2023-08-08T14:50:51.072854Z",
     "shell.execute_reply": "2023-08-08T14:50:51.071590Z"
    },
    "papermill": {
     "duration": 0.040593,
     "end_time": "2023-08-08T14:50:51.075549",
     "exception": false,
     "start_time": "2023-08-08T14:50:51.034956",
     "status": "completed"
    },
    "tags": []
   },
   "outputs": [
    {
     "name": "stdout",
     "output_type": "stream",
     "text": [
      "Training score:  1.0\n",
      "Testing score:  1.0\n"
     ]
    }
   ],
   "source": [
    "print('Training score: ', round(dt.score(X_train, y_train),3))\n",
    "print('Testing score: ', round(dt.score(X_test, y_test),3))"
   ]
  },
  {
   "cell_type": "code",
   "execution_count": 51,
   "id": "403f2de6",
   "metadata": {
    "execution": {
     "iopub.execute_input": "2023-08-08T14:50:51.127520Z",
     "iopub.status.busy": "2023-08-08T14:50:51.126629Z",
     "iopub.status.idle": "2023-08-08T14:50:51.134606Z",
     "shell.execute_reply": "2023-08-08T14:50:51.133603Z"
    },
    "papermill": {
     "duration": 0.036288,
     "end_time": "2023-08-08T14:50:51.136768",
     "exception": false,
     "start_time": "2023-08-08T14:50:51.100480",
     "status": "completed"
    },
    "tags": []
   },
   "outputs": [
    {
     "data": {
      "text/plain": [
       "1.0"
      ]
     },
     "execution_count": 51,
     "metadata": {},
     "output_type": "execute_result"
    }
   ],
   "source": [
    "accuracy_score(y_test, y_test_predt)"
   ]
  },
  {
   "cell_type": "code",
   "execution_count": 52,
   "id": "82909c24",
   "metadata": {
    "execution": {
     "iopub.execute_input": "2023-08-08T14:50:51.189160Z",
     "iopub.status.busy": "2023-08-08T14:50:51.188400Z",
     "iopub.status.idle": "2023-08-08T14:50:51.195080Z",
     "shell.execute_reply": "2023-08-08T14:50:51.193949Z"
    },
    "papermill": {
     "duration": 0.035576,
     "end_time": "2023-08-08T14:50:51.197652",
     "exception": false,
     "start_time": "2023-08-08T14:50:51.162076",
     "status": "completed"
    },
    "tags": []
   },
   "outputs": [],
   "source": [
    "final_pred = dt.predict(X_test)"
   ]
  },
  {
   "cell_type": "code",
   "execution_count": 53,
   "id": "a4ac56f3",
   "metadata": {
    "execution": {
     "iopub.execute_input": "2023-08-08T14:50:51.249857Z",
     "iopub.status.busy": "2023-08-08T14:50:51.249427Z",
     "iopub.status.idle": "2023-08-08T14:50:51.255651Z",
     "shell.execute_reply": "2023-08-08T14:50:51.254798Z"
    },
    "papermill": {
     "duration": 0.034969,
     "end_time": "2023-08-08T14:50:51.257746",
     "exception": false,
     "start_time": "2023-08-08T14:50:51.222777",
     "status": "completed"
    },
    "tags": []
   },
   "outputs": [
    {
     "data": {
      "text/plain": [
       "array([0, 0, 1, 0, 1, 0, 0, 0, 0, 1, 0, 0, 0, 0, 0, 0, 0, 0, 1, 0, 0, 0,\n",
       "       0, 0, 0, 0, 1, 1, 0, 1, 1, 0, 0, 1, 1, 0, 1, 1, 0, 1, 0, 0, 0, 0,\n",
       "       0, 0, 1, 1, 0, 0, 1, 0, 0, 1, 0, 1, 0, 0, 0, 1, 0, 1, 1, 1, 0, 1,\n",
       "       1, 1, 0, 0, 0, 1, 0, 1, 1, 1, 0, 0, 1, 0, 0, 0, 0, 1])"
      ]
     },
     "execution_count": 53,
     "metadata": {},
     "output_type": "execute_result"
    }
   ],
   "source": [
    "final_pred"
   ]
  },
  {
   "cell_type": "code",
   "execution_count": 54,
   "id": "11099a29",
   "metadata": {
    "execution": {
     "iopub.execute_input": "2023-08-08T14:50:51.309968Z",
     "iopub.status.busy": "2023-08-08T14:50:51.309530Z",
     "iopub.status.idle": "2023-08-08T14:50:51.314763Z",
     "shell.execute_reply": "2023-08-08T14:50:51.313483Z"
    },
    "papermill": {
     "duration": 0.033922,
     "end_time": "2023-08-08T14:50:51.316912",
     "exception": false,
     "start_time": "2023-08-08T14:50:51.282990",
     "status": "completed"
    },
    "tags": []
   },
   "outputs": [],
   "source": [
    "final_pred=pd.DataFrame(final_pred)"
   ]
  },
  {
   "cell_type": "code",
   "execution_count": 55,
   "id": "fb102194",
   "metadata": {
    "execution": {
     "iopub.execute_input": "2023-08-08T14:50:51.371189Z",
     "iopub.status.busy": "2023-08-08T14:50:51.370379Z",
     "iopub.status.idle": "2023-08-08T14:50:51.380363Z",
     "shell.execute_reply": "2023-08-08T14:50:51.379397Z"
    },
    "papermill": {
     "duration": 0.039728,
     "end_time": "2023-08-08T14:50:51.382519",
     "exception": false,
     "start_time": "2023-08-08T14:50:51.342791",
     "status": "completed"
    },
    "tags": []
   },
   "outputs": [
    {
     "data": {
      "text/html": [
       "<div>\n",
       "<style scoped>\n",
       "    .dataframe tbody tr th:only-of-type {\n",
       "        vertical-align: middle;\n",
       "    }\n",
       "\n",
       "    .dataframe tbody tr th {\n",
       "        vertical-align: top;\n",
       "    }\n",
       "\n",
       "    .dataframe thead th {\n",
       "        text-align: right;\n",
       "    }\n",
       "</style>\n",
       "<table border=\"1\" class=\"dataframe\">\n",
       "  <thead>\n",
       "    <tr style=\"text-align: right;\">\n",
       "      <th></th>\n",
       "      <th>0</th>\n",
       "    </tr>\n",
       "  </thead>\n",
       "  <tbody>\n",
       "    <tr>\n",
       "      <th>0</th>\n",
       "      <td>0</td>\n",
       "    </tr>\n",
       "    <tr>\n",
       "      <th>1</th>\n",
       "      <td>0</td>\n",
       "    </tr>\n",
       "    <tr>\n",
       "      <th>2</th>\n",
       "      <td>1</td>\n",
       "    </tr>\n",
       "  </tbody>\n",
       "</table>\n",
       "</div>"
      ],
      "text/plain": [
       "   0\n",
       "0  0\n",
       "1  0\n",
       "2  1"
      ]
     },
     "execution_count": 55,
     "metadata": {},
     "output_type": "execute_result"
    }
   ],
   "source": [
    "final_pred.head(3)"
   ]
  },
  {
   "cell_type": "code",
   "execution_count": null,
   "id": "cfc6ad09",
   "metadata": {
    "papermill": {
     "duration": 0.027235,
     "end_time": "2023-08-08T14:50:51.437665",
     "exception": false,
     "start_time": "2023-08-08T14:50:51.410430",
     "status": "completed"
    },
    "tags": []
   },
   "outputs": [],
   "source": []
  }
 ],
 "metadata": {
  "kernelspec": {
   "display_name": "Python 3",
   "language": "python",
   "name": "python3"
  },
  "language_info": {
   "codemirror_mode": {
    "name": "ipython",
    "version": 3
   },
   "file_extension": ".py",
   "mimetype": "text/x-python",
   "name": "python",
   "nbconvert_exporter": "python",
   "pygments_lexer": "ipython3",
   "version": "3.10.12"
  },
  "papermill": {
   "default_parameters": {},
   "duration": 20.746576,
   "end_time": "2023-08-08T14:50:52.486232",
   "environment_variables": {},
   "exception": null,
   "input_path": "__notebook__.ipynb",
   "output_path": "__notebook__.ipynb",
   "parameters": {},
   "start_time": "2023-08-08T14:50:31.739656",
   "version": "2.4.0"
  }
 },
 "nbformat": 4,
 "nbformat_minor": 5
}
